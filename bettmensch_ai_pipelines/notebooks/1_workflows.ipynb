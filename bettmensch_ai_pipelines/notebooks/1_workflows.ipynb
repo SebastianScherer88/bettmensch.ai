{
 "cells": [
  {
   "cell_type": "code",
   "execution_count": 16,
   "metadata": {},
   "outputs": [],
   "source": [
    "from hera.shared import global_config\n",
    "from hera.auth import ArgoCLITokenGenerator\n",
    "\n",
    "global_config.host = \"https://localhost:2746\"\n",
    "global_config.token = ArgoCLITokenGenerator\n",
    "global_config.verify_ssl = False"
   ]
  },
  {
   "attachments": {},
   "cell_type": "markdown",
   "metadata": {},
   "source": [
    "## Kubeflow 1.2 - compiles argo workflow manifests"
   ]
  },
  {
   "cell_type": "code",
   "execution_count": 17,
   "metadata": {},
   "outputs": [
    {
     "name": "stdout",
     "output_type": "stream",
     "text": [
      "1.2.0\n"
     ]
    }
   ],
   "source": [
    "import kfp\n",
    "print(kfp.__version__)\n",
    "def flip_coin():\n",
    "    return kfp.dsl.ContainerOp(\n",
    "        name='Flip a coin',\n",
    "        image='python:alpine3.6',\n",
    "        command=['python', '-c', \"\"\"\n",
    "import random\n",
    "res = \"heads\" if random.randint(0, 1) == 0 else \"tails\"\n",
    "with open('/output', 'w') as f:\n",
    "    f.write(res)        \n",
    "        \"\"\"],\n",
    "        file_outputs={'output': '/output'}\n",
    "    )\n",
    "    \n",
    "def heads():\n",
    "    return kfp.dsl.ContainerOp(name='Heads', image=\"alpine:3.6\", command=[\"sh\", \"-c\", 'echo \"it was heads\"'])\n",
    "\n",
    "def tails():\n",
    "    return kfp.dsl.ContainerOp(name='Tails', image=\"alpine:3.6\", command=[\"sh\", \"-c\", 'echo \"it was tails\"'])\n",
    "\n",
    "@kfp.dsl.pipeline(name='Coin-flip', description='Flip a coin')\n",
    "def coin_flip_pipeline():\n",
    "    flip = flip_coin()\n",
    "    with kfp.dsl.Condition(flip.output == 'heads'):\n",
    "        heads()\n",
    "    with kfp.dsl.Condition(flip.output == 'tails'):\n",
    "        tails()"
   ]
  },
  {
   "cell_type": "code",
   "execution_count": 20,
   "metadata": {},
   "outputs": [
    {
     "name": "stderr",
     "output_type": "stream",
     "text": [
      "c:\\Users\\bettmensch\\AppData\\Local\\Programs\\Python\\Python311\\Lib\\site-packages\\kfp\\dsl\\_container_op.py:1032: FutureWarning: Please create reusable components instead of constructing ContainerOp instances directly. Reusable components are shareable, portable and have compatibility and support guarantees. Please see the documentation: https://www.kubeflow.org/docs/pipelines/sdk/component-development/#writing-your-component-definition-file The components can be created manually (or, in case of python, using kfp.components.create_component_from_func or func_to_container_op) and then loaded using kfp.components.load_component_from_file, load_component_from_uri or load_component_from_text: https://kubeflow-pipelines.readthedocs.io/en/stable/source/kfp.components.html#kfp.components.load_component_from_file\n",
      "  warnings.warn(\n"
     ]
    }
   ],
   "source": [
    "kfp.compiler.Compiler().compile(coin_flip_pipeline,'kfp-pipeline.yaml')"
   ]
  },
  {
   "attachments": {},
   "cell_type": "markdown",
   "metadata": {},
   "source": [
    "## Kubeflow 1.2 - submit pipeline"
   ]
  },
  {
   "cell_type": "code",
   "execution_count": 21,
   "metadata": {},
   "outputs": [
    {
     "name": "stderr",
     "output_type": "stream",
     "text": [
      "c:\\Users\\bettmensch\\AppData\\Local\\Programs\\Python\\Python311\\Lib\\site-packages\\urllib3\\connectionpool.py:1061: InsecureRequestWarning: Unverified HTTPS request is being made to host 'localhost'. Adding certificate verification is strongly advised. See: https://urllib3.readthedocs.io/en/1.26.x/advanced-usage.html#ssl-warnings\n",
      "  warnings.warn(\n"
     ]
    },
    {
     "data": {
      "text/plain": [
       "Workflow(api_version=None, kind=None, metadata=ObjectMeta(annotations={'pipelines.kubeflow.org/kfp_sdk_version': '1.2.0', 'pipelines.kubeflow.org/pipeline_compilation_time': '2024-04-30T23:06:24.400587', 'pipelines.kubeflow.org/pipeline_spec': '{\"description\": \"Flip a coin\", \"name\": \"Coin-flip\"}'}, cluster_name=None, creation_timestamp=Time(__root__=datetime.datetime(2024, 4, 30, 22, 7, 1, tzinfo=datetime.timezone.utc)), deletion_grace_period_seconds=None, deletion_timestamp=None, finalizers=None, generate_name='coin-flip-', generation=1, labels={'pipelines.kubeflow.org/kfp_sdk_version': '1.2.0', 'workflows.argoproj.io/creator': 'system-serviceaccount-argo-argo-server'}, managed_fields=[ManagedFieldsEntry(api_version='argoproj.io/v1alpha1', fields_type='FieldsV1', fields_v1=FieldsV1(), manager='argo', operation='Update', subresource=None, time=Time(__root__=datetime.datetime(2024, 4, 30, 22, 7, 1, tzinfo=datetime.timezone.utc)))], name='coin-flip-k6dcw', namespace='argo', owner_references=None, resource_version='41264', self_link=None, uid='a1c52af6-8209-485f-87ff-4f00b2b25657'), spec=WorkflowSpec(active_deadline_seconds=None, affinity=None, archive_logs=None, arguments=Arguments(artifacts=None, parameters=None), artifact_gc=None, artifact_repository_ref=None, automount_service_account_token=None, dns_config=None, dns_policy=None, entrypoint='coin-flip', executor=None, hooks=None, host_aliases=None, host_network=None, image_pull_secrets=None, metrics=None, node_selector=None, on_exit=None, parallelism=None, pod_disruption_budget=None, pod_gc=None, pod_metadata=None, pod_priority=None, pod_priority_class_name=None, pod_spec_patch=None, priority=None, retry_strategy=None, scheduler_name=None, security_context=None, service_account_name=None, shutdown=None, suspend=None, synchronization=None, template_defaults=None, templates=[Template(active_deadline_seconds=None, affinity=None, archive_location=None, automount_service_account_token=None, container=None, container_set=None, daemon=None, dag=DAGTemplate(fail_fast=None, target=None, tasks=[DAGTask(arguments=Arguments(artifacts=None, parameters=None), continue_on=None, dependencies=['flip-a-coin'], depends=None, hooks=None, inline=None, name='condition-1', on_exit=None, template='condition-1', template_ref=None, when='\"{{tasks.flip-a-coin.outputs.parameters.flip-a-coin-output}}\" == \"heads\"', with_items=None, with_param=None, with_sequence=None), DAGTask(arguments=Arguments(artifacts=None, parameters=None), continue_on=None, dependencies=['flip-a-coin'], depends=None, hooks=None, inline=None, name='condition-2', on_exit=None, template='condition-2', template_ref=None, when='\"{{tasks.flip-a-coin.outputs.parameters.flip-a-coin-output}}\" == \"tails\"', with_items=None, with_param=None, with_sequence=None), DAGTask(arguments=Arguments(artifacts=None, parameters=None), continue_on=None, dependencies=None, depends=None, hooks=None, inline=None, name='flip-a-coin', on_exit=None, template='flip-a-coin', template_ref=None, when=None, with_items=None, with_param=None, with_sequence=None)]), data=None, executor=None, fail_fast=None, host_aliases=None, http=None, init_containers=None, inputs=Inputs(artifacts=None, parameters=None), memoize=None, metadata=Metadata(annotations=None, labels=None), metrics=None, name='coin-flip', node_selector=None, outputs=Outputs(artifacts=None, exit_code=None, parameters=None, result=None), parallelism=None, plugin=None, pod_spec_patch=None, priority=None, priority_class_name=None, resource=None, retry_strategy=None, scheduler_name=None, script=None, security_context=None, service_account_name=None, sidecars=None, steps=None, suspend=None, synchronization=None, timeout=None, tolerations=None, volumes=None), Template(active_deadline_seconds=None, affinity=None, archive_location=None, automount_service_account_token=None, container=None, container_set=None, daemon=None, dag=DAGTemplate(fail_fast=None, target=None, tasks=[DAGTask(arguments=Arguments(artifacts=None, parameters=None), continue_on=None, dependencies=None, depends=None, hooks=None, inline=None, name='heads', on_exit=None, template='heads', template_ref=None, when=None, with_items=None, with_param=None, with_sequence=None)]), data=None, executor=None, fail_fast=None, host_aliases=None, http=None, init_containers=None, inputs=Inputs(artifacts=None, parameters=None), memoize=None, metadata=Metadata(annotations=None, labels=None), metrics=None, name='condition-1', node_selector=None, outputs=Outputs(artifacts=None, exit_code=None, parameters=None, result=None), parallelism=None, plugin=None, pod_spec_patch=None, priority=None, priority_class_name=None, resource=None, retry_strategy=None, scheduler_name=None, script=None, security_context=None, service_account_name=None, sidecars=None, steps=None, suspend=None, synchronization=None, timeout=None, tolerations=None, volumes=None), Template(active_deadline_seconds=None, affinity=None, archive_location=None, automount_service_account_token=None, container=None, container_set=None, daemon=None, dag=DAGTemplate(fail_fast=None, target=None, tasks=[DAGTask(arguments=Arguments(artifacts=None, parameters=None), continue_on=None, dependencies=None, depends=None, hooks=None, inline=None, name='tails', on_exit=None, template='tails', template_ref=None, when=None, with_items=None, with_param=None, with_sequence=None)]), data=None, executor=None, fail_fast=None, host_aliases=None, http=None, init_containers=None, inputs=Inputs(artifacts=None, parameters=None), memoize=None, metadata=Metadata(annotations=None, labels=None), metrics=None, name='condition-2', node_selector=None, outputs=Outputs(artifacts=None, exit_code=None, parameters=None, result=None), parallelism=None, plugin=None, pod_spec_patch=None, priority=None, priority_class_name=None, resource=None, retry_strategy=None, scheduler_name=None, script=None, security_context=None, service_account_name=None, sidecars=None, steps=None, suspend=None, synchronization=None, timeout=None, tolerations=None, volumes=None), Template(active_deadline_seconds=None, affinity=None, archive_location=None, automount_service_account_token=None, container=Container(args=None, command=['python', '-c', '\\nimport random\\nres = \"heads\" if random.randint(0, 1) == 0 else \"tails\"\\nwith open(\\'/output\\', \\'w\\') as f:\\n    f.write(res)        \\n        '], env=None, env_from=None, image='python:alpine3.6', image_pull_policy=None, lifecycle=None, liveness_probe=None, name='', ports=None, readiness_probe=None, resources=ResourceRequirements(limits=None, requests=None), security_context=None, startup_probe=None, stdin=None, stdin_once=None, termination_message_path=None, termination_message_policy=None, tty=None, volume_devices=None, volume_mounts=None, working_dir=None), container_set=None, daemon=None, dag=None, data=None, executor=None, fail_fast=None, host_aliases=None, http=None, init_containers=None, inputs=Inputs(artifacts=None, parameters=None), memoize=None, metadata=Metadata(annotations=None, labels=None), metrics=None, name='flip-a-coin', node_selector=None, outputs=Outputs(artifacts=[Artifact(archive=None, archive_logs=None, artifact_gc=None, artifactory=None, azure=None, deleted=None, from_=None, from_expression=None, gcs=None, git=None, global_name=None, hdfs=None, http=None, mode=None, name='flip-a-coin-output', optional=None, oss=None, path='/output', raw=None, recurse_mode=None, s3=None, sub_path=None)], exit_code=None, parameters=[Parameter(default=None, description=None, enum=None, global_name=None, name='flip-a-coin-output', value=None, value_from=ValueFrom(config_map_key_ref=None, default=None, event=None, expression=None, jq_filter=None, json_path=None, parameter=None, path='/output', supplied=None))], result=None), parallelism=None, plugin=None, pod_spec_patch=None, priority=None, priority_class_name=None, resource=None, retry_strategy=None, scheduler_name=None, script=None, security_context=None, service_account_name=None, sidecars=None, steps=None, suspend=None, synchronization=None, timeout=None, tolerations=None, volumes=None), Template(active_deadline_seconds=None, affinity=None, archive_location=None, automount_service_account_token=None, container=Container(args=None, command=['sh', '-c', 'echo \"it was heads\"'], env=None, env_from=None, image='alpine:3.6', image_pull_policy=None, lifecycle=None, liveness_probe=None, name='', ports=None, readiness_probe=None, resources=ResourceRequirements(limits=None, requests=None), security_context=None, startup_probe=None, stdin=None, stdin_once=None, termination_message_path=None, termination_message_policy=None, tty=None, volume_devices=None, volume_mounts=None, working_dir=None), container_set=None, daemon=None, dag=None, data=None, executor=None, fail_fast=None, host_aliases=None, http=None, init_containers=None, inputs=Inputs(artifacts=None, parameters=None), memoize=None, metadata=Metadata(annotations=None, labels=None), metrics=None, name='heads', node_selector=None, outputs=Outputs(artifacts=None, exit_code=None, parameters=None, result=None), parallelism=None, plugin=None, pod_spec_patch=None, priority=None, priority_class_name=None, resource=None, retry_strategy=None, scheduler_name=None, script=None, security_context=None, service_account_name=None, sidecars=None, steps=None, suspend=None, synchronization=None, timeout=None, tolerations=None, volumes=None), Template(active_deadline_seconds=None, affinity=None, archive_location=None, automount_service_account_token=None, container=Container(args=None, command=['sh', '-c', 'echo \"it was tails\"'], env=None, env_from=None, image='alpine:3.6', image_pull_policy=None, lifecycle=None, liveness_probe=None, name='', ports=None, readiness_probe=None, resources=ResourceRequirements(limits=None, requests=None), security_context=None, startup_probe=None, stdin=None, stdin_once=None, termination_message_path=None, termination_message_policy=None, tty=None, volume_devices=None, volume_mounts=None, working_dir=None), container_set=None, daemon=None, dag=None, data=None, executor=None, fail_fast=None, host_aliases=None, http=None, init_containers=None, inputs=Inputs(artifacts=None, parameters=None), memoize=None, metadata=Metadata(annotations=None, labels=None), metrics=None, name='tails', node_selector=None, outputs=Outputs(artifacts=None, exit_code=None, parameters=None, result=None), parallelism=None, plugin=None, pod_spec_patch=None, priority=None, priority_class_name=None, resource=None, retry_strategy=None, scheduler_name=None, script=None, security_context=None, service_account_name=None, sidecars=None, steps=None, suspend=None, synchronization=None, timeout=None, tolerations=None, volumes=None)], tolerations=None, ttl_strategy=None, volume_claim_gc=None, volume_claim_templates=None, volumes=None, workflow_metadata=None, workflow_template_ref=None), status=WorkflowStatus(artifact_gc_status=None, artifact_repository_ref=None, compressed_nodes=None, conditions=None, estimated_duration=None, finished_at=None, message=None, nodes=None, offload_node_status_version=None, outputs=None, persistent_volume_claims=None, phase=None, progress=None, resources_duration=None, started_at=None, stored_templates=None, stored_workflow_template_spec=None, synchronization=None, task_results_completion_status=None))"
      ]
     },
     "execution_count": 21,
     "metadata": {},
     "output_type": "execute_result"
    }
   ],
   "source": [
    "from hera.workflows import Workflow\n",
    "\n",
    "with open('kfp-pipeline.yaml','r') as kubeflow_pipeline_manifest:\n",
    "    kubeflow_pipeline = Workflow.from_yaml(kubeflow_pipeline_manifest)\n",
    "\n",
    "kubeflow_pipeline.namespace = \"argo\"\n",
    "kubeflow_pipeline.create()"
   ]
  },
  {
   "attachments": {},
   "cell_type": "markdown",
   "metadata": {},
   "source": [
    "## Hera - compiles workflow manifest"
   ]
  },
  {
   "cell_type": "code",
   "execution_count": 22,
   "metadata": {},
   "outputs": [],
   "source": [
    "from hera.workflows import Workflow, DAG, script, Artifact, Parameter\n",
    "\n",
    "@script()\n",
    "def flip_coin():\n",
    "    import random\n",
    "    res = \"heads\" if random.randint(0, 1) == 0 else \"tails\"\n",
    "    print(res)\n",
    "        \n",
    "@script()\n",
    "def heads():\n",
    "    print(\"it was heads\")\n",
    "    \n",
    "@script()\n",
    "def tails():\n",
    "    print(\"it was tail\")\n",
    "\n",
    "with Workflow(generate_name=\"flip-a-coin-\", entrypoint=\"Coin-flip\",namespace=\"argo\") as w:\n",
    "    with DAG(name=\"Coin-flip\"):\n",
    "        fc = flip_coin(name=\"Flip-a-coin\")\n",
    "        \n",
    "        heads(name=\"Heads\").on_other_result(fc, \"heads\") # accesses the stdout from the fc task and checks if its \"heads\"\n",
    "        \n",
    "        tails(name=\"Tails\").on_other_result(fc, \"tails\") # accesses the stdout from the fc task and checks if its \"tails\""
   ]
  },
  {
   "cell_type": "code",
   "execution_count": 23,
   "metadata": {},
   "outputs": [],
   "source": [
    "import yaml\n",
    "\n",
    "with open('hera-pipeline.yaml','w') as pipeline_file:\n",
    "    yaml.dump(w.to_yaml(),pipeline_file)"
   ]
  },
  {
   "attachments": {},
   "cell_type": "markdown",
   "metadata": {},
   "source": [
    "# Hera - submit pipeline"
   ]
  },
  {
   "cell_type": "code",
   "execution_count": 24,
   "metadata": {},
   "outputs": [
    {
     "name": "stderr",
     "output_type": "stream",
     "text": [
      "c:\\Users\\bettmensch\\AppData\\Local\\Programs\\Python\\Python311\\Lib\\site-packages\\urllib3\\connectionpool.py:1061: InsecureRequestWarning: Unverified HTTPS request is being made to host 'localhost'. Adding certificate verification is strongly advised. See: https://urllib3.readthedocs.io/en/1.26.x/advanced-usage.html#ssl-warnings\n",
      "  warnings.warn(\n"
     ]
    },
    {
     "data": {
      "text/plain": [
       "Workflow(api_version=None, kind=None, metadata=ObjectMeta(annotations=None, cluster_name=None, creation_timestamp=Time(__root__=datetime.datetime(2024, 4, 30, 22, 9, 9, tzinfo=datetime.timezone.utc)), deletion_grace_period_seconds=None, deletion_timestamp=None, finalizers=None, generate_name='flip-a-coin-', generation=1, labels={'workflows.argoproj.io/creator': 'system-serviceaccount-argo-argo-server'}, managed_fields=[ManagedFieldsEntry(api_version='argoproj.io/v1alpha1', fields_type='FieldsV1', fields_v1=FieldsV1(), manager='argo', operation='Update', subresource=None, time=Time(__root__=datetime.datetime(2024, 4, 30, 22, 9, 9, tzinfo=datetime.timezone.utc)))], name='flip-a-coin-6mzkt', namespace='argo', owner_references=None, resource_version='41525', self_link=None, uid='8aeb4732-1890-49b3-a3cc-7a203323e41b'), spec=WorkflowSpec(active_deadline_seconds=None, affinity=None, archive_logs=None, arguments=Arguments(artifacts=None, parameters=None), artifact_gc=None, artifact_repository_ref=None, automount_service_account_token=None, dns_config=None, dns_policy=None, entrypoint='Coin-flip', executor=None, hooks=None, host_aliases=None, host_network=None, image_pull_secrets=None, metrics=None, node_selector=None, on_exit=None, parallelism=None, pod_disruption_budget=None, pod_gc=None, pod_metadata=None, pod_priority=None, pod_priority_class_name=None, pod_spec_patch=None, priority=None, retry_strategy=None, scheduler_name=None, security_context=None, service_account_name=None, shutdown=None, suspend=None, synchronization=None, template_defaults=None, templates=[Template(active_deadline_seconds=None, affinity=None, archive_location=None, automount_service_account_token=None, container=None, container_set=None, daemon=None, dag=DAGTemplate(fail_fast=None, target=None, tasks=[DAGTask(arguments=Arguments(artifacts=None, parameters=None), continue_on=None, dependencies=None, depends=None, hooks=None, inline=None, name='Flip-a-coin', on_exit=None, template='flip-coin', template_ref=None, when=None, with_items=None, with_param=None, with_sequence=None), DAGTask(arguments=Arguments(artifacts=None, parameters=None), continue_on=None, dependencies=None, depends='Flip-a-coin', hooks=None, inline=None, name='Heads', on_exit=None, template='heads', template_ref=None, when='{{tasks.Flip-a-coin.outputs.result}} == heads', with_items=None, with_param=None, with_sequence=None), DAGTask(arguments=Arguments(artifacts=None, parameters=None), continue_on=None, dependencies=None, depends='Flip-a-coin', hooks=None, inline=None, name='Tails', on_exit=None, template='tails', template_ref=None, when='{{tasks.Flip-a-coin.outputs.result}} == tails', with_items=None, with_param=None, with_sequence=None)]), data=None, executor=None, fail_fast=None, host_aliases=None, http=None, init_containers=None, inputs=Inputs(artifacts=None, parameters=None), memoize=None, metadata=Metadata(annotations=None, labels=None), metrics=None, name='Coin-flip', node_selector=None, outputs=Outputs(artifacts=None, exit_code=None, parameters=None, result=None), parallelism=None, plugin=None, pod_spec_patch=None, priority=None, priority_class_name=None, resource=None, retry_strategy=None, scheduler_name=None, script=None, security_context=None, service_account_name=None, sidecars=None, steps=None, suspend=None, synchronization=None, timeout=None, tolerations=None, volumes=None), Template(active_deadline_seconds=None, affinity=None, archive_location=None, automount_service_account_token=None, container=None, container_set=None, daemon=None, dag=None, data=None, executor=None, fail_fast=None, host_aliases=None, http=None, init_containers=None, inputs=Inputs(artifacts=None, parameters=None), memoize=None, metadata=Metadata(annotations=None, labels=None), metrics=None, name='flip-coin', node_selector=None, outputs=Outputs(artifacts=None, exit_code=None, parameters=None, result=None), parallelism=None, plugin=None, pod_spec_patch=None, priority=None, priority_class_name=None, resource=None, retry_strategy=None, scheduler_name=None, script=ScriptTemplate(args=None, command=['python'], env=None, env_from=None, image='python:3.8', image_pull_policy=None, lifecycle=None, liveness_probe=None, name='', ports=None, readiness_probe=None, resources=ResourceRequirements(limits=None, requests=None), security_context=None, source=\"import os\\nimport sys\\nsys.path.append(os.getcwd())\\nimport random\\nres = 'heads' if random.randint(0, 1) == 0 else 'tails'\\nprint(res)\", startup_probe=None, stdin=None, stdin_once=None, termination_message_path=None, termination_message_policy=None, tty=None, volume_devices=None, volume_mounts=None, working_dir=None), security_context=None, service_account_name=None, sidecars=None, steps=None, suspend=None, synchronization=None, timeout=None, tolerations=None, volumes=None), Template(active_deadline_seconds=None, affinity=None, archive_location=None, automount_service_account_token=None, container=None, container_set=None, daemon=None, dag=None, data=None, executor=None, fail_fast=None, host_aliases=None, http=None, init_containers=None, inputs=Inputs(artifacts=None, parameters=None), memoize=None, metadata=Metadata(annotations=None, labels=None), metrics=None, name='heads', node_selector=None, outputs=Outputs(artifacts=None, exit_code=None, parameters=None, result=None), parallelism=None, plugin=None, pod_spec_patch=None, priority=None, priority_class_name=None, resource=None, retry_strategy=None, scheduler_name=None, script=ScriptTemplate(args=None, command=['python'], env=None, env_from=None, image='python:3.8', image_pull_policy=None, lifecycle=None, liveness_probe=None, name='', ports=None, readiness_probe=None, resources=ResourceRequirements(limits=None, requests=None), security_context=None, source=\"import os\\nimport sys\\nsys.path.append(os.getcwd())\\nprint('it was heads')\", startup_probe=None, stdin=None, stdin_once=None, termination_message_path=None, termination_message_policy=None, tty=None, volume_devices=None, volume_mounts=None, working_dir=None), security_context=None, service_account_name=None, sidecars=None, steps=None, suspend=None, synchronization=None, timeout=None, tolerations=None, volumes=None), Template(active_deadline_seconds=None, affinity=None, archive_location=None, automount_service_account_token=None, container=None, container_set=None, daemon=None, dag=None, data=None, executor=None, fail_fast=None, host_aliases=None, http=None, init_containers=None, inputs=Inputs(artifacts=None, parameters=None), memoize=None, metadata=Metadata(annotations=None, labels=None), metrics=None, name='tails', node_selector=None, outputs=Outputs(artifacts=None, exit_code=None, parameters=None, result=None), parallelism=None, plugin=None, pod_spec_patch=None, priority=None, priority_class_name=None, resource=None, retry_strategy=None, scheduler_name=None, script=ScriptTemplate(args=None, command=['python'], env=None, env_from=None, image='python:3.8', image_pull_policy=None, lifecycle=None, liveness_probe=None, name='', ports=None, readiness_probe=None, resources=ResourceRequirements(limits=None, requests=None), security_context=None, source=\"import os\\nimport sys\\nsys.path.append(os.getcwd())\\nprint('it was tail')\", startup_probe=None, stdin=None, stdin_once=None, termination_message_path=None, termination_message_policy=None, tty=None, volume_devices=None, volume_mounts=None, working_dir=None), security_context=None, service_account_name=None, sidecars=None, steps=None, suspend=None, synchronization=None, timeout=None, tolerations=None, volumes=None)], tolerations=None, ttl_strategy=None, volume_claim_gc=None, volume_claim_templates=None, volumes=None, workflow_metadata=None, workflow_template_ref=None), status=WorkflowStatus(artifact_gc_status=None, artifact_repository_ref=None, compressed_nodes=None, conditions=None, estimated_duration=None, finished_at=None, message=None, nodes=None, offload_node_status_version=None, outputs=None, persistent_volume_claims=None, phase=None, progress=None, resources_duration=None, started_at=None, stored_templates=None, stored_workflow_template_spec=None, synchronization=None, task_results_completion_status=None))"
      ]
     },
     "execution_count": 24,
     "metadata": {},
     "output_type": "execute_result"
    }
   ],
   "source": [
    "w.create()"
   ]
  },
  {
   "cell_type": "code",
   "execution_count": null,
   "metadata": {},
   "outputs": [],
   "source": []
  }
 ],
 "metadata": {
  "kernelspec": {
   "display_name": "Python 3",
   "language": "python",
   "name": "python3"
  },
  "language_info": {
   "codemirror_mode": {
    "name": "ipython",
    "version": 3
   },
   "file_extension": ".py",
   "mimetype": "text/x-python",
   "name": "python",
   "nbconvert_exporter": "python",
   "pygments_lexer": "ipython3",
   "version": "3.11.8"
  },
  "orig_nbformat": 4
 },
 "nbformat": 4,
 "nbformat_minor": 2
}
