{
 "cells": [
  {
   "cell_type": "code",
   "execution_count": 1,
   "metadata": {},
   "outputs": [],
   "source": [
    "from hera.shared import global_config\n",
    "from hera.auth import ArgoCLITokenGenerator\n",
    "\n",
    "global_config.host = \"https://localhost:2746\"\n",
    "global_config.token = ArgoCLITokenGenerator\n",
    "global_config.verify_ssl = False"
   ]
  },
  {
   "attachments": {},
   "cell_type": "markdown",
   "metadata": {},
   "source": [
    "## Hera - compiles workflow template manifest (i.e. define `Flow`)\n",
    "\n",
    "WorkFlowTemplates crucially allow the definition of parameters as input variables to the entire workflow *without specifying a value*. You can also specify the default value, but it is possible to omit in cases where a sensible value just doesnt apply.\n",
    "\n",
    "Submitting these WorkFlow templates doesnt execute anything on the ArgoWorkflow engine, but rather adds a template that future `Workflow`s can be derived from, together with configurable workflow input parameters.\n",
    "\n",
    "This allows for the following entity mapping between bettmensch.ai pipelines and ArgoWorkflow resources:\n",
    "\n",
    "| bettmensch.ai | ArgoWorkflow      |\n",
    "| --------------|-------------------|\n",
    "| `Flow`        | `WorkflowTemplate`|\n",
    "| `Run`         | `Workflow`        |"
   ]
  },
  {
   "cell_type": "code",
   "execution_count": 54,
   "metadata": {},
   "outputs": [],
   "source": [
    "from hera.workflows import WorkflowTemplate, DAG, script, Parameter, models as m\n",
    "\n",
    "@script(outputs=[Parameter(name=\"sum\",value_from=m.ValueFrom(path=\"./sum.txt\"))])\n",
    "def add(a: float, b: float):\n",
    "    with open('./sum.txt','w') as output:\n",
    "        output.write(str(a + b))\n",
    "        \n",
    "@script(outputs=[Parameter(name=\"difference\",value_from=m.ValueFrom(path=\"./difference.txt\"))])\n",
    "def subtract(a: float, b: float):\n",
    "    with open('./difference.txt','w') as output:\n",
    "        output.write(str(a - b))\n",
    "        \n",
    "@script(outputs=[Parameter(name=\"product\",value_from=m.ValueFrom(path=\"./product.txt\"))])\n",
    "def multiply(a: float, b: float):\n",
    "    with open('./product.txt','w') as output:\n",
    "        output.write(str(a * b))\n",
    "\n",
    "dag_name = \"2ab-minus-bcd\"\n",
    "\n",
    "with WorkflowTemplate(\n",
    "    generate_name=\"2ab-minus-bcd-\", \n",
    "    entrypoint=dag_name,\n",
    "    namespace=\"argo\",\n",
    "    arguments=[Parameter(name=\"a\"),Parameter(name=\"b\"),Parameter(name=\"c\"),Parameter(name=\"d\")],\n",
    "    # the Workflow referencing this template inherits the `spec` level `workflow_metadata` field from this WorkflowTemplate, so\n",
    "    # when submitting via .create(), the workflow metadata does get merged into the Workflow CRD manifest before being applied to the K8s cluster\n",
    "    workflow_metadata={\n",
    "        'annotations':{'annotation_key_a':'annotation_value_a'},\n",
    "        'labels':{'label_key_a':'label_value_a'}\n",
    "    },\n",
    "    # the Workflow referencing this template inherits the `spec` level `pod_metadata` field from this WorkflowTemplate, so\n",
    "    # when submitting via .create(), the workflow metadata does get merged into the Pod manifest(s) before being applied to the K8s cluster.\n",
    "    # for whatever reason, the (apparently?) pod level manifests shown on the ArgoWorkflow server dashboard do not show this\n",
    "    pod_metadata={ \n",
    "        'annotations':{'annotation_key_b':'annotation_value_b'},\n",
    "        'labels':{'label_key_b':'label_value_b'}\n",
    "    }) as wt:\n",
    "    \n",
    "    wt_a, wt_b, wt_c, wt_d = wt.get_parameter('a').value,wt.get_parameter('b').value,wt.get_parameter('c').value,wt.get_parameter('d').value \n",
    "    \n",
    "    with DAG(name=dag_name):\n",
    "        double_a = multiply(\n",
    "            name=\"multiply-2-and-a\",arguments=[\n",
    "                Parameter(name=\"a\",value=2), \n",
    "                Parameter(name=\"b\",value=wt_a)\n",
    "            ]\n",
    "        )\n",
    "        bc = multiply(\n",
    "            name=\"multiply-b-and-c\",arguments=[\n",
    "                Parameter(name=\"a\",value=wt_b),\n",
    "                Parameter(name=\"b\",value=wt_c)\n",
    "            ]\n",
    "        )\n",
    "        double_ab = multiply(\n",
    "            name=\"multiply-2a-and-b\",arguments=[\n",
    "                Parameter(name=\"a\",value=double_a.get_parameter('product').value),\n",
    "                Parameter(name=\"b\",value=wt_b)\n",
    "            ]\n",
    "        )\n",
    "        bcd = multiply(\n",
    "            name=\"multiply-bc-and-d\",arguments=[\n",
    "                Parameter(name=\"a\",value=bc.get_parameter('product').value),\n",
    "                Parameter(name=\"b\",value=wt_d)\n",
    "            ]\n",
    "        )\n",
    "        double_ab_minus_bcd = subtract(\n",
    "            name=\"subtract-2ab-and-bcd\",arguments=[\n",
    "                Parameter(name=\"a\",value=double_ab.get_parameter('product').value),\n",
    "                Parameter(name=\"b\",value=bcd.get_parameter('product').value)\n",
    "            ],    \n",
    "        )\n",
    "        \n",
    "        double_a >> double_ab\n",
    "        bc >> bcd\n",
    "        [double_ab, bcd] >> double_ab_minus_bcd       "
   ]
  },
  {
   "cell_type": "code",
   "execution_count": 55,
   "metadata": {},
   "outputs": [],
   "source": [
    "import yaml\n",
    "\n",
    "with open('hera-template-3.2.yaml','w') as pipeline_file:\n",
    "    yaml.dump(wt.to_yaml(),pipeline_file)"
   ]
  },
  {
   "attachments": {},
   "cell_type": "markdown",
   "metadata": {},
   "source": [
    "# Hera - submit Workflow template (i.e. submit `Flow`)"
   ]
  },
  {
   "cell_type": "code",
   "execution_count": 56,
   "metadata": {},
   "outputs": [
    {
     "name": "stderr",
     "output_type": "stream",
     "text": [
      "c:\\Users\\bettmensch\\AppData\\Local\\Programs\\Python\\Python311\\Lib\\site-packages\\urllib3\\connectionpool.py:1061: InsecureRequestWarning: Unverified HTTPS request is being made to host 'localhost'. Adding certificate verification is strongly advised. See: https://urllib3.readthedocs.io/en/1.26.x/advanced-usage.html#ssl-warnings\n",
      "  warnings.warn(\n"
     ]
    }
   ],
   "source": [
    "response = wt.create()\n",
    "wt_name = response.metadata.name"
   ]
  },
  {
   "attachments": {},
   "cell_type": "markdown",
   "metadata": {},
   "source": [
    "# Hera - generate workflow from template (i.e. configure `Run`)"
   ]
  },
  {
   "cell_type": "code",
   "execution_count": 57,
   "metadata": {},
   "outputs": [],
   "source": [
    "from hera.workflows import Workflow\n",
    "from hera.workflows.models import WorkflowTemplateRef\n",
    "\n",
    "# using the workflow template reference\n",
    "wt_ref = WorkflowTemplateRef(name=wt_name)\n",
    "\n",
    "w1 = Workflow(\n",
    "    generate_name=f\"{wt_name}-expect-20-\",\n",
    "    workflow_template_ref=wt_ref,\n",
    "    namespace=\"argo\",\n",
    "    arguments=[\n",
    "        Parameter(name=\"a\",value='1'),\n",
    "        Parameter(name=\"b\",value='2'),\n",
    "        Parameter(name=\"c\",value='3'),\n",
    "        Parameter(name=\"d\",value='4')\n",
    "    ]\n",
    ") # -20\n",
    "\n",
    "w2 = Workflow(\n",
    "    generate_name=f\"{wt_name}-expect-0-\",\n",
    "    workflow_template_ref=wt_ref,\n",
    "    namespace=\"argo\",\n",
    "    arguments=[\n",
    "        Parameter(name=\"a\",value='1.5'),\n",
    "        Parameter(name=\"b\",value='2'),\n",
    "        Parameter(name=\"c\",value='1.5'),\n",
    "        Parameter(name=\"d\",value='2')\n",
    "    ]\n",
    ") # 0"
   ]
  },
  {
   "attachments": {},
   "cell_type": "markdown",
   "metadata": {},
   "source": [
    "# Hera - submit workflow (i.e. execute `Run`)"
   ]
  },
  {
   "cell_type": "code",
   "execution_count": 58,
   "metadata": {},
   "outputs": [
    {
     "name": "stderr",
     "output_type": "stream",
     "text": [
      "c:\\Users\\bettmensch\\AppData\\Local\\Programs\\Python\\Python311\\Lib\\site-packages\\urllib3\\connectionpool.py:1061: InsecureRequestWarning: Unverified HTTPS request is being made to host 'localhost'. Adding certificate verification is strongly advised. See: https://urllib3.readthedocs.io/en/1.26.x/advanced-usage.html#ssl-warnings\n",
      "  warnings.warn(\n",
      "c:\\Users\\bettmensch\\AppData\\Local\\Programs\\Python\\Python311\\Lib\\site-packages\\urllib3\\connectionpool.py:1061: InsecureRequestWarning: Unverified HTTPS request is being made to host 'localhost'. Adding certificate verification is strongly advised. See: https://urllib3.readthedocs.io/en/1.26.x/advanced-usage.html#ssl-warnings\n",
      "  warnings.warn(\n"
     ]
    },
    {
     "name": "stdout",
     "output_type": "stream",
     "text": [
      "api_version=None kind=None metadata=ObjectMeta(annotations=None, cluster_name=None, creation_timestamp=Time(__root__=datetime.datetime(2024, 5, 3, 11, 18, 11, tzinfo=datetime.timezone.utc)), deletion_grace_period_seconds=None, deletion_timestamp=None, finalizers=None, generate_name='2ab-minus-bcd-7vt8p-expect-20-', generation=1, labels={'workflows.argoproj.io/creator': 'system-serviceaccount-argo-argo-server'}, managed_fields=[ManagedFieldsEntry(api_version='argoproj.io/v1alpha1', fields_type='FieldsV1', fields_v1=FieldsV1(), manager='argo', operation='Update', subresource=None, time=Time(__root__=datetime.datetime(2024, 5, 3, 11, 18, 11, tzinfo=datetime.timezone.utc)))], name='2ab-minus-bcd-7vt8p-expect-20-g7lg8', namespace='argo', owner_references=None, resource_version='166973', self_link=None, uid='e7195650-d09e-4cdc-af58-fee171a1f176') spec=WorkflowSpec(active_deadline_seconds=None, affinity=None, archive_logs=None, arguments=Arguments(artifacts=None, parameters=[Parameter(default=None, description=None, enum=None, global_name=None, name='a', value='1', value_from=None), Parameter(default=None, description=None, enum=None, global_name=None, name='b', value='2', value_from=None), Parameter(default=None, description=None, enum=None, global_name=None, name='c', value='3', value_from=None), Parameter(default=None, description=None, enum=None, global_name=None, name='d', value='4', value_from=None)]), artifact_gc=None, artifact_repository_ref=None, automount_service_account_token=None, dns_config=None, dns_policy=None, entrypoint=None, executor=None, hooks=None, host_aliases=None, host_network=None, image_pull_secrets=None, metrics=None, node_selector=None, on_exit=None, parallelism=None, pod_disruption_budget=None, pod_gc=None, pod_metadata=None, pod_priority=None, pod_priority_class_name=None, pod_spec_patch=None, priority=None, retry_strategy=None, scheduler_name=None, security_context=None, service_account_name=None, shutdown=None, suspend=None, synchronization=None, template_defaults=None, templates=None, tolerations=None, ttl_strategy=None, volume_claim_gc=None, volume_claim_templates=None, volumes=None, workflow_metadata=None, workflow_template_ref=WorkflowTemplateRef(cluster_scope=None, name='2ab-minus-bcd-7vt8p')) status=WorkflowStatus(artifact_gc_status=None, artifact_repository_ref=None, compressed_nodes=None, conditions=None, estimated_duration=None, finished_at=None, message=None, nodes=None, offload_node_status_version=None, outputs=None, persistent_volume_claims=None, phase=None, progress=None, resources_duration=None, started_at=None, stored_templates={'namespaced/2ab-minus-bcd-7vt8p/2ab-minus-bcd': Template(active_deadline_seconds=None, affinity=None, archive_location=None, automount_service_account_token=None, container=None, container_set=None, daemon=None, dag=DAGTemplate(fail_fast=None, target=None, tasks=[DAGTask(arguments=Arguments(artifacts=None, parameters=[Parameter(default=None, description=None, enum=None, global_name=None, name='a', value='2', value_from=None), Parameter(default=None, description=None, enum=None, global_name=None, name='b', value='{{workflow.parameters.a}}', value_from=None)]), continue_on=None, dependencies=None, depends=None, hooks=None, inline=None, name='multiply-2-and-a', on_exit=None, template='multiply', template_ref=None, when=None, with_items=None, with_param=None, with_sequence=None), DAGTask(arguments=Arguments(artifacts=None, parameters=[Parameter(default=None, description=None, enum=None, global_name=None, name='a', value='{{workflow.parameters.b}}', value_from=None), Parameter(default=None, description=None, enum=None, global_name=None, name='b', value='{{workflow.parameters.c}}', value_from=None)]), continue_on=None, dependencies=None, depends=None, hooks=None, inline=None, name='multiply-b-and-c', on_exit=None, template='multiply', template_ref=None, when=None, with_items=None, with_param=None, with_sequence=None), DAGTask(arguments=Arguments(artifacts=None, parameters=[Parameter(default=None, description=None, enum=None, global_name=None, name='a', value='{{tasks.multiply-2-and-a.outputs.parameters.product}}', value_from=None), Parameter(default=None, description=None, enum=None, global_name=None, name='b', value='{{workflow.parameters.b}}', value_from=None)]), continue_on=None, dependencies=None, depends='multiply-2-and-a', hooks=None, inline=None, name='multiply-2a-and-b', on_exit=None, template='multiply', template_ref=None, when=None, with_items=None, with_param=None, with_sequence=None), DAGTask(arguments=Arguments(artifacts=None, parameters=[Parameter(default=None, description=None, enum=None, global_name=None, name='a', value='{{tasks.multiply-b-and-c.outputs.parameters.product}}', value_from=None), Parameter(default=None, description=None, enum=None, global_name=None, name='b', value='{{workflow.parameters.d}}', value_from=None)]), continue_on=None, dependencies=None, depends='multiply-b-and-c', hooks=None, inline=None, name='multiply-bc-and-d', on_exit=None, template='multiply', template_ref=None, when=None, with_items=None, with_param=None, with_sequence=None), DAGTask(arguments=Arguments(artifacts=None, parameters=[Parameter(default=None, description=None, enum=None, global_name=None, name='a', value='{{tasks.multiply-2a-and-b.outputs.parameters.product}}', value_from=None), Parameter(default=None, description=None, enum=None, global_name=None, name='b', value='{{tasks.multiply-bc-and-d.outputs.parameters.product}}', value_from=None)]), continue_on=None, dependencies=None, depends='multiply-2a-and-b && multiply-bc-and-d', hooks=None, inline=None, name='subtract-2ab-and-bcd', on_exit=None, template='subtract', template_ref=None, when=None, with_items=None, with_param=None, with_sequence=None)]), data=None, executor=None, fail_fast=None, host_aliases=None, http=None, init_containers=None, inputs=Inputs(artifacts=None, parameters=None), memoize=None, metadata=Metadata(annotations=None, labels=None), metrics=None, name='2ab-minus-bcd', node_selector=None, outputs=Outputs(artifacts=None, exit_code=None, parameters=None, result=None), parallelism=None, plugin=None, pod_spec_patch=None, priority=None, priority_class_name=None, resource=None, retry_strategy=None, scheduler_name=None, script=None, security_context=None, service_account_name=None, sidecars=None, steps=None, suspend=None, synchronization=None, timeout=None, tolerations=None, volumes=None), 'namespaced/2ab-minus-bcd-7vt8p/multiply': Template(active_deadline_seconds=None, affinity=None, archive_location=None, automount_service_account_token=None, container=None, container_set=None, daemon=None, dag=None, data=None, executor=None, fail_fast=None, host_aliases=None, http=None, init_containers=None, inputs=Inputs(artifacts=None, parameters=[Parameter(default=None, description=None, enum=None, global_name=None, name='a', value=None, value_from=None), Parameter(default=None, description=None, enum=None, global_name=None, name='b', value=None, value_from=None)]), memoize=None, metadata=Metadata(annotations=None, labels=None), metrics=None, name='multiply', node_selector=None, outputs=Outputs(artifacts=None, exit_code=None, parameters=[Parameter(default=None, description=None, enum=None, global_name=None, name='product', value=None, value_from=ValueFrom(config_map_key_ref=None, default=None, event=None, expression=None, jq_filter=None, json_path=None, parameter=None, path='./product.txt', supplied=None))], result=None), parallelism=None, plugin=None, pod_spec_patch=None, priority=None, priority_class_name=None, resource=None, retry_strategy=None, scheduler_name=None, script=ScriptTemplate(args=None, command=['python'], env=None, env_from=None, image='python:3.8', image_pull_policy=None, lifecycle=None, liveness_probe=None, name='', ports=None, readiness_probe=None, resources=ResourceRequirements(limits=None, requests=None), security_context=None, source=\"import os\\nimport sys\\nsys.path.append(os.getcwd())\\nimport json\\ntry: a = json.loads(r'''{{inputs.parameters.a}}''')\\nexcept: a = r'''{{inputs.parameters.a}}'''\\ntry: b = json.loads(r'''{{inputs.parameters.b}}''')\\nexcept: b = r'''{{inputs.parameters.b}}'''\\n\\nwith open('./product.txt', 'w') as output:\\n    output.write(str(a * b))\", startup_probe=None, stdin=None, stdin_once=None, termination_message_path=None, termination_message_policy=None, tty=None, volume_devices=None, volume_mounts=None, working_dir=None), security_context=None, service_account_name=None, sidecars=None, steps=None, suspend=None, synchronization=None, timeout=None, tolerations=None, volumes=None), 'namespaced/2ab-minus-bcd-7vt8p/subtract': Template(active_deadline_seconds=None, affinity=None, archive_location=None, automount_service_account_token=None, container=None, container_set=None, daemon=None, dag=None, data=None, executor=None, fail_fast=None, host_aliases=None, http=None, init_containers=None, inputs=Inputs(artifacts=None, parameters=[Parameter(default=None, description=None, enum=None, global_name=None, name='a', value=None, value_from=None), Parameter(default=None, description=None, enum=None, global_name=None, name='b', value=None, value_from=None)]), memoize=None, metadata=Metadata(annotations=None, labels=None), metrics=None, name='subtract', node_selector=None, outputs=Outputs(artifacts=None, exit_code=None, parameters=[Parameter(default=None, description=None, enum=None, global_name=None, name='difference', value=None, value_from=ValueFrom(config_map_key_ref=None, default=None, event=None, expression=None, jq_filter=None, json_path=None, parameter=None, path='./difference.txt', supplied=None))], result=None), parallelism=None, plugin=None, pod_spec_patch=None, priority=None, priority_class_name=None, resource=None, retry_strategy=None, scheduler_name=None, script=ScriptTemplate(args=None, command=['python'], env=None, env_from=None, image='python:3.8', image_pull_policy=None, lifecycle=None, liveness_probe=None, name='', ports=None, readiness_probe=None, resources=ResourceRequirements(limits=None, requests=None), security_context=None, source=\"import os\\nimport sys\\nsys.path.append(os.getcwd())\\nimport json\\ntry: a = json.loads(r'''{{inputs.parameters.a}}''')\\nexcept: a = r'''{{inputs.parameters.a}}'''\\ntry: b = json.loads(r'''{{inputs.parameters.b}}''')\\nexcept: b = r'''{{inputs.parameters.b}}'''\\n\\nwith open('./difference.txt', 'w') as output:\\n    output.write(str(a - b))\", startup_probe=None, stdin=None, stdin_once=None, termination_message_path=None, termination_message_policy=None, tty=None, volume_devices=None, volume_mounts=None, working_dir=None), security_context=None, service_account_name=None, sidecars=None, steps=None, suspend=None, synchronization=None, timeout=None, tolerations=None, volumes=None)}, stored_workflow_template_spec=None, synchronization=None, task_results_completion_status=None)\n",
      "api_version=None kind=None metadata=ObjectMeta(annotations=None, cluster_name=None, creation_timestamp=Time(__root__=datetime.datetime(2024, 5, 3, 11, 18, 13, tzinfo=datetime.timezone.utc)), deletion_grace_period_seconds=None, deletion_timestamp=None, finalizers=None, generate_name='2ab-minus-bcd-7vt8p-expect-0-', generation=1, labels={'workflows.argoproj.io/creator': 'system-serviceaccount-argo-argo-server'}, managed_fields=[ManagedFieldsEntry(api_version='argoproj.io/v1alpha1', fields_type='FieldsV1', fields_v1=FieldsV1(), manager='argo', operation='Update', subresource=None, time=Time(__root__=datetime.datetime(2024, 5, 3, 11, 18, 13, tzinfo=datetime.timezone.utc)))], name='2ab-minus-bcd-7vt8p-expect-0-fq76d', namespace='argo', owner_references=None, resource_version='166994', self_link=None, uid='fb8e4009-0ac0-4828-86b5-38650fc59325') spec=WorkflowSpec(active_deadline_seconds=None, affinity=None, archive_logs=None, arguments=Arguments(artifacts=None, parameters=[Parameter(default=None, description=None, enum=None, global_name=None, name='a', value='1.5', value_from=None), Parameter(default=None, description=None, enum=None, global_name=None, name='b', value='2', value_from=None), Parameter(default=None, description=None, enum=None, global_name=None, name='c', value='1.5', value_from=None), Parameter(default=None, description=None, enum=None, global_name=None, name='d', value='2', value_from=None)]), artifact_gc=None, artifact_repository_ref=None, automount_service_account_token=None, dns_config=None, dns_policy=None, entrypoint=None, executor=None, hooks=None, host_aliases=None, host_network=None, image_pull_secrets=None, metrics=None, node_selector=None, on_exit=None, parallelism=None, pod_disruption_budget=None, pod_gc=None, pod_metadata=None, pod_priority=None, pod_priority_class_name=None, pod_spec_patch=None, priority=None, retry_strategy=None, scheduler_name=None, security_context=None, service_account_name=None, shutdown=None, suspend=None, synchronization=None, template_defaults=None, templates=None, tolerations=None, ttl_strategy=None, volume_claim_gc=None, volume_claim_templates=None, volumes=None, workflow_metadata=None, workflow_template_ref=WorkflowTemplateRef(cluster_scope=None, name='2ab-minus-bcd-7vt8p')) status=WorkflowStatus(artifact_gc_status=None, artifact_repository_ref=None, compressed_nodes=None, conditions=None, estimated_duration=None, finished_at=None, message=None, nodes=None, offload_node_status_version=None, outputs=None, persistent_volume_claims=None, phase=None, progress=None, resources_duration=None, started_at=None, stored_templates={'namespaced/2ab-minus-bcd-7vt8p/2ab-minus-bcd': Template(active_deadline_seconds=None, affinity=None, archive_location=None, automount_service_account_token=None, container=None, container_set=None, daemon=None, dag=DAGTemplate(fail_fast=None, target=None, tasks=[DAGTask(arguments=Arguments(artifacts=None, parameters=[Parameter(default=None, description=None, enum=None, global_name=None, name='a', value='2', value_from=None), Parameter(default=None, description=None, enum=None, global_name=None, name='b', value='{{workflow.parameters.a}}', value_from=None)]), continue_on=None, dependencies=None, depends=None, hooks=None, inline=None, name='multiply-2-and-a', on_exit=None, template='multiply', template_ref=None, when=None, with_items=None, with_param=None, with_sequence=None), DAGTask(arguments=Arguments(artifacts=None, parameters=[Parameter(default=None, description=None, enum=None, global_name=None, name='a', value='{{workflow.parameters.b}}', value_from=None), Parameter(default=None, description=None, enum=None, global_name=None, name='b', value='{{workflow.parameters.c}}', value_from=None)]), continue_on=None, dependencies=None, depends=None, hooks=None, inline=None, name='multiply-b-and-c', on_exit=None, template='multiply', template_ref=None, when=None, with_items=None, with_param=None, with_sequence=None), DAGTask(arguments=Arguments(artifacts=None, parameters=[Parameter(default=None, description=None, enum=None, global_name=None, name='a', value='{{tasks.multiply-2-and-a.outputs.parameters.product}}', value_from=None), Parameter(default=None, description=None, enum=None, global_name=None, name='b', value='{{workflow.parameters.b}}', value_from=None)]), continue_on=None, dependencies=None, depends='multiply-2-and-a', hooks=None, inline=None, name='multiply-2a-and-b', on_exit=None, template='multiply', template_ref=None, when=None, with_items=None, with_param=None, with_sequence=None), DAGTask(arguments=Arguments(artifacts=None, parameters=[Parameter(default=None, description=None, enum=None, global_name=None, name='a', value='{{tasks.multiply-b-and-c.outputs.parameters.product}}', value_from=None), Parameter(default=None, description=None, enum=None, global_name=None, name='b', value='{{workflow.parameters.d}}', value_from=None)]), continue_on=None, dependencies=None, depends='multiply-b-and-c', hooks=None, inline=None, name='multiply-bc-and-d', on_exit=None, template='multiply', template_ref=None, when=None, with_items=None, with_param=None, with_sequence=None), DAGTask(arguments=Arguments(artifacts=None, parameters=[Parameter(default=None, description=None, enum=None, global_name=None, name='a', value='{{tasks.multiply-2a-and-b.outputs.parameters.product}}', value_from=None), Parameter(default=None, description=None, enum=None, global_name=None, name='b', value='{{tasks.multiply-bc-and-d.outputs.parameters.product}}', value_from=None)]), continue_on=None, dependencies=None, depends='multiply-2a-and-b && multiply-bc-and-d', hooks=None, inline=None, name='subtract-2ab-and-bcd', on_exit=None, template='subtract', template_ref=None, when=None, with_items=None, with_param=None, with_sequence=None)]), data=None, executor=None, fail_fast=None, host_aliases=None, http=None, init_containers=None, inputs=Inputs(artifacts=None, parameters=None), memoize=None, metadata=Metadata(annotations=None, labels=None), metrics=None, name='2ab-minus-bcd', node_selector=None, outputs=Outputs(artifacts=None, exit_code=None, parameters=None, result=None), parallelism=None, plugin=None, pod_spec_patch=None, priority=None, priority_class_name=None, resource=None, retry_strategy=None, scheduler_name=None, script=None, security_context=None, service_account_name=None, sidecars=None, steps=None, suspend=None, synchronization=None, timeout=None, tolerations=None, volumes=None), 'namespaced/2ab-minus-bcd-7vt8p/multiply': Template(active_deadline_seconds=None, affinity=None, archive_location=None, automount_service_account_token=None, container=None, container_set=None, daemon=None, dag=None, data=None, executor=None, fail_fast=None, host_aliases=None, http=None, init_containers=None, inputs=Inputs(artifacts=None, parameters=[Parameter(default=None, description=None, enum=None, global_name=None, name='a', value=None, value_from=None), Parameter(default=None, description=None, enum=None, global_name=None, name='b', value=None, value_from=None)]), memoize=None, metadata=Metadata(annotations=None, labels=None), metrics=None, name='multiply', node_selector=None, outputs=Outputs(artifacts=None, exit_code=None, parameters=[Parameter(default=None, description=None, enum=None, global_name=None, name='product', value=None, value_from=ValueFrom(config_map_key_ref=None, default=None, event=None, expression=None, jq_filter=None, json_path=None, parameter=None, path='./product.txt', supplied=None))], result=None), parallelism=None, plugin=None, pod_spec_patch=None, priority=None, priority_class_name=None, resource=None, retry_strategy=None, scheduler_name=None, script=ScriptTemplate(args=None, command=['python'], env=None, env_from=None, image='python:3.8', image_pull_policy=None, lifecycle=None, liveness_probe=None, name='', ports=None, readiness_probe=None, resources=ResourceRequirements(limits=None, requests=None), security_context=None, source=\"import os\\nimport sys\\nsys.path.append(os.getcwd())\\nimport json\\ntry: a = json.loads(r'''{{inputs.parameters.a}}''')\\nexcept: a = r'''{{inputs.parameters.a}}'''\\ntry: b = json.loads(r'''{{inputs.parameters.b}}''')\\nexcept: b = r'''{{inputs.parameters.b}}'''\\n\\nwith open('./product.txt', 'w') as output:\\n    output.write(str(a * b))\", startup_probe=None, stdin=None, stdin_once=None, termination_message_path=None, termination_message_policy=None, tty=None, volume_devices=None, volume_mounts=None, working_dir=None), security_context=None, service_account_name=None, sidecars=None, steps=None, suspend=None, synchronization=None, timeout=None, tolerations=None, volumes=None), 'namespaced/2ab-minus-bcd-7vt8p/subtract': Template(active_deadline_seconds=None, affinity=None, archive_location=None, automount_service_account_token=None, container=None, container_set=None, daemon=None, dag=None, data=None, executor=None, fail_fast=None, host_aliases=None, http=None, init_containers=None, inputs=Inputs(artifacts=None, parameters=[Parameter(default=None, description=None, enum=None, global_name=None, name='a', value=None, value_from=None), Parameter(default=None, description=None, enum=None, global_name=None, name='b', value=None, value_from=None)]), memoize=None, metadata=Metadata(annotations=None, labels=None), metrics=None, name='subtract', node_selector=None, outputs=Outputs(artifacts=None, exit_code=None, parameters=[Parameter(default=None, description=None, enum=None, global_name=None, name='difference', value=None, value_from=ValueFrom(config_map_key_ref=None, default=None, event=None, expression=None, jq_filter=None, json_path=None, parameter=None, path='./difference.txt', supplied=None))], result=None), parallelism=None, plugin=None, pod_spec_patch=None, priority=None, priority_class_name=None, resource=None, retry_strategy=None, scheduler_name=None, script=ScriptTemplate(args=None, command=['python'], env=None, env_from=None, image='python:3.8', image_pull_policy=None, lifecycle=None, liveness_probe=None, name='', ports=None, readiness_probe=None, resources=ResourceRequirements(limits=None, requests=None), security_context=None, source=\"import os\\nimport sys\\nsys.path.append(os.getcwd())\\nimport json\\ntry: a = json.loads(r'''{{inputs.parameters.a}}''')\\nexcept: a = r'''{{inputs.parameters.a}}'''\\ntry: b = json.loads(r'''{{inputs.parameters.b}}''')\\nexcept: b = r'''{{inputs.parameters.b}}'''\\n\\nwith open('./difference.txt', 'w') as output:\\n    output.write(str(a - b))\", startup_probe=None, stdin=None, stdin_once=None, termination_message_path=None, termination_message_policy=None, tty=None, volume_devices=None, volume_mounts=None, working_dir=None), security_context=None, service_account_name=None, sidecars=None, steps=None, suspend=None, synchronization=None, timeout=None, tolerations=None, volumes=None)}, stored_workflow_template_spec=None, synchronization=None, task_results_completion_status=None)\n"
     ]
    }
   ],
   "source": [
    "import yaml\n",
    "\n",
    "with open('hera-pipeline-3.2.1-from-ref.yaml','w') as pipeline_file:\n",
    "    yaml.dump(w1.to_yaml(),pipeline_file)\n",
    "\n",
    "with open('hera-pipeline-3.2.2-from-ref.yaml','w') as pipeline_file:\n",
    "    yaml.dump(w2.to_yaml(),pipeline_file)\n",
    "    \n",
    "response_w1 = w1.create()\n",
    "response_w2 = w2.create()\n",
    "\n",
    "print(response_w1)\n",
    "print(response_w2)"
   ]
  },
  {
   "cell_type": "code",
   "execution_count": null,
   "metadata": {},
   "outputs": [],
   "source": []
  }
 ],
 "metadata": {
  "kernelspec": {
   "display_name": "Python 3",
   "language": "python",
   "name": "python3"
  },
  "language_info": {
   "codemirror_mode": {
    "name": "ipython",
    "version": 3
   },
   "file_extension": ".py",
   "mimetype": "text/x-python",
   "name": "python",
   "nbconvert_exporter": "python",
   "pygments_lexer": "ipython3",
   "version": "3.11.8"
  },
  "orig_nbformat": 4
 },
 "nbformat": 4,
 "nbformat_minor": 2
}
