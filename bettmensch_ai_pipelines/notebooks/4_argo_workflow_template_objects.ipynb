{
 "cells": [
  {
   "cell_type": "code",
   "execution_count": 25,
   "metadata": {},
   "outputs": [],
   "source": [
    "from pprint import pprint\n",
    "\n",
    "import requests\n",
    "import yaml\n",
    "\n",
    "import argo_workflows\n",
    "from argo_workflows.api import workflow_template_service_api\n",
    "\n",
    "configuration = argo_workflows.Configuration(host=\"https://127.0.0.1:2746\")\n",
    "configuration.verify_ssl = False"
   ]
  },
  {
   "attachments": {},
   "cell_type": "markdown",
   "metadata": {},
   "source": [
    "# Workflow template objects\n",
    "\n",
    "We have a closer look at the data structure of the `WorkflowTemplate` CRD as returned by the `argo` SDKs `workflow_template_service_api`s `WorkflowServiceApi.list_workflows` / `WorkflowServiceApi.get_workflow` methods/APIs.\n",
    "\n",
    "Understanding these structures will helps us build the required meta and status data retrievers for the frontend, and also during the devleopment of the `bettmensch.ai.pipelines` SDK."
   ]
  },
  {
   "cell_type": "code",
   "execution_count": 31,
   "metadata": {},
   "outputs": [
    {
     "name": "stderr",
     "output_type": "stream",
     "text": [
      "c:\\Users\\bettmensch\\AppData\\Local\\Programs\\Python\\Python311\\Lib\\site-packages\\urllib3\\connectionpool.py:1061: InsecureRequestWarning: Unverified HTTPS request is being made to host '127.0.0.1'. Adding certificate verification is strongly advised. See: https://urllib3.readthedocs.io/en/1.26.x/advanced-usage.html#ssl-warnings\n",
      "  warnings.warn(\n"
     ]
    },
    {
     "data": {
      "text/plain": [
       "['set-a-coin-rl4sj']"
      ]
     },
     "execution_count": 31,
     "metadata": {},
     "output_type": "execute_result"
    }
   ],
   "source": [
    "api_client = argo_workflows.ApiClient(configuration)\n",
    "api_instance = workflow_template_service_api.WorkflowTemplateServiceApi(api_client)\n",
    "\n",
    "# get all workflows\n",
    "workflow_templates = api_instance.list_workflow_templates(namespace=\"argo\")\n",
    "[workflow_template['metadata']['name'] for workflow_template in workflow_templates['items']]"
   ]
  },
  {
   "cell_type": "code",
   "execution_count": 36,
   "metadata": {},
   "outputs": [
    {
     "name": "stderr",
     "output_type": "stream",
     "text": [
      "c:\\Users\\bettmensch\\AppData\\Local\\Programs\\Python\\Python311\\Lib\\site-packages\\urllib3\\connectionpool.py:1061: InsecureRequestWarning: Unverified HTTPS request is being made to host '127.0.0.1'. Adding certificate verification is strongly advised. See: https://urllib3.readthedocs.io/en/1.26.x/advanced-usage.html#ssl-warnings\n",
      "  warnings.warn(\n"
     ]
    }
   ],
   "source": [
    "first_workflow_template = api_instance.get_workflow_template(namespace=\"argo\",name=\"set-a-coin-rl4sj\").to_dict()"
   ]
  },
  {
   "cell_type": "code",
   "execution_count": 39,
   "metadata": {},
   "outputs": [
    {
     "data": {
      "text/plain": [
       "dict_keys(['metadata', 'spec'])"
      ]
     },
     "execution_count": 39,
     "metadata": {},
     "output_type": "execute_result"
    }
   ],
   "source": [
    "first_workflow_template.keys() # > dict_keys(['metadata', 'spec'])."
   ]
  },
  {
   "attachments": {},
   "cell_type": "markdown",
   "metadata": {},
   "source": [
    "## `.metadata`\n",
    "\n",
    "The `WorkflowTemplate` manifest's `metadata` field. Holds identifiers and labels."
   ]
  },
  {
   "cell_type": "code",
   "execution_count": 68,
   "metadata": {},
   "outputs": [
    {
     "data": {
      "text/plain": [
       "('set-a-coin-rl4sj',\n",
       " 'set-a-coin-',\n",
       " 'argo',\n",
       " '59c2a783-2ed7-4ad6-b852-ad94d45dc09c',\n",
       " '63522',\n",
       " 1,\n",
       " datetime.datetime(2024, 5, 1, 11, 12, 13, tzinfo=tzutc()),\n",
       " {'workflows.argoproj.io/creator': 'system-serviceaccount-argo-argo-server'},\n",
       " [{'manager': 'argo',\n",
       "   'operation': 'Update',\n",
       "   'api_version': 'argoproj.io/v1alpha1',\n",
       "   'time': datetime.datetime(2024, 5, 1, 11, 12, 13, tzinfo=tzutc()),\n",
       "   'fields_type': 'FieldsV1',\n",
       "   'fields_v1': {'f:metadata': {'f:generateName': {},\n",
       "     'f:labels': {'.': {}, 'f:workflows.argoproj.io/creator': {}}},\n",
       "    'f:spec': {}}}])"
      ]
     },
     "execution_count": 68,
     "metadata": {},
     "output_type": "execute_result"
    }
   ],
   "source": [
    "first_workflow_template['metadata'].keys() # > dict_keys(['name', 'generate_name', 'namespace', 'uid', 'resource_version', 'generation', 'creation_timestamp', 'labels', 'managed_fields'])\n",
    "(\n",
    "    first_workflow_template['metadata']['name'], \n",
    "    first_workflow_template['metadata']['generate_name'], \n",
    "    first_workflow_template['metadata']['namespace'], \n",
    "    first_workflow_template['metadata']['uid'], \n",
    "    first_workflow_template['metadata']['resource_version'], \n",
    "    first_workflow_template['metadata']['generation'], \n",
    "    first_workflow_template['metadata']['creation_timestamp'], \n",
    "    first_workflow_template['metadata']['labels'],\n",
    "    first_workflow_template['metadata']['managed_fields']\n",
    ")\n",
    "# > ('set-a-coin-rl4sj',\n",
    "#  'set-a-coin-',\n",
    "#  'argo',\n",
    "#  '59c2a783-2ed7-4ad6-b852-ad94d45dc09c',\n",
    "#  '63522',\n",
    "#  1,\n",
    "#  datetime.datetime(2024, 5, 1, 11, 12, 13, tzinfo=tzutc()),\n",
    "#  {'workflows.argoproj.io/creator': 'system-serviceaccount-argo-argo-server'},\n",
    "#  [{'manager': 'argo',\n",
    "#    'operation': 'Update',\n",
    "#    'api_version': 'argoproj.io/v1alpha1',\n",
    "#    'time': datetime.datetime(2024, 5, 1, 11, 12, 13, tzinfo=tzutc()),\n",
    "#    'fields_type': 'FieldsV1',\n",
    "#    'fields_v1': {'f:metadata': {'f:generateName': {},\n",
    "#      'f:labels': {'.': {}, 'f:workflows.argoproj.io/creator': {}}},\n",
    "#     'f:spec': {}}}])"
   ]
  },
  {
   "attachments": {},
   "cell_type": "markdown",
   "metadata": {},
   "source": [
    "## `.spec`\n",
    "\n",
    "The `WorkflowTemplate`'s manifest's `spec` section. This is where the overall DAG is defined via \n",
    "- the `templates` field, containing the `task` definitions as modular function definition, including the `entrypoint` template\n",
    "- the `entrypoint` field, specifying the template that serves as the DAG's head node\n",
    "- the `arguments` field that lists all the `WorkflowTemplate` level input arguments, with *optional* default values. In our case, these will be exclusively of type `Paramter`.\n",
    "\n",
    "As we have specified the `pod_metadata` and `workflow_metadata` fields in our example, we will find those optional sections populated here as well. They will eventually be merged into the downstream `Workflow` resource manifest at the `Workflow` and `Pod`/`Node` level, respectively. \n",
    "\n",
    "Will be inherited by the `Workflow` - see also See `5_argo_workflow_objects.ipynb`'s `status.store_workflow_template_spec` section."
   ]
  },
  {
   "cell_type": "code",
   "execution_count": 48,
   "metadata": {},
   "outputs": [
    {
     "data": {
      "text/plain": [
       "dict_keys(['templates', 'entrypoint', 'arguments', 'pod_metadata', 'workflow_metadata'])"
      ]
     },
     "execution_count": 48,
     "metadata": {},
     "output_type": "execute_result"
    }
   ],
   "source": [
    "# spec is the Workflow manifest `spec` manifest field and so contains the \n",
    "first_workflow_template['spec'].keys() # >dict_keys(['templates', 'entrypoint', 'arguments', 'pod_metadata', 'workflow_metadata'])"
   ]
  },
  {
   "attachments": {},
   "cell_type": "markdown",
   "metadata": {},
   "source": [
    "### `.spec.arguments`"
   ]
  },
  {
   "cell_type": "code",
   "execution_count": 50,
   "metadata": {},
   "outputs": [
    {
     "data": {
      "text/plain": [
       "{'parameters': [{'name': 'coin'}]}"
      ]
     },
     "execution_count": 50,
     "metadata": {},
     "output_type": "execute_result"
    }
   ],
   "source": [
    "first_workflow_template['spec']['arguments'] # specified arguments (defined by the WorkflowTemplate) with values (specified in the Workflow construction). For us, these will only be `Parameter` type input arguments.\n",
    "# > {'parameters': [{'name': 'coin'}]}"
   ]
  },
  {
   "attachments": {},
   "cell_type": "markdown",
   "metadata": {},
   "source": [
    "### `.spec.entrypoint`"
   ]
  },
  {
   "cell_type": "code",
   "execution_count": 52,
   "metadata": {},
   "outputs": [
    {
     "data": {
      "text/plain": [
       "'Coin-set'"
      ]
     },
     "execution_count": 52,
     "metadata": {},
     "output_type": "execute_result"
    }
   ],
   "source": [
    "first_workflow_template['spec']['entrypoint'] # the `name` of the template defined as part of the `WorkflowTemplate` that serves as the entrypoint to the entire DAG\n",
    "# > 'Coin-set'"
   ]
  },
  {
   "attachments": {},
   "cell_type": "markdown",
   "metadata": {},
   "source": [
    "### `spec.templates`\n",
    "\n",
    "Lists all the `template` definitions. \n",
    "\n",
    "The most interesting here is the template that is used as the entrypoint for the `WorkflowTemplate`: It defines the DAG structure in its `dag` field. \n",
    "\n",
    "Each task listed there refers to another template, and contains (where applicable) a reference to the `task`'s/DAG node's parent node. using this information, we can recursively build up the graph structure of the `WorkflowTemplate`'s DAG."
   ]
  },
  {
   "cell_type": "code",
   "execution_count": 59,
   "metadata": {},
   "outputs": [
    {
     "data": {
      "text/plain": [
       "[{'name': 'Coin-set',\n",
       "  'inputs': {},\n",
       "  'outputs': {},\n",
       "  'metadata': {},\n",
       "  'dag': {'tasks': [{'name': 'Set-a-coin',\n",
       "     'template': 'set-coin',\n",
       "     'arguments': {'parameters': [{'name': 'coin',\n",
       "        'value': '{{workflow.parameters.coin}}'}]}},\n",
       "    {'name': 'Show-a-coin',\n",
       "     'template': 'show-coin',\n",
       "     'arguments': {'parameters': [{'name': 'coin',\n",
       "        'value': '{{tasks.Set-a-coin.outputs.parameters.coin}}'}]},\n",
       "     'depends': 'Set-a-coin'}]}},\n",
       " {'name': 'set-coin',\n",
       "  'inputs': {'parameters': [{'name': 'coin'}]},\n",
       "  'outputs': {'parameters': [{'name': 'coin',\n",
       "     'value_from': {'path': './coin_output.txt'}}]},\n",
       "  'metadata': {},\n",
       "  'script': {'image': 'python:3.8',\n",
       "   'source': \"import os\\nimport sys\\nsys.path.append(os.getcwd())\\nimport json\\ntry: coin = json.loads(r'''{{inputs.parameters.coin}}''')\\nexcept: coin = r'''{{inputs.parameters.coin}}'''\\n\\nwith open('./coin_output.txt', 'w') as output:\\n    output.write(coin)\",\n",
       "   'name': '',\n",
       "   'command': ['python'],\n",
       "   'resources': {}}},\n",
       " {'name': 'show-coin',\n",
       "  'inputs': {'parameters': [{'name': 'coin'}]},\n",
       "  'outputs': {},\n",
       "  'metadata': {},\n",
       "  'script': {'image': 'python:3.8',\n",
       "   'source': \"import os\\nimport sys\\nsys.path.append(os.getcwd())\\nimport json\\ntry: coin = json.loads(r'''{{inputs.parameters.coin}}''')\\nexcept: coin = r'''{{inputs.parameters.coin}}'''\\n\\nprint(f'it was {coin}')\",\n",
       "   'name': '',\n",
       "   'command': ['python'],\n",
       "   'resources': {}}}]"
      ]
     },
     "execution_count": 59,
     "metadata": {},
     "output_type": "execute_result"
    }
   ],
   "source": [
    "first_workflow_template['spec']['templates'] # the list of defined templates in the WorkflowTemplate manifest, including the one serving as entrypoint. Notice the additional `dag` field in the task named \"Coin-set\" (the entrypoint task)."
   ]
  },
  {
   "cell_type": "code",
   "execution_count": 61,
   "metadata": {},
   "outputs": [
    {
     "data": {
      "text/plain": [
       "{'name': 'Coin-set',\n",
       " 'inputs': {},\n",
       " 'outputs': {},\n",
       " 'metadata': {},\n",
       " 'dag': {'tasks': [{'name': 'Set-a-coin',\n",
       "    'template': 'set-coin',\n",
       "    'arguments': {'parameters': [{'name': 'coin',\n",
       "       'value': '{{workflow.parameters.coin}}'}]}},\n",
       "   {'name': 'Show-a-coin',\n",
       "    'template': 'show-coin',\n",
       "    'arguments': {'parameters': [{'name': 'coin',\n",
       "       'value': '{{tasks.Set-a-coin.outputs.parameters.coin}}'}]},\n",
       "    'depends': 'Set-a-coin'}]}}"
      ]
     },
     "execution_count": 61,
     "metadata": {},
     "output_type": "execute_result"
    }
   ],
   "source": [
    "first_workflow_template['spec']['templates'][0] # entrypoint template \"Coin set\" - compare to `spec.entrypoint` entry. Notice its `dag` field defining the DAG structure"
   ]
  },
  {
   "cell_type": "code",
   "execution_count": 62,
   "metadata": {},
   "outputs": [
    {
     "data": {
      "text/plain": [
       "{'name': 'set-coin',\n",
       " 'inputs': {'parameters': [{'name': 'coin'}]},\n",
       " 'outputs': {'parameters': [{'name': 'coin',\n",
       "    'value_from': {'path': './coin_output.txt'}}]},\n",
       " 'metadata': {},\n",
       " 'script': {'image': 'python:3.8',\n",
       "  'source': \"import os\\nimport sys\\nsys.path.append(os.getcwd())\\nimport json\\ntry: coin = json.loads(r'''{{inputs.parameters.coin}}''')\\nexcept: coin = r'''{{inputs.parameters.coin}}'''\\n\\nwith open('./coin_output.txt', 'w') as output:\\n    output.write(coin)\",\n",
       "  'name': '',\n",
       "  'command': ['python'],\n",
       "  'resources': {}}}"
      ]
     },
     "execution_count": 62,
     "metadata": {},
     "output_type": "execute_result"
    }
   ],
   "source": [
    "first_workflow_template['spec']['templates'][1]"
   ]
  },
  {
   "cell_type": "code",
   "execution_count": 65,
   "metadata": {},
   "outputs": [
    {
     "data": {
      "text/plain": [
       "{'name': 'show-coin',\n",
       " 'inputs': {'parameters': [{'name': 'coin'}]},\n",
       " 'outputs': {},\n",
       " 'metadata': {},\n",
       " 'script': {'image': 'python:3.8',\n",
       "  'source': \"import os\\nimport sys\\nsys.path.append(os.getcwd())\\nimport json\\ntry: coin = json.loads(r'''{{inputs.parameters.coin}}''')\\nexcept: coin = r'''{{inputs.parameters.coin}}'''\\n\\nprint(f'it was {coin}')\",\n",
       "  'name': '',\n",
       "  'command': ['python'],\n",
       "  'resources': {}}}"
      ]
     },
     "execution_count": 65,
     "metadata": {},
     "output_type": "execute_result"
    }
   ],
   "source": [
    "first_workflow_template['spec']['templates'][2] # this template/DAG node depends on the template \"set-coin\", but this dependency is a property of the DAG (the \"Coin-set\" template) and not of the DAG node (this \"show-coin\" template)"
   ]
  },
  {
   "cell_type": "code",
   "execution_count": null,
   "metadata": {},
   "outputs": [],
   "source": []
  }
 ],
 "metadata": {
  "kernelspec": {
   "display_name": "Python 3",
   "language": "python",
   "name": "python3"
  },
  "language_info": {
   "codemirror_mode": {
    "name": "ipython",
    "version": 3
   },
   "file_extension": ".py",
   "mimetype": "text/x-python",
   "name": "python",
   "nbconvert_exporter": "python",
   "pygments_lexer": "ipython3",
   "version": "3.11.8"
  },
  "orig_nbformat": 4
 },
 "nbformat": 4,
 "nbformat_minor": 2
}
