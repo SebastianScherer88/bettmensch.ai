{
 "cells": [
  {
   "cell_type": "code",
   "execution_count": 1,
   "metadata": {},
   "outputs": [],
   "source": [
    "from hera.shared import global_config\n",
    "from hera.auth import ArgoCLITokenGenerator\n",
    "\n",
    "global_config.host = \"https://localhost:2746\"\n",
    "global_config.token = ArgoCLITokenGenerator\n",
    "global_config.verify_ssl = False"
   ]
  },
  {
   "attachments": {},
   "cell_type": "markdown",
   "metadata": {},
   "source": [
    "## Hera - compiles workflow template manifest (i.e. define `Flow`)\n",
    "\n",
    "WorkFlowTemplates crucially allow the definition of parameters as input variables to the entire workflow *without specifying a value*. You can also specify the default value, but it is possible to omit in cases where a sensible value just doesnt apply.\n",
    "\n",
    "Submitting these WorkFlow templates doesnt execute anything on the ArgoWorkflow engine, but rather adds a template that future `Workflow`s can be derived from, together with configurable workflow input parameters.\n",
    "\n",
    "This allows for the following entity mapping between bettmensch.ai pipelines and ArgoWorkflow resources:\n",
    "\n",
    "| bettmensch.ai | ArgoWorkflow      |\n",
    "| --------------|-------------------|\n",
    "| `Flow`        | `WorkflowTemplate`|\n",
    "| `Run`         | `Workflow`        |"
   ]
  },
  {
   "cell_type": "code",
   "execution_count": 2,
   "metadata": {},
   "outputs": [],
   "source": [
    "from hera.workflows import WorkflowTemplate, DAG, script, Parameter, models as m\n",
    "\n",
    "@script(outputs=[Parameter(name=\"coin\",value_from=m.ValueFrom(path=\"./coin_output.txt\"))])\n",
    "def set_coin(coin: str):\n",
    "    # import random\n",
    "    # res = \"heads\" if random.randint(0, 1) == 0 else \"tails\"\n",
    "    with open('./coin_output.txt','w') as output:\n",
    "        output.write(coin)\n",
    "        \n",
    "@script()\n",
    "def show_coin(coin: str):\n",
    "    print(f\"it was {coin}\")\n",
    "    \n",
    "with WorkflowTemplate(\n",
    "    generate_name=\"set-a-coin-\", \n",
    "    entrypoint=\"Coin-set\",\n",
    "    namespace=\"argo\",\n",
    "    arguments=[Parameter(name=\"coin\")],\n",
    "    # the Workflow referencing this template inherits the `spec` level `workflow_metadata` field from this WorkflowTemplate, so\n",
    "    # when submitting via .create(), the workflow metadata does get merged into the Workflow CRD manifest before being applied to the K8s cluster\n",
    "    workflow_metadata={\n",
    "        'annotations':{'annotation_key_a':'annotation_value_a'},\n",
    "        'labels':{'label_key_a':'label_value_a'}\n",
    "    },\n",
    "    # the Workflow referencing this template inherits the `spec` level `pod_metadata` field from this WorkflowTemplate, so\n",
    "    # when submitting via .create(), the workflow metadata does get merged into the Pod manifest(s) before being applied to the K8s cluster.\n",
    "    # for whatever reason, the (apparently?) pod level manifests shown on the ArgoWorkflow server dashboard do not show this\n",
    "    pod_metadata={ \n",
    "        'annotations':{'annotation_key_b':'annotation_value_b'},\n",
    "        'labels':{'label_key_b':'label_value_b'}\n",
    "    }) as wt:\n",
    "    with DAG(name=\"Coin-set\"):\n",
    "        set_coin_task = set_coin(name=\"Set-a-coin\",arguments=[wt.get_parameter('coin').as_argument()])\n",
    "        \n",
    "        show_coin_task = show_coin(name=\"Show-a-coin\",arguments=[set_coin_task.get_parameter('coin').as_argument()],depends='Set-a-coin') # accesses the stdout from the fc task and checks if its \"heads\""
   ]
  },
  {
   "cell_type": "code",
   "execution_count": 3,
   "metadata": {},
   "outputs": [],
   "source": [
    "import yaml\n",
    "\n",
    "with open('hera-template-3.yaml','w') as pipeline_file:\n",
    "    yaml.dump(wt.to_yaml(),pipeline_file)"
   ]
  },
  {
   "attachments": {},
   "cell_type": "markdown",
   "metadata": {},
   "source": [
    "# Hera - submit Workflow template (i.e. submit `Flow`)"
   ]
  },
  {
   "cell_type": "code",
   "execution_count": 4,
   "metadata": {},
   "outputs": [
    {
     "name": "stderr",
     "output_type": "stream",
     "text": [
      "c:\\Users\\bettmensch\\AppData\\Local\\Programs\\Python\\Python311\\Lib\\site-packages\\urllib3\\connectionpool.py:1061: InsecureRequestWarning: Unverified HTTPS request is being made to host 'localhost'. Adding certificate verification is strongly advised. See: https://urllib3.readthedocs.io/en/1.26.x/advanced-usage.html#ssl-warnings\n",
      "  warnings.warn(\n"
     ]
    },
    {
     "data": {
      "text/plain": [
       "WorkflowTemplate(api_version=None, kind=None, metadata=ObjectMeta(annotations=None, cluster_name=None, creation_timestamp=Time(__root__=datetime.datetime(2024, 5, 3, 9, 22, 58, tzinfo=datetime.timezone.utc)), deletion_grace_period_seconds=None, deletion_timestamp=None, finalizers=None, generate_name='set-a-coin-', generation=1, labels={'workflows.argoproj.io/creator': 'system-serviceaccount-argo-argo-server'}, managed_fields=[ManagedFieldsEntry(api_version='argoproj.io/v1alpha1', fields_type='FieldsV1', fields_v1=FieldsV1(), manager='argo', operation='Update', subresource=None, time=Time(__root__=datetime.datetime(2024, 5, 3, 9, 22, 58, tzinfo=datetime.timezone.utc)))], name='set-a-coin-zbz5n', namespace='argo', owner_references=None, resource_version='155621', self_link=None, uid='b5b28393-8419-490c-943c-76143d0e49ca'), spec=WorkflowSpec(active_deadline_seconds=None, affinity=None, archive_logs=None, arguments=Arguments(artifacts=None, parameters=[Parameter(default=None, description=None, enum=None, global_name=None, name='coin', value=None, value_from=None)]), artifact_gc=None, artifact_repository_ref=None, automount_service_account_token=None, dns_config=None, dns_policy=None, entrypoint='Coin-set', executor=None, hooks=None, host_aliases=None, host_network=None, image_pull_secrets=None, metrics=None, node_selector=None, on_exit=None, parallelism=None, pod_disruption_budget=None, pod_gc=None, pod_metadata=Metadata(annotations={'annotation_key_b': 'annotation_value_b'}, labels={'label_key_b': 'label_value_b'}), pod_priority=None, pod_priority_class_name=None, pod_spec_patch=None, priority=None, retry_strategy=None, scheduler_name=None, security_context=None, service_account_name=None, shutdown=None, suspend=None, synchronization=None, template_defaults=None, templates=[Template(active_deadline_seconds=None, affinity=None, archive_location=None, automount_service_account_token=None, container=None, container_set=None, daemon=None, dag=DAGTemplate(fail_fast=None, target=None, tasks=[DAGTask(arguments=Arguments(artifacts=None, parameters=[Parameter(default=None, description=None, enum=None, global_name=None, name='coin', value='{{workflow.parameters.coin}}', value_from=None)]), continue_on=None, dependencies=None, depends=None, hooks=None, inline=None, name='Set-a-coin', on_exit=None, template='set-coin', template_ref=None, when=None, with_items=None, with_param=None, with_sequence=None), DAGTask(arguments=Arguments(artifacts=None, parameters=[Parameter(default=None, description=None, enum=None, global_name=None, name='coin', value='{{tasks.Set-a-coin.outputs.parameters.coin}}', value_from=None)]), continue_on=None, dependencies=None, depends='Set-a-coin', hooks=None, inline=None, name='Show-a-coin', on_exit=None, template='show-coin', template_ref=None, when=None, with_items=None, with_param=None, with_sequence=None)]), data=None, executor=None, fail_fast=None, host_aliases=None, http=None, init_containers=None, inputs=Inputs(artifacts=None, parameters=None), memoize=None, metadata=Metadata(annotations=None, labels=None), metrics=None, name='Coin-set', node_selector=None, outputs=Outputs(artifacts=None, exit_code=None, parameters=None, result=None), parallelism=None, plugin=None, pod_spec_patch=None, priority=None, priority_class_name=None, resource=None, retry_strategy=None, scheduler_name=None, script=None, security_context=None, service_account_name=None, sidecars=None, steps=None, suspend=None, synchronization=None, timeout=None, tolerations=None, volumes=None), Template(active_deadline_seconds=None, affinity=None, archive_location=None, automount_service_account_token=None, container=None, container_set=None, daemon=None, dag=None, data=None, executor=None, fail_fast=None, host_aliases=None, http=None, init_containers=None, inputs=Inputs(artifacts=None, parameters=[Parameter(default=None, description=None, enum=None, global_name=None, name='coin', value=None, value_from=None)]), memoize=None, metadata=Metadata(annotations=None, labels=None), metrics=None, name='set-coin', node_selector=None, outputs=Outputs(artifacts=None, exit_code=None, parameters=[Parameter(default=None, description=None, enum=None, global_name=None, name='coin', value=None, value_from=ValueFrom(config_map_key_ref=None, default=None, event=None, expression=None, jq_filter=None, json_path=None, parameter=None, path='./coin_output.txt', supplied=None))], result=None), parallelism=None, plugin=None, pod_spec_patch=None, priority=None, priority_class_name=None, resource=None, retry_strategy=None, scheduler_name=None, script=ScriptTemplate(args=None, command=['python'], env=None, env_from=None, image='python:3.8', image_pull_policy=None, lifecycle=None, liveness_probe=None, name='', ports=None, readiness_probe=None, resources=ResourceRequirements(limits=None, requests=None), security_context=None, source=\"import os\\nimport sys\\nsys.path.append(os.getcwd())\\nimport json\\ntry: coin = json.loads(r'''{{inputs.parameters.coin}}''')\\nexcept: coin = r'''{{inputs.parameters.coin}}'''\\n\\nwith open('./coin_output.txt', 'w') as output:\\n    output.write(coin)\", startup_probe=None, stdin=None, stdin_once=None, termination_message_path=None, termination_message_policy=None, tty=None, volume_devices=None, volume_mounts=None, working_dir=None), security_context=None, service_account_name=None, sidecars=None, steps=None, suspend=None, synchronization=None, timeout=None, tolerations=None, volumes=None), Template(active_deadline_seconds=None, affinity=None, archive_location=None, automount_service_account_token=None, container=None, container_set=None, daemon=None, dag=None, data=None, executor=None, fail_fast=None, host_aliases=None, http=None, init_containers=None, inputs=Inputs(artifacts=None, parameters=[Parameter(default=None, description=None, enum=None, global_name=None, name='coin', value=None, value_from=None)]), memoize=None, metadata=Metadata(annotations=None, labels=None), metrics=None, name='show-coin', node_selector=None, outputs=Outputs(artifacts=None, exit_code=None, parameters=None, result=None), parallelism=None, plugin=None, pod_spec_patch=None, priority=None, priority_class_name=None, resource=None, retry_strategy=None, scheduler_name=None, script=ScriptTemplate(args=None, command=['python'], env=None, env_from=None, image='python:3.8', image_pull_policy=None, lifecycle=None, liveness_probe=None, name='', ports=None, readiness_probe=None, resources=ResourceRequirements(limits=None, requests=None), security_context=None, source=\"import os\\nimport sys\\nsys.path.append(os.getcwd())\\nimport json\\ntry: coin = json.loads(r'''{{inputs.parameters.coin}}''')\\nexcept: coin = r'''{{inputs.parameters.coin}}'''\\n\\nprint(f'it was {coin}')\", startup_probe=None, stdin=None, stdin_once=None, termination_message_path=None, termination_message_policy=None, tty=None, volume_devices=None, volume_mounts=None, working_dir=None), security_context=None, service_account_name=None, sidecars=None, steps=None, suspend=None, synchronization=None, timeout=None, tolerations=None, volumes=None)], tolerations=None, ttl_strategy=None, volume_claim_gc=None, volume_claim_templates=None, volumes=None, workflow_metadata=WorkflowMetadata(annotations={'annotation_key_a': 'annotation_value_a'}, labels={'label_key_a': 'label_value_a'}, labels_from=None), workflow_template_ref=None))"
      ]
     },
     "execution_count": 4,
     "metadata": {},
     "output_type": "execute_result"
    }
   ],
   "source": [
    "wt.create()"
   ]
  },
  {
   "attachments": {},
   "cell_type": "markdown",
   "metadata": {},
   "source": [
    "# Hera - generate workflow from template (i.e. configure `Run`)"
   ]
  },
  {
   "cell_type": "code",
   "execution_count": 59,
   "metadata": {},
   "outputs": [],
   "source": [
    "\n",
    "from hera.workflows import Workflow\n",
    "from hera.workflows.models import WorkflowTemplateRef\n",
    "\n",
    "# using the workflow template reference\n",
    "wt_ref = WorkflowTemplateRef(name=\"set-a-coin-rl4sj\")\n",
    "\n",
    "w1 = Workflow(\n",
    "    generate_name=\"set-a-coin-from-template-ref-\",\n",
    "    workflow_template_ref=wt_ref,\n",
    "    namespace=\"argo\",\n",
    "    arguments=Parameter(name=\"coin\",value='new coin')\n",
    ")\n",
    "\n",
    "# copy pasting entrypoint and templates from workflow template\n",
    "w2 = Workflow(\n",
    "    generate_name=\"set-a-coin-from-template-copy-\",\n",
    "    templates=wt.templates,\n",
    "    entrypoint=wt.entrypoint,\n",
    "    # when submitting via .create(), the workflow metadata does get merged into the Workflow CRD manifest before being applied to the K8s cluster\n",
    "    workflow_metadata={\n",
    "        'annotations':{'annotation_key_1':'annotation_value_1'},\n",
    "        'labels':{'label_key_1':'label_value_1'}\n",
    "    },\n",
    "    # when submitting via .create(), the workflow metadata does get merged into the Pod manifest(s) before being applied to the K8s cluster.\n",
    "    # for whatever reason, the (apparently?) pod level manifests shown on the ArgoWorkflow server dashboard do not show this\n",
    "    pod_metadata={ \n",
    "        'annotations':{'annotation_key_2':'annotation_value_2'},\n",
    "        'labels':{'label_key_2':'label_value_2'}\n",
    "    },\n",
    "    namespace=\"argo\",\n",
    "    arguments=Parameter(name=\"coin\",value='new coin')\n",
    ")"
   ]
  },
  {
   "attachments": {},
   "cell_type": "markdown",
   "metadata": {},
   "source": [
    "# Hera - submit workflow (i.e. execute `Run`)"
   ]
  },
  {
   "cell_type": "code",
   "execution_count": 60,
   "metadata": {},
   "outputs": [
    {
     "name": "stderr",
     "output_type": "stream",
     "text": [
      "c:\\Users\\bettmensch\\AppData\\Local\\Programs\\Python\\Python311\\Lib\\site-packages\\urllib3\\connectionpool.py:1061: InsecureRequestWarning: Unverified HTTPS request is being made to host 'localhost'. Adding certificate verification is strongly advised. See: https://urllib3.readthedocs.io/en/1.26.x/advanced-usage.html#ssl-warnings\n",
      "  warnings.warn(\n",
      "c:\\Users\\bettmensch\\AppData\\Local\\Programs\\Python\\Python311\\Lib\\site-packages\\urllib3\\connectionpool.py:1061: InsecureRequestWarning: Unverified HTTPS request is being made to host 'localhost'. Adding certificate verification is strongly advised. See: https://urllib3.readthedocs.io/en/1.26.x/advanced-usage.html#ssl-warnings\n",
      "  warnings.warn(\n"
     ]
    }
   ],
   "source": [
    "w1.create()\n",
    "w2.create()\n",
    "\n",
    "import yaml\n",
    "\n",
    "with open('hera-pipeline-3-from-ref.yaml','w') as pipeline_file:\n",
    "    yaml.dump(w1.to_yaml(),pipeline_file)\n",
    "\n",
    "with open('hera-pipeline-3-from-copy.yaml','w') as pipeline_file:\n",
    "    yaml.dump(w2.to_yaml(),pipeline_file)"
   ]
  },
  {
   "cell_type": "code",
   "execution_count": null,
   "metadata": {},
   "outputs": [],
   "source": []
  }
 ],
 "metadata": {
  "kernelspec": {
   "display_name": "Python 3",
   "language": "python",
   "name": "python3"
  },
  "language_info": {
   "codemirror_mode": {
    "name": "ipython",
    "version": 3
   },
   "file_extension": ".py",
   "mimetype": "text/x-python",
   "name": "python",
   "nbconvert_exporter": "python",
   "pygments_lexer": "ipython3",
   "version": "3.11.8"
  },
  "orig_nbformat": 4
 },
 "nbformat": 4,
 "nbformat_minor": 2
}
