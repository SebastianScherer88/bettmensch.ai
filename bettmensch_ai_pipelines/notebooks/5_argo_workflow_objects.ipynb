{
 "cells": [
  {
   "cell_type": "code",
   "execution_count": 1,
   "metadata": {},
   "outputs": [],
   "source": [
    "from pprint import pprint\n",
    "\n",
    "import requests\n",
    "import yaml\n",
    "\n",
    "import argo_workflows\n",
    "from argo_workflows.api import workflow_service_api\n",
    "from argo_workflows.model.io_argoproj_workflow_v1alpha1_workflow_create_request import (\n",
    "    IoArgoprojWorkflowV1alpha1WorkflowCreateRequest,\n",
    ")\n",
    "\n",
    "configuration = argo_workflows.Configuration(host=\"https://127.0.0.1:2746\")\n",
    "configuration.verify_ssl = False"
   ]
  },
  {
   "cell_type": "code",
   "execution_count": 5,
   "metadata": {},
   "outputs": [
    {
     "name": "stderr",
     "output_type": "stream",
     "text": [
      "c:\\Users\\bettmensch\\AppData\\Local\\Programs\\Python\\Python311\\Lib\\site-packages\\urllib3\\connectionpool.py:1061: InsecureRequestWarning: Unverified HTTPS request is being made to host '127.0.0.1'. Adding certificate verification is strongly advised. See: https://urllib3.readthedocs.io/en/1.26.x/advanced-usage.html#ssl-warnings\n",
      "  warnings.warn(\n",
      "c:\\Users\\bettmensch\\AppData\\Local\\Programs\\Python\\Python311\\Lib\\site-packages\\urllib3\\connectionpool.py:1061: InsecureRequestWarning: Unverified HTTPS request is being made to host '127.0.0.1'. Adding certificate verification is strongly advised. See: https://urllib3.readthedocs.io/en/1.26.x/advanced-usage.html#ssl-warnings\n",
      "  warnings.warn(\n"
     ]
    }
   ],
   "source": [
    "api_client = argo_workflows.ApiClient(configuration)\n",
    "api_instance = workflow_service_api.WorkflowServiceApi(api_client)\n",
    "\n",
    "# get all workflows\n",
    "workflows = api_instance.list_workflows(namespace=\"argo\")\n",
    "[workflow['metadata']['name'] for workflow in workflows['items']]\n",
    "\n",
    "first_workflow = api_instance.get_workflow(namespace=\"argo\",name=\"set-a-coin-from-template-copy-8k59q\")"
   ]
  },
  {
   "attachments": {},
   "cell_type": "markdown",
   "metadata": {},
   "source": [
    "# Workflow objects\n",
    "\n",
    "We have a closer look at the data structure of the `Workflow` CRD as returned by the `argo` SDKs `WorkflowServiceApi.list_workflows` / `WorkflowServiceApi.get_workflow` methods/APIs.\n",
    "\n",
    "Understanding these structures will helps us build the required meta and status data retrievers for the frontend, and also during the devleopment of the `bettmensch.ai.pipelines` SDK."
   ]
  },
  {
   "cell_type": "code",
   "execution_count": 7,
   "metadata": {},
   "outputs": [
    {
     "data": {
      "text/plain": [
       "dict_keys(['metadata', 'spec', 'status'])"
      ]
     },
     "execution_count": 7,
     "metadata": {},
     "output_type": "execute_result"
    }
   ],
   "source": [
    "\n",
    "# len(workflows.items) # 2\n",
    "# type(workflows.items[1]) # argo_workflows.model.io_argoproj_workflow_v1alpha1_workflow.IoArgoprojWorkflowV1alpha1Workflow object instance - see here for details: https://github.com/argoproj/argo-workflows/blob/main/sdks/python/client/argo_workflows/model/io_argoproj_workflow_v1alpha1_workflow.py\n",
    "#first_workflow = workflows.items[1].to_dict()\n",
    "first_workflow.keys() # > dict_keys(['metadata', 'spec', 'status'])."
   ]
  },
  {
   "attachments": {},
   "cell_type": "markdown",
   "metadata": {},
   "source": [
    "## `.metadata`\n",
    "\n",
    "The section holding all the identifier's at the `Workflow` level, and some progress information in the `.metadata.labels` keys \n",
    "- `workflows.argoproj.io/completed` and \n",
    "- `workflows.argoproj.io/phase`, \n",
    "\n",
    "respectively. Apparently both of those (and some others) are actively being managed by the `workflow-controller`, implying real time behaviour."
   ]
  },
  {
   "cell_type": "code",
   "execution_count": 8,
   "metadata": {},
   "outputs": [
    {
     "data": {
      "text/plain": [
       "('set-a-coin-from-template-ref-t4nc6',\n",
       " 'set-a-coin-from-template-ref-',\n",
       " 'argo',\n",
       " 'c54b4ca3-26d1-4746-aba8-87a589fe9b30',\n",
       " '63762',\n",
       " 4,\n",
       " datetime.datetime(2024, 5, 1, 11, 13, 19, tzinfo=tzutc()),\n",
       " {'label_key_a': 'label_value_a',\n",
       "  'workflows.argoproj.io/completed': 'true',\n",
       "  'workflows.argoproj.io/creator': 'system-serviceaccount-argo-argo-server',\n",
       "  'workflows.argoproj.io/phase': 'Succeeded'},\n",
       " {'annotation_key_a': 'annotation_value_a',\n",
       "  'workflows.argoproj.io/pod-name-format': 'v2'},\n",
       " [{'manager': 'argo',\n",
       "   'operation': 'Update',\n",
       "   'api_version': 'argoproj.io/v1alpha1',\n",
       "   'time': datetime.datetime(2024, 5, 1, 11, 13, 19, tzinfo=tzutc()),\n",
       "   'fields_type': 'FieldsV1',\n",
       "   'fields_v1': {'f:metadata': {'f:generateName': {},\n",
       "     'f:labels': {'.': {}, 'f:workflows.argoproj.io/creator': {}}},\n",
       "    'f:spec': {}}},\n",
       "  {'manager': 'workflow-controller',\n",
       "   'operation': 'Update',\n",
       "   'api_version': 'argoproj.io/v1alpha1',\n",
       "   'time': datetime.datetime(2024, 5, 1, 11, 13, 39, tzinfo=tzutc()),\n",
       "   'fields_type': 'FieldsV1',\n",
       "   'fields_v1': {'f:metadata': {'f:annotations': {'.': {},\n",
       "      'f:annotation_key_a': {},\n",
       "      'f:workflows.argoproj.io/pod-name-format': {}},\n",
       "     'f:labels': {'f:label_key_a': {},\n",
       "      'f:workflows.argoproj.io/completed': {},\n",
       "      'f:workflows.argoproj.io/phase': {}}},\n",
       "    'f:status': {}}}])"
      ]
     },
     "execution_count": 8,
     "metadata": {},
     "output_type": "execute_result"
    }
   ],
   "source": [
    "# metadata is the Workflow manifest `metadata` field and so contains the workflow_metadata specs inherited from the WorkflowTemplate with other ArgoWorkflow server additions.\n",
    "first_workflow['metadata'].keys() # > dict_keys(['name', 'generate_name', 'namespace', 'uid', 'resource_version', 'generation', 'creation_timestamp', 'labels', 'annotations', 'managed_fields'])\n",
    "(\n",
    "    first_workflow['metadata']['name'], \n",
    "    first_workflow['metadata']['generate_name'], \n",
    "    first_workflow['metadata']['namespace'], \n",
    "    first_workflow['metadata']['uid'], \n",
    "    first_workflow['metadata']['resource_version'], \n",
    "    first_workflow['metadata']['generation'], \n",
    "    first_workflow['metadata']['creation_timestamp'], \n",
    "    first_workflow['metadata']['labels'],\n",
    "    first_workflow['metadata']['annotations'],\n",
    "    first_workflow['metadata']['managed_fields']\n",
    ")\n",
    "# > ('set-a-coin-from-template-copy-8k59q',\n",
    "#  'set-a-coin-from-template-copy-',\n",
    "#  'argo',\n",
    "#  '1829023a-67ec-429d-9e4a-9536aaa4e1b8',\n",
    "#  '63771',\n",
    "#  4,\n",
    "#  datetime.datetime(2024, 5, 1, 11, 13, 20, tzinfo=tzutc()),\n",
    "#  {'label_key_1': 'label_value_1',\n",
    "#   'workflows.argoproj.io/completed': 'true',\n",
    "#   'workflows.argoproj.io/creator': 'system-serviceaccount-argo-argo-server',\n",
    "#   'workflows.argoproj.io/phase': 'Succeeded'},\n",
    "#  {'annotation_key_1': 'annotation_value_1',\n",
    "#   'workflows.argoproj.io/pod-name-format': 'v2'},\n",
    "#  [{'manager': 'argo',\n",
    "#   'operation': 'Update',\n",
    "#   'api_version': 'argoproj.io/v1alpha1',\n",
    "#   'time': datetime.datetime(2024, 5, 1, 11, 13, 20, tzinfo=tzutc()),\n",
    "#   'fields_type': 'FieldsV1',\n",
    "#   'fields_v1': {'f:metadata': {'f:generateName': {},\n",
    "#     'f:labels': {'.': {}, 'f:workflows.argoproj.io/creator': {}}},\n",
    "#    'f:spec': {}}},\n",
    "#  {'manager': 'workflow-controller',\n",
    "#   'operation': 'Update',\n",
    "#   'api_version': 'argoproj.io/v1alpha1',\n",
    "#   'time': datetime.datetime(2024, 5, 1, 11, 13, 40, tzinfo=tzutc()),\n",
    "#   'fields_type': 'FieldsV1',\n",
    "#   'fields_v1': {'f:metadata': {'f:annotations': {'.': {},\n",
    "#      'f:annotation_key_1': {},\n",
    "#      'f:workflows.argoproj.io/pod-name-format': {}},\n",
    "#     'f:labels': {'f:label_key_1': {},\n",
    "#      'f:workflows.argoproj.io/completed': {},\n",
    "#      'f:workflows.argoproj.io/phase': {}}},\n",
    "#    'f:status': {}}}])"
   ]
  },
  {
   "attachments": {},
   "cell_type": "markdown",
   "metadata": {},
   "source": [
    "## `.spec`\n",
    "\n",
    "For `Workflow`s constructed using a reference `WorkflowTemplate` and a `WorkflowTemplateRef`, this section is extremely short. Since we will only instantiate `Workflow`s this way, we focus on this variant.\n",
    "\n",
    "The `.spec.arguments` hold the names and values of all the `Workflow`s input arguments. In our case, these will be exclusively of type `Paramter`.\n",
    "The `.spec.workflow_template_ref` hold the unique `name` of the `WorkflowTemplate` used to construct this `Workflow` via the `WorkflowTemplateRef`."
   ]
  },
  {
   "cell_type": "code",
   "execution_count": 9,
   "metadata": {},
   "outputs": [
    {
     "data": {
      "text/plain": [
       "{'name': 'set-a-coin-rl4sj'}"
      ]
     },
     "execution_count": 9,
     "metadata": {},
     "output_type": "execute_result"
    }
   ],
   "source": [
    "# spec is the Workflow manifest `spec` manifest field and so contains the \n",
    "first_workflow['spec'].keys() # dict_keys(['templates', 'entrypoint', 'arguments', 'pod_metadata', 'workflow_metadata']) for workflows of copy-paste type, dict_keys(['arguments', 'workflow_template_ref']) for workflows constructed using a `WorkflowTemplateRef`. We;ll deal with the latter from now on.\n",
    "first_workflow['spec']['arguments'] # specified arguments (defined by the WorkflowTemplate) with values (specified in the Workflow construction). For us, these will only be `Parameter` type input arguments.\n",
    "first_workflow['spec']['workflow_template_ref'] # e.g. > {'name': 'set-a-coin-rl4sj'}"
   ]
  },
  {
   "attachments": {},
   "cell_type": "markdown",
   "metadata": {},
   "source": [
    "## `.status`\n",
    "\n",
    "This is by far the largest part of the `Workflow`'s manifest body."
   ]
  },
  {
   "cell_type": "code",
   "execution_count": 10,
   "metadata": {},
   "outputs": [
    {
     "data": {
      "text/plain": [
       "dict_keys(['phase', 'started_at', 'finished_at', 'progress', 'nodes', 'stored_templates', 'conditions', 'resources_duration', 'stored_workflow_template_spec', 'artifact_repository_ref', 'artifact_gc_status', 'task_results_completion_status'])"
      ]
     },
     "execution_count": 10,
     "metadata": {},
     "output_type": "execute_result"
    }
   ],
   "source": [
    "# status is the managed section of the Workflow manifest/resource and contains information on ArgoWorkflow Nodes (e.g. the pods executing the components), their inputs, outputs, logs and relationships between each other, and more\n",
    "first_workflow['status'].keys() # > dict_keys(['phase', 'started_at', 'finished_at', 'progress', 'nodes', 'stored_templates', 'conditions', 'resources_duration', 'stored_workflow_template_spec', 'artifact_repository_ref', 'artifact_gc_status', 'task_results_completion_status'])"
   ]
  },
  {
   "attachments": {},
   "cell_type": "markdown",
   "metadata": {},
   "source": [
    "### `.status.phase`\n",
    "### `.status.started_at`\n",
    "### `.status.finished_at`\n",
    "### `.status.progress`\n",
    "### `.status.conditions`\n",
    "### `.status.resources_duration`\n",
    "### `.status.task_results_completion_status`"
   ]
  },
  {
   "cell_type": "code",
   "execution_count": 11,
   "metadata": {},
   "outputs": [
    {
     "data": {
      "text/plain": [
       "('Succeeded',\n",
       " datetime.datetime(2024, 5, 1, 11, 13, 19, tzinfo=tzutc()),\n",
       " datetime.datetime(2024, 5, 1, 11, 13, 39, tzinfo=tzutc()),\n",
       " '2/2',\n",
       " [{'type': 'PodRunning', 'status': 'False'},\n",
       "  {'type': 'Completed', 'status': 'True'}],\n",
       " {'cpu': 0, 'memory': 5},\n",
       " {'set-a-coin-from-template-ref-t4nc6-1623702198': True,\n",
       "  'set-a-coin-from-template-ref-t4nc6-4235989955': True})"
      ]
     },
     "execution_count": 11,
     "metadata": {},
     "output_type": "execute_result"
    }
   ],
   "source": [
    "first_workflow['status']['phase'],first_workflow['status']['started_at'],first_workflow['status']['finished_at'],first_workflow['status']['progress'], first_workflow['status']['conditions'], first_workflow['status']['resources_duration'], first_workflow['status']['task_results_completion_status'] # self explanatory status data\n",
    "# > ('Succeeded',\n",
    "#  datetime.datetime(2024, 5, 1, 11, 13, 19, tzinfo=tzutc()),\n",
    "#  datetime.datetime(2024, 5, 1, 11, 13, 39, tzinfo=tzutc()),\n",
    "#  '2/2',\n",
    "#  [{'type': 'PodRunning', 'status': 'False'},\n",
    "#   {'type': 'Completed', 'status': 'True'}],\n",
    "#  {'cpu': 0, 'memory': 5}, # <-- workflow cumulative K8s resources across all pods/nodes. see `status.nodes.{example}.resources_duration` for a pod/node level version of this in the below section\n",
    "#  {'set-a-coin-from-template-ref-t4nc6-1623702198': True,\n",
    "#   'set-a-coin-from-template-ref-t4nc6-4235989955': True})"
   ]
  },
  {
   "attachments": {},
   "cell_type": "markdown",
   "metadata": {},
   "source": [
    "### `status.nodes.{example}`"
   ]
  },
  {
   "cell_type": "code",
   "execution_count": 12,
   "metadata": {},
   "outputs": [
    {
     "data": {
      "text/plain": [
       "{'id': 'set-a-coin-from-template-ref-t4nc6-4235989955',\n",
       " 'name': 'set-a-coin-from-template-ref-t4nc6.Set-a-coin',\n",
       " 'type': 'Pod',\n",
       " 'display_name': 'Set-a-coin',\n",
       " 'template_name': 'set-coin',\n",
       " 'template_scope': 'local/',\n",
       " 'phase': 'Succeeded',\n",
       " 'boundary_id': 'set-a-coin-from-template-ref-t4nc6',\n",
       " 'started_at': datetime.datetime(2024, 5, 1, 11, 13, 19, tzinfo=tzutc()),\n",
       " 'finished_at': datetime.datetime(2024, 5, 1, 11, 13, 23, tzinfo=tzutc()),\n",
       " 'progress': '1/1',\n",
       " 'resources_duration': {'cpu': 0, 'memory': 2},\n",
       " 'inputs': {'parameters': [{'name': 'coin', 'value': 'new coin'}]},\n",
       " 'outputs': {'parameters': [{'name': 'coin',\n",
       "    'value': 'new coin',\n",
       "    'value_from': {'path': './coin_output.txt'}}],\n",
       "  'artifacts': [{'name': 'main-logs',\n",
       "    's3': {'key': 'set-a-coin-from-template-ref-t4nc6/set-a-coin-from-template-ref-t4nc6-set-coin-4235989955/main.log'}}],\n",
       "  'exit_code': '0'},\n",
       " 'children': ['set-a-coin-from-template-ref-t4nc6-1623702198'],\n",
       " 'host_node_name': 'kind-control-plane'}"
      ]
     },
     "execution_count": 12,
     "metadata": {},
     "output_type": "execute_result"
    }
   ],
   "source": [
    "first_workflow['status']['nodes'].keys() # key:value mapping of all ArgoNodes (e.g. pods) in the workflow. \n",
    "# In our example we have 3: The DAG orchestrator node (e.g. the entrypoint template), and the two Task nodes (e.g. the two script templates)\n",
    "# > dict_keys(['set-a-coin-from-template-ref-t4nc6', 'set-a-coin-from-template-ref-t4nc6-1623702198', 'set-a-coin-from-template-ref-t4nc6-4235989955'])\n",
    "\n",
    "sample_node = first_workflow['status']['nodes']['set-a-coin-from-template-ref-t4nc6-4235989955']\n",
    "sample_node # node level data \n",
    "# includes \n",
    "# - identifiers (id and name), \n",
    "# - template reference, \n",
    "# - progress,\n",
    "# - pod level resource K8s request & limits\n",
    "# - resolved inputs and outputs, including the default `Artifact` type log output and the exit code. \n",
    "# - Also lists the `id`s of dependant node(s) (where applicable) in the `children` field.\n",
    "#\n",
    "# > {'id': 'set-a-coin-from-template-ref-t4nc6-4235989955',\n",
    "#  'name': 'set-a-coin-from-template-ref-t4nc6.Set-a-coin',\n",
    "#  'type': 'Pod',\n",
    "#  'display_name': 'Set-a-coin',\n",
    "#  'template_name': 'set-coin',\n",
    "#  'template_scope': 'local/',\n",
    "#  'phase': 'Succeeded',\n",
    "#  'boundary_id': 'set-a-coin-from-template-ref-t4nc6',\n",
    "#  'started_at': datetime.datetime(2024, 5, 1, 11, 13, 19, tzinfo=tzutc()),\n",
    "#  'finished_at': datetime.datetime(2024, 5, 1, 11, 13, 23, tzinfo=tzutc()),\n",
    "#  'progress': '1/1',\n",
    "#  'resources_duration': {'cpu': 0, 'memory': 2},\n",
    "#  'inputs': {'parameters': [{'name': 'coin', 'value': 'new coin'}]},\n",
    "#  'outputs': {'parameters': [{'name': 'coin',\n",
    "#     'value': 'new coin',\n",
    "#     'value_from': {'path': './coin_output.txt'}}],\n",
    "#   'artifacts': [{'name': 'main-logs',\n",
    "#     's3': {'key': 'set-a-coin-from-template-ref-t4nc6/set-a-coin-from-template-ref-t4nc6-set-coin-4235989955/main.log'}}],\n",
    "#   'exit_code': '0'},\n",
    "#  'children': ['set-a-coin-from-template-ref-t4nc6-1623702198'],\n",
    "#  'host_node_name': 'kind-control-plane'}"
   ]
  },
  {
   "attachments": {},
   "cell_type": "markdown",
   "metadata": {},
   "source": [
    "### `status.stored_templates` \n",
    "\n",
    "The `templates` that are being used here, including the entrypoint. Retrieved via the reference to the WorkflowTemplate, this is essentially the `templates` section of the underlying `WorkflowTemplate` manifest."
   ]
  },
  {
   "cell_type": "code",
   "execution_count": 13,
   "metadata": {},
   "outputs": [
    {
     "data": {
      "text/plain": [
       "dict_keys(['namespaced/set-a-coin-rl4sj/Coin-set', 'namespaced/set-a-coin-rl4sj/set-coin', 'namespaced/set-a-coin-rl4sj/show-coin'])"
      ]
     },
     "execution_count": 13,
     "metadata": {},
     "output_type": "execute_result"
    }
   ],
   "source": [
    "first_workflow['status']['stored_templates'].keys() # > dict_keys(['namespaced/set-a-coin-rl4sj/Coin-set', 'namespaced/set-a-coin-rl4sj/set-coin', 'namespaced/set-a-coin-rl4sj/show-coin'])"
   ]
  },
  {
   "cell_type": "code",
   "execution_count": 14,
   "metadata": {},
   "outputs": [
    {
     "data": {
      "text/plain": [
       "{'name': 'set-coin',\n",
       " 'inputs': {'parameters': [{'name': 'coin'}]},\n",
       " 'outputs': {'parameters': [{'name': 'coin',\n",
       "    'value_from': {'path': './coin_output.txt'}}]},\n",
       " 'metadata': {},\n",
       " 'script': {'image': 'python:3.8',\n",
       "  'source': \"import os\\nimport sys\\nsys.path.append(os.getcwd())\\nimport json\\ntry: coin = json.loads(r'''{{inputs.parameters.coin}}''')\\nexcept: coin = r'''{{inputs.parameters.coin}}'''\\n\\nwith open('./coin_output.txt', 'w') as output:\\n    output.write(coin)\",\n",
       "  'name': '',\n",
       "  'command': ['python'],\n",
       "  'resources': {}}}"
      ]
     },
     "execution_count": 14,
     "metadata": {},
     "output_type": "execute_result"
    }
   ],
   "source": [
    "sample_stored_template = first_workflow['status']['stored_templates']['namespaced/set-a-coin-rl4sj/set-coin'] # leaf template\n",
    "sample_stored_template # the definition of the template as a modular function, i.e. without the contextual DAG dependencies or resolved inputs/outputs\n",
    "# > {'name': 'set-coin',\n",
    "#  'inputs': {'parameters': [{'name': 'coin'}]},\n",
    "#  'outputs': {'parameters': [{'name': 'coin',\n",
    "#     'value_from': {'path': './coin_output.txt'}}]},\n",
    "#  'metadata': {},\n",
    "#  'script': {'image': 'python:3.8',\n",
    "#   'source': \"import os\\nimport sys\\nsys.path.append(os.getcwd())\\nimport json\\ntry: coin = json.loads(r'''{{inputs.parameters.coin}}''')\\nexcept: coin = r'''{{inputs.parameters.coin}}'''\\n\\nwith open('./coin_output.txt', 'w') as output:\\n    output.write(coin)\",\n",
    "#   'name': '',\n",
    "#   'command': ['python'],\n",
    "#   'resources': {}}}"
   ]
  },
  {
   "cell_type": "code",
   "execution_count": 15,
   "metadata": {},
   "outputs": [
    {
     "data": {
      "text/plain": [
       "{'name': 'Coin-set',\n",
       " 'inputs': {},\n",
       " 'outputs': {},\n",
       " 'metadata': {},\n",
       " 'dag': {'tasks': [{'name': 'Set-a-coin',\n",
       "    'template': 'set-coin',\n",
       "    'arguments': {'parameters': [{'name': 'coin',\n",
       "       'value': '{{workflow.parameters.coin}}'}]}},\n",
       "   {'name': 'Show-a-coin',\n",
       "    'template': 'show-coin',\n",
       "    'arguments': {'parameters': [{'name': 'coin',\n",
       "       'value': '{{tasks.Set-a-coin.outputs.parameters.coin}}'}]},\n",
       "    'depends': 'Set-a-coin'}]}}"
      ]
     },
     "execution_count": 15,
     "metadata": {},
     "output_type": "execute_result"
    }
   ],
   "source": [
    "entrypoint_stored_template = first_workflow['status']['stored_templates']['namespaced/set-a-coin-rl4sj/Coin-set'] # entrypoint template\n",
    "entrypoint_stored_template # the definition of the entrypoint template as a modular function, i.e. without the contextual DAG dependencies or resolved inputs/outputs\n",
    "# > {'name': 'Coin-set',\n",
    "#  'inputs': {},\n",
    "#  'outputs': {},\n",
    "#  'metadata': {},\n",
    "#  'dag': {'tasks': [{'name': 'Set-a-coin',\n",
    "#     'template': 'set-coin',\n",
    "#     'arguments': {'parameters': [{'name': 'coin',\n",
    "#        'value': '{{workflow.parameters.coin}}'}]}},\n",
    "#    {'name': 'Show-a-coin',\n",
    "#     'template': 'show-coin',\n",
    "#     'arguments': {'parameters': [{'name': 'coin',\n",
    "#        'value': '{{tasks.Set-a-coin.outputs.parameters.coin}}'}]},\n",
    "#     'depends': 'Set-a-coin'}]}}"
   ]
  },
  {
   "attachments": {},
   "cell_type": "markdown",
   "metadata": {},
   "source": [
    "### `status.artifact_repository_ref`\n",
    "### `status.artifact_gc_status`"
   ]
  },
  {
   "cell_type": "code",
   "execution_count": 16,
   "metadata": {},
   "outputs": [
    {
     "data": {
      "text/plain": [
       "{'config_map': 'artifact-repositories',\n",
       " 'key': 'default-v1',\n",
       " 'namespace': 'argo',\n",
       " 'artifact_repository': {'archive_logs': True,\n",
       "  's3': {'endpoint': 'minio:9000',\n",
       "   'bucket': 'my-bucket',\n",
       "   'insecure': True,\n",
       "   'access_key_secret': {'key': 'accesskey', 'name': 'my-minio-cred'},\n",
       "   'secret_key_secret': {'key': 'secretkey', 'name': 'my-minio-cred'}}}}"
      ]
     },
     "execution_count": 16,
     "metadata": {},
     "output_type": "execute_result"
    }
   ],
   "source": [
    "first_workflow['status']['artifact_repository_ref'] # configuration of associated artifact repository. defaults to minio"
   ]
  },
  {
   "cell_type": "code",
   "execution_count": 17,
   "metadata": {},
   "outputs": [
    {
     "data": {
      "text/plain": [
       "{'not_specified': True}"
      ]
     },
     "execution_count": 17,
     "metadata": {},
     "output_type": "execute_result"
    }
   ],
   "source": [
    "first_workflow['status']['artifact_gc_status'] # ?"
   ]
  },
  {
   "attachments": {},
   "cell_type": "markdown",
   "metadata": {},
   "source": [
    "### `status.stored_workflow_template_spec`\n",
    "\n",
    "This is the `spec` field of the underlying `WorkflowTemplate` manifest. \n",
    "\n",
    "Contains the `entrypoint` and `templates` sections defining the DAG of the `WorkflowTemplate` as well as its `name`, and the `arguments`.\n",
    "\n",
    "Since we added `pod_metadata` and `workflow_metadata` to our `WorkflowTemplate`, we will find these sections here, too."
   ]
  },
  {
   "cell_type": "code",
   "execution_count": 18,
   "metadata": {},
   "outputs": [
    {
     "data": {
      "text/plain": [
       "dict_keys(['templates', 'entrypoint', 'arguments', 'workflow_template_ref', 'pod_metadata', 'workflow_metadata'])"
      ]
     },
     "execution_count": 18,
     "metadata": {},
     "output_type": "execute_result"
    }
   ],
   "source": [
    "first_workflow['status']['stored_workflow_template_spec'].keys() # > dict_keys(['templates', 'entrypoint', 'arguments', 'workflow_template_ref', 'pod_metadata', 'workflow_metadata'])"
   ]
  },
  {
   "cell_type": "code",
   "execution_count": 19,
   "metadata": {},
   "outputs": [
    {
     "data": {
      "text/plain": [
       "{'name': 'set-a-coin-rl4sj'}"
      ]
     },
     "execution_count": 19,
     "metadata": {},
     "output_type": "execute_result"
    }
   ],
   "source": [
    "first_workflow['status']['stored_workflow_template_spec']['workflow_template_ref'] # same as `spec.workflow_template_ref`\n",
    "# > {'name': 'set-a-coin-rl4sj'}"
   ]
  },
  {
   "cell_type": "code",
   "execution_count": 20,
   "metadata": {},
   "outputs": [
    {
     "data": {
      "text/plain": [
       "'Coin-set'"
      ]
     },
     "execution_count": 20,
     "metadata": {},
     "output_type": "execute_result"
    }
   ],
   "source": [
    "first_workflow['status']['stored_workflow_template_spec']['entrypoint'] # name to the entrypoint template of the DAG\n",
    "# > 'Coin-set'"
   ]
  },
  {
   "cell_type": "code",
   "execution_count": 21,
   "metadata": {},
   "outputs": [
    {
     "data": {
      "text/plain": [
       "{'parameters': [{'name': 'coin', 'value': 'new coin'}]}"
      ]
     },
     "execution_count": 21,
     "metadata": {},
     "output_type": "execute_result"
    }
   ],
   "source": [
    "first_workflow['status']['stored_workflow_template_spec']['arguments'] # not quite the WorkflowTemplate arguments - it also contains the value that was resolved at runtime"
   ]
  },
  {
   "cell_type": "code",
   "execution_count": 22,
   "metadata": {},
   "outputs": [
    {
     "data": {
      "text/plain": [
       "{'name': 'Coin-set',\n",
       " 'inputs': {},\n",
       " 'outputs': {},\n",
       " 'metadata': {},\n",
       " 'dag': {'tasks': [{'name': 'Set-a-coin',\n",
       "    'template': 'set-coin',\n",
       "    'arguments': {'parameters': [{'name': 'coin',\n",
       "       'value': '{{workflow.parameters.coin}}'}]}},\n",
       "   {'name': 'Show-a-coin',\n",
       "    'template': 'show-coin',\n",
       "    'arguments': {'parameters': [{'name': 'coin',\n",
       "       'value': '{{tasks.Set-a-coin.outputs.parameters.coin}}'}]},\n",
       "    'depends': 'Set-a-coin'}]}}"
      ]
     },
     "execution_count": 22,
     "metadata": {},
     "output_type": "execute_result"
    }
   ],
   "source": [
    "first_workflow['status']['stored_workflow_template_spec']['templates'][0] # the DAG entrypoint template. Use this at the WorkflowTemplate level to resolve the DAG dependency structure by looking at each DAG's tasks' `depends` field to identify upstream nodes/tasks/pods."
   ]
  },
  {
   "cell_type": "code",
   "execution_count": 23,
   "metadata": {},
   "outputs": [
    {
     "data": {
      "text/plain": [
       "{'name': 'set-coin',\n",
       " 'inputs': {'parameters': [{'name': 'coin'}]},\n",
       " 'outputs': {'parameters': [{'name': 'coin',\n",
       "    'value_from': {'path': './coin_output.txt'}}]},\n",
       " 'metadata': {},\n",
       " 'script': {'image': 'python:3.8',\n",
       "  'source': \"import os\\nimport sys\\nsys.path.append(os.getcwd())\\nimport json\\ntry: coin = json.loads(r'''{{inputs.parameters.coin}}''')\\nexcept: coin = r'''{{inputs.parameters.coin}}'''\\n\\nwith open('./coin_output.txt', 'w') as output:\\n    output.write(coin)\",\n",
       "  'name': '',\n",
       "  'command': ['python'],\n",
       "  'resources': {}}}"
      ]
     },
     "execution_count": 23,
     "metadata": {},
     "output_type": "execute_result"
    }
   ],
   "source": [
    "first_workflow['status']['stored_workflow_template_spec']['templates'][1]"
   ]
  },
  {
   "cell_type": "code",
   "execution_count": 24,
   "metadata": {},
   "outputs": [
    {
     "data": {
      "text/plain": [
       "{'name': 'show-coin',\n",
       " 'inputs': {'parameters': [{'name': 'coin'}]},\n",
       " 'outputs': {},\n",
       " 'metadata': {},\n",
       " 'script': {'image': 'python:3.8',\n",
       "  'source': \"import os\\nimport sys\\nsys.path.append(os.getcwd())\\nimport json\\ntry: coin = json.loads(r'''{{inputs.parameters.coin}}''')\\nexcept: coin = r'''{{inputs.parameters.coin}}'''\\n\\nprint(f'it was {coin}')\",\n",
       "  'name': '',\n",
       "  'command': ['python'],\n",
       "  'resources': {}}}"
      ]
     },
     "execution_count": 24,
     "metadata": {},
     "output_type": "execute_result"
    }
   ],
   "source": [
    "first_workflow['status']['stored_workflow_template_spec']['templates'][2]"
   ]
  }
 ],
 "metadata": {
  "kernelspec": {
   "display_name": "Python 3",
   "language": "python",
   "name": "python3"
  },
  "language_info": {
   "codemirror_mode": {
    "name": "ipython",
    "version": 3
   },
   "file_extension": ".py",
   "mimetype": "text/x-python",
   "name": "python",
   "nbconvert_exporter": "python",
   "pygments_lexer": "ipython3",
   "version": "3.11.8"
  },
  "orig_nbformat": 4
 },
 "nbformat": 4,
 "nbformat_minor": 2
}
