{
 "cells": [
  {
   "cell_type": "code",
   "execution_count": 1,
   "metadata": {},
   "outputs": [],
   "source": [
    "from hera.shared import global_config\n",
    "from hera.auth import ArgoCLITokenGenerator\n",
    "\n",
    "global_config.host = \"https://localhost:2746\"\n",
    "global_config.token = ArgoCLITokenGenerator\n",
    "global_config.verify_ssl = False"
   ]
  },
  {
   "attachments": {},
   "cell_type": "markdown",
   "metadata": {},
   "source": [
    "## WorkflowTemplate <-> Pipeline & Workflow <-> Flow\n",
    "\n",
    "WorkFlowTemplates crucially allow the definition of parameters as input variables to the entire workflow *without specifying a value*. You can also specify the default value, but it is possible to omit in cases where a sensible value just doesnt apply.\n",
    "\n",
    "Submitting these WorkFlow templates doesnt execute anything on the ArgoWorkflow engine, but rather adds a template that future `Workflow`s can be derived from, together with configurable workflow input parameters.\n",
    "\n",
    "This allows for the following entity mapping between bettmensch.ai pipelines and ArgoWorkflow resources:\n",
    "\n",
    "| bettmensch.ai | ArgoWorkflow      |\n",
    "| --------------|-------------------|\n",
    "| `Flow`        | `WorkflowTemplate`|\n",
    "| `Run`         | `Workflow`        |"
   ]
  },
  {
   "attachments": {},
   "cell_type": "markdown",
   "metadata": {},
   "source": [
    "## Define script templates"
   ]
  },
  {
   "cell_type": "code",
   "execution_count": 2,
   "metadata": {},
   "outputs": [
    {
     "name": "stdout",
     "output_type": "stream",
     "text": [
      "About to instantiate Script instance\n",
      "Successfully instantiated Script instance\n",
      "About to instantiate Script instance\n",
      "Successfully instantiated Script instance\n",
      "About to instantiate Script instance\n",
      "Successfully instantiated Script instance\n"
     ]
    },
    {
     "data": {
      "text/plain": [
       "(function, function, function)"
      ]
     },
     "execution_count": 2,
     "metadata": {},
     "output_type": "execute_result"
    }
   ],
   "source": [
    "from hera.workflows import script, Parameter, models as m\n",
    "\n",
    "@script(outputs=[Parameter(name=\"sum\",value_from=m.ValueFrom(path=\"./sum.txt\"))])\n",
    "def add(a: float, b: float):\n",
    "    with open('./sum.txt','w') as output:\n",
    "        output.write(str(a + b))\n",
    "        \n",
    "@script(outputs=[Parameter(name=\"difference\",value_from=m.ValueFrom(path=\"./difference.txt\"))])\n",
    "def subtract(a: float, b: float):\n",
    "    with open('./difference.txt','w') as output:\n",
    "        output.write(str(a - b))\n",
    "        \n",
    "@script(outputs=[Parameter(name=\"product\",value_from=m.ValueFrom(path=\"./product.txt\"))])\n",
    "def multiply(a: float, b: float):\n",
    "    with open('./product.txt','w') as output:\n",
    "        output.write(str(a * b))\n",
    "\n",
    "type(add), type(subtract), type(multiply)"
   ]
  },
  {
   "attachments": {},
   "cell_type": "markdown",
   "metadata": {},
   "source": [
    "## Define Workflow and DAG"
   ]
  },
  {
   "cell_type": "code",
   "execution_count": 9,
   "metadata": {},
   "outputs": [
    {
     "name": "stdout",
     "output_type": "stream",
     "text": [
      "Added node (<class 'hera.workflows.dag.DAG'>, '2ab-minus-bcd') to inner most context element (<class 'hera.workflows.workflow_template.WorkflowTemplate'>, None)!\n",
      "Added task node (<class 'hera.workflows.task.Task'>, 'multiply-2-and-a') to DAG (<class 'hera.workflows.dag.DAG'>, '2ab-minus-bcd')!\n",
      "Added node (<class 'hera.workflows.task.Task'>, 'multiply-2-and-a') to inner most context element (<class 'hera.workflows.dag.DAG'>, '2ab-minus-bcd')!\n",
      "Added template from (<class 'hera.workflows.task.Task'>, 'multiply-2-and-a') to outer most context element (<class 'hera.workflows.workflow_template.WorkflowTemplate'>, None)!\n",
      "Added task node (<class 'hera.workflows.task.Task'>, 'multiply-b-and-c') to DAG (<class 'hera.workflows.dag.DAG'>, '2ab-minus-bcd')!\n",
      "Added node (<class 'hera.workflows.task.Task'>, 'multiply-b-and-c') to inner most context element (<class 'hera.workflows.dag.DAG'>, '2ab-minus-bcd')!\n",
      "Added task node (<class 'hera.workflows.task.Task'>, 'multiply-2a-and-b') to DAG (<class 'hera.workflows.dag.DAG'>, '2ab-minus-bcd')!\n",
      "Added node (<class 'hera.workflows.task.Task'>, 'multiply-2a-and-b') to inner most context element (<class 'hera.workflows.dag.DAG'>, '2ab-minus-bcd')!\n",
      "Added task node (<class 'hera.workflows.task.Task'>, 'multiply-bc-and-d') to DAG (<class 'hera.workflows.dag.DAG'>, '2ab-minus-bcd')!\n",
      "Added node (<class 'hera.workflows.task.Task'>, 'multiply-bc-and-d') to inner most context element (<class 'hera.workflows.dag.DAG'>, '2ab-minus-bcd')!\n",
      "Added task node (<class 'hera.workflows.task.Task'>, 'subtract-2ab-and-bcd') to DAG (<class 'hera.workflows.dag.DAG'>, '2ab-minus-bcd')!\n",
      "Added node (<class 'hera.workflows.task.Task'>, 'subtract-2ab-and-bcd') to inner most context element (<class 'hera.workflows.dag.DAG'>, '2ab-minus-bcd')!\n",
      "Added template from (<class 'hera.workflows.task.Task'>, 'subtract-2ab-and-bcd') to outer most context element (<class 'hera.workflows.workflow_template.WorkflowTemplate'>, None)!\n",
      "{{workflow.parameters.b}}\n",
      "{{tasks.multiply-b-and-c.outputs.parameters.product}}\n"
     ]
    }
   ],
   "source": [
    "from hera.workflows import WorkflowTemplate, DAG, Parameter, S3Artifact\n",
    "\n",
    "dag_name = \"2ab-minus-bcd\"\n",
    "\n",
    "with WorkflowTemplate(\n",
    "    generate_name=\"2ab-minus-bcd-\", \n",
    "    entrypoint=dag_name,\n",
    "    namespace=\"argo\",\n",
    "    arguments=[Parameter(name=\"a\"),Parameter(name=\"b\"),Parameter(name=\"c\"),Parameter(name=\"d\")],\n",
    "    # the Workflow referencing this template inherits the `spec` level `workflow_metadata` field from this WorkflowTemplate, so\n",
    "    # when submitting via .create(), the workflow metadata does get merged into the Workflow CRD manifest before being applied to the K8s cluster\n",
    "    workflow_metadata={\n",
    "        'annotations':{'annotation_key_a':'annotation_value_a'},\n",
    "        'labels':{'label_key_a':'label_value_a'}\n",
    "    },\n",
    "    # the Workflow referencing this template inherits the `spec` level `pod_metadata` field from this WorkflowTemplate, so\n",
    "    # when submitting via .create(), the workflow metadata does get merged into the Pod manifest(s) before being applied to the K8s cluster.\n",
    "    # for whatever reason, the (apparently?) pod level manifests shown on the ArgoWorkflow server dashboard do not show this\n",
    "    pod_metadata={ \n",
    "        'annotations':{'annotation_key_b':'annotation_value_b'},\n",
    "        'labels':{'label_key_b':'label_value_b'}\n",
    "    }) as wt:\n",
    "    \n",
    "    wt_a, wt_b, wt_c, wt_d = wt.get_parameter('a').value,wt.get_parameter('b').value,wt.get_parameter('c').value,wt.get_parameter('d').value \n",
    "    \n",
    "    with DAG(name=dag_name) as dag:\n",
    "        double_a = multiply(\n",
    "            name=\"multiply-2-and-a\",arguments=[\n",
    "                Parameter(name=\"a\",value=2), \n",
    "                Parameter(name=\"b\",value=wt_a)\n",
    "            ]\n",
    "        )\n",
    "        bc = multiply(\n",
    "            name=\"multiply-b-and-c\",arguments=[\n",
    "                Parameter(name=\"a\",value=wt_b),\n",
    "                Parameter(name=\"b\",value=wt_c)\n",
    "            ]\n",
    "        )\n",
    "        double_ab = multiply(\n",
    "            name=\"multiply-2a-and-b\",arguments=[\n",
    "                Parameter(name=\"a\",value=double_a.get_parameter('product').value),\n",
    "                Parameter(name=\"b\",value=wt_b)\n",
    "            ]\n",
    "        )\n",
    "        bcd = multiply(\n",
    "            name=\"multiply-bc-and-d\",arguments=[\n",
    "                Parameter(name=\"a\",value=bc.get_parameter('product').value),\n",
    "                Parameter(name=\"b\",value=wt_d)\n",
    "            ]\n",
    "        )\n",
    "        double_ab_minus_bcd = subtract(\n",
    "            name=\"subtract-2ab-and-bcd\",arguments=[\n",
    "                Parameter(name=\"a\",value=double_ab.get_parameter('product').value),\n",
    "                Parameter(name=\"b\",value=bcd.get_parameter('product').value)\n",
    "            ],    \n",
    "        )\n",
    "        \n",
    "        print(wt_b)\n",
    "        print(bc.get_parameter('product').value)\n",
    "        \n",
    "        double_a >> double_ab\n",
    "        bc >> bcd\n",
    "        [double_ab, bcd] >> double_ab_minus_bcd       "
   ]
  },
  {
   "cell_type": "code",
   "execution_count": 5,
   "metadata": {},
   "outputs": [
    {
     "data": {
      "text/plain": [
       "[Task(with_items=None, with_param=None, arguments=[Parameter(default=None, description=None, enum=None, global_name=None, name='a', value='2', value_from=None, output=False), Parameter(default=None, description=None, enum=None, global_name=None, name='b', value='{{workflow.parameters.a}}', value_from=None, output=False)], name='multiply-2-and-a', continue_on=None, hooks=None, on_exit=None, template=Script(volumes=None, volume_devices=None, volume_mounts=None, resources=None, metrics=None, active_deadline_seconds=None, affinity=None, archive_location=None, automount_service_account_token=None, daemon=None, executor=None, fail_fast=None, host_aliases=None, init_containers=None, memoize=None, annotations=None, labels=None, name='multiply', node_selector=None, parallelism=None, http=None, plugin=None, pod_spec_patch=None, priority=None, priority_class_name=None, retry_strategy=None, scheduler_name=None, pod_security_context=None, service_account_name=None, sidecars=None, synchronization=None, timeout=None, tolerations=None, image='python:3.8', image_pull_policy=None, liveness_probe=None, ports=None, readiness_probe=None, startup_probe=None, stdin=None, stdin_once=None, termination_message_path=None, termination_message_policy=None, tty=None, inputs=None, outputs=[Parameter(default=None, description=None, enum=None, global_name=None, name='product', value=None, value_from=ValueFrom(config_map_key_ref=None, default=None, event=None, expression=None, jq_filter=None, json_path=None, parameter=None, path='./product.txt', supplied=None), output=False)], env=None, env_from=None, arguments=None, container_name=None, args=None, command=['python'], lifecycle=None, security_context=None, source=<function multiply at 0x000000F76E524B80>, working_dir=None, add_cwd_to_sys_path=True, constructor=InlineScriptConstructor(add_cwd_to_sys_path=None)), template_ref=None, inline=None, when=None, with_sequence=None, dependencies=None, depends=None),\n",
       " Task(with_items=None, with_param=None, arguments=[Parameter(default=None, description=None, enum=None, global_name=None, name='a', value='{{workflow.parameters.b}}', value_from=None, output=False), Parameter(default=None, description=None, enum=None, global_name=None, name='b', value='{{workflow.parameters.c}}', value_from=None, output=False)], name='multiply-b-and-c', continue_on=None, hooks=None, on_exit=None, template=Script(volumes=None, volume_devices=None, volume_mounts=None, resources=None, metrics=None, active_deadline_seconds=None, affinity=None, archive_location=None, automount_service_account_token=None, daemon=None, executor=None, fail_fast=None, host_aliases=None, init_containers=None, memoize=None, annotations=None, labels=None, name='multiply', node_selector=None, parallelism=None, http=None, plugin=None, pod_spec_patch=None, priority=None, priority_class_name=None, retry_strategy=None, scheduler_name=None, pod_security_context=None, service_account_name=None, sidecars=None, synchronization=None, timeout=None, tolerations=None, image='python:3.8', image_pull_policy=None, liveness_probe=None, ports=None, readiness_probe=None, startup_probe=None, stdin=None, stdin_once=None, termination_message_path=None, termination_message_policy=None, tty=None, inputs=None, outputs=[Parameter(default=None, description=None, enum=None, global_name=None, name='product', value=None, value_from=ValueFrom(config_map_key_ref=None, default=None, event=None, expression=None, jq_filter=None, json_path=None, parameter=None, path='./product.txt', supplied=None), output=False)], env=None, env_from=None, arguments=None, container_name=None, args=None, command=['python'], lifecycle=None, security_context=None, source=<function multiply at 0x000000F76E524B80>, working_dir=None, add_cwd_to_sys_path=True, constructor=InlineScriptConstructor(add_cwd_to_sys_path=None)), template_ref=None, inline=None, when=None, with_sequence=None, dependencies=None, depends=None),\n",
       " Task(with_items=None, with_param=None, arguments=[Parameter(default=None, description=None, enum=None, global_name=None, name='a', value='{{tasks.multiply-2-and-a.outputs.parameters.product}}', value_from=None, output=False), Parameter(default=None, description=None, enum=None, global_name=None, name='b', value='{{workflow.parameters.b}}', value_from=None, output=False)], name='multiply-2a-and-b', continue_on=None, hooks=None, on_exit=None, template=Script(volumes=None, volume_devices=None, volume_mounts=None, resources=None, metrics=None, active_deadline_seconds=None, affinity=None, archive_location=None, automount_service_account_token=None, daemon=None, executor=None, fail_fast=None, host_aliases=None, init_containers=None, memoize=None, annotations=None, labels=None, name='multiply', node_selector=None, parallelism=None, http=None, plugin=None, pod_spec_patch=None, priority=None, priority_class_name=None, retry_strategy=None, scheduler_name=None, pod_security_context=None, service_account_name=None, sidecars=None, synchronization=None, timeout=None, tolerations=None, image='python:3.8', image_pull_policy=None, liveness_probe=None, ports=None, readiness_probe=None, startup_probe=None, stdin=None, stdin_once=None, termination_message_path=None, termination_message_policy=None, tty=None, inputs=None, outputs=[Parameter(default=None, description=None, enum=None, global_name=None, name='product', value=None, value_from=ValueFrom(config_map_key_ref=None, default=None, event=None, expression=None, jq_filter=None, json_path=None, parameter=None, path='./product.txt', supplied=None), output=False)], env=None, env_from=None, arguments=None, container_name=None, args=None, command=['python'], lifecycle=None, security_context=None, source=<function multiply at 0x000000F76E524B80>, working_dir=None, add_cwd_to_sys_path=True, constructor=InlineScriptConstructor(add_cwd_to_sys_path=None)), template_ref=None, inline=None, when=None, with_sequence=None, dependencies=None, depends='multiply-2-and-a'),\n",
       " Task(with_items=None, with_param=None, arguments=[Parameter(default=None, description=None, enum=None, global_name=None, name='a', value='{{tasks.multiply-b-and-c.outputs.parameters.product}}', value_from=None, output=False), Parameter(default=None, description=None, enum=None, global_name=None, name='b', value='{{workflow.parameters.d}}', value_from=None, output=False)], name='multiply-bc-and-d', continue_on=None, hooks=None, on_exit=None, template=Script(volumes=None, volume_devices=None, volume_mounts=None, resources=None, metrics=None, active_deadline_seconds=None, affinity=None, archive_location=None, automount_service_account_token=None, daemon=None, executor=None, fail_fast=None, host_aliases=None, init_containers=None, memoize=None, annotations=None, labels=None, name='multiply', node_selector=None, parallelism=None, http=None, plugin=None, pod_spec_patch=None, priority=None, priority_class_name=None, retry_strategy=None, scheduler_name=None, pod_security_context=None, service_account_name=None, sidecars=None, synchronization=None, timeout=None, tolerations=None, image='python:3.8', image_pull_policy=None, liveness_probe=None, ports=None, readiness_probe=None, startup_probe=None, stdin=None, stdin_once=None, termination_message_path=None, termination_message_policy=None, tty=None, inputs=None, outputs=[Parameter(default=None, description=None, enum=None, global_name=None, name='product', value=None, value_from=ValueFrom(config_map_key_ref=None, default=None, event=None, expression=None, jq_filter=None, json_path=None, parameter=None, path='./product.txt', supplied=None), output=False)], env=None, env_from=None, arguments=None, container_name=None, args=None, command=['python'], lifecycle=None, security_context=None, source=<function multiply at 0x000000F76E524B80>, working_dir=None, add_cwd_to_sys_path=True, constructor=InlineScriptConstructor(add_cwd_to_sys_path=None)), template_ref=None, inline=None, when=None, with_sequence=None, dependencies=None, depends='multiply-b-and-c'),\n",
       " Task(with_items=None, with_param=None, arguments=[Parameter(default=None, description=None, enum=None, global_name=None, name='a', value='{{tasks.multiply-2a-and-b.outputs.parameters.product}}', value_from=None, output=False), Parameter(default=None, description=None, enum=None, global_name=None, name='b', value='{{tasks.multiply-bc-and-d.outputs.parameters.product}}', value_from=None, output=False)], name='subtract-2ab-and-bcd', continue_on=None, hooks=None, on_exit=None, template=Script(volumes=None, volume_devices=None, volume_mounts=None, resources=None, metrics=None, active_deadline_seconds=None, affinity=None, archive_location=None, automount_service_account_token=None, daemon=None, executor=None, fail_fast=None, host_aliases=None, init_containers=None, memoize=None, annotations=None, labels=None, name='subtract', node_selector=None, parallelism=None, http=None, plugin=None, pod_spec_patch=None, priority=None, priority_class_name=None, retry_strategy=None, scheduler_name=None, pod_security_context=None, service_account_name=None, sidecars=None, synchronization=None, timeout=None, tolerations=None, image='python:3.8', image_pull_policy=None, liveness_probe=None, ports=None, readiness_probe=None, startup_probe=None, stdin=None, stdin_once=None, termination_message_path=None, termination_message_policy=None, tty=None, inputs=None, outputs=[Parameter(default=None, description=None, enum=None, global_name=None, name='difference', value=None, value_from=ValueFrom(config_map_key_ref=None, default=None, event=None, expression=None, jq_filter=None, json_path=None, parameter=None, path='./difference.txt', supplied=None), output=False)], env=None, env_from=None, arguments=None, container_name=None, args=None, command=['python'], lifecycle=None, security_context=None, source=<function subtract at 0x000000F76E524AE0>, working_dir=None, add_cwd_to_sys_path=True, constructor=InlineScriptConstructor(add_cwd_to_sys_path=None)), template_ref=None, inline=None, when=None, with_sequence=None, dependencies=None, depends='multiply-2a-and-b && multiply-bc-and-d')]"
      ]
     },
     "execution_count": 5,
     "metadata": {},
     "output_type": "execute_result"
    }
   ],
   "source": [
    "dag.tasks"
   ]
  },
  {
   "cell_type": "code",
   "execution_count": 6,
   "metadata": {},
   "outputs": [
    {
     "data": {
      "text/plain": [
       "[DAG(metrics=None, active_deadline_seconds=None, affinity=None, archive_location=None, automount_service_account_token=None, daemon=None, executor=None, fail_fast=None, host_aliases=None, init_containers=None, memoize=None, annotations=None, labels=None, name='2ab-minus-bcd', node_selector=None, parallelism=None, http=None, plugin=None, pod_spec_patch=None, priority=None, priority_class_name=None, retry_strategy=None, scheduler_name=None, pod_security_context=None, service_account_name=None, sidecars=None, synchronization=None, timeout=None, tolerations=None, inputs=None, outputs=None, arguments=None, target=None, tasks=[Task(with_items=None, with_param=None, arguments=[Parameter(default=None, description=None, enum=None, global_name=None, name='a', value='2', value_from=None, output=False), Parameter(default=None, description=None, enum=None, global_name=None, name='b', value='{{workflow.parameters.a}}', value_from=None, output=False)], name='multiply-2-and-a', continue_on=None, hooks=None, on_exit=None, template=Script(volumes=None, volume_devices=None, volume_mounts=None, resources=None, metrics=None, active_deadline_seconds=None, affinity=None, archive_location=None, automount_service_account_token=None, daemon=None, executor=None, fail_fast=None, host_aliases=None, init_containers=None, memoize=None, annotations=None, labels=None, name='multiply', node_selector=None, parallelism=None, http=None, plugin=None, pod_spec_patch=None, priority=None, priority_class_name=None, retry_strategy=None, scheduler_name=None, pod_security_context=None, service_account_name=None, sidecars=None, synchronization=None, timeout=None, tolerations=None, image='python:3.8', image_pull_policy=None, liveness_probe=None, ports=None, readiness_probe=None, startup_probe=None, stdin=None, stdin_once=None, termination_message_path=None, termination_message_policy=None, tty=None, inputs=None, outputs=[Parameter(default=None, description=None, enum=None, global_name=None, name='product', value=None, value_from=ValueFrom(config_map_key_ref=None, default=None, event=None, expression=None, jq_filter=None, json_path=None, parameter=None, path='./product.txt', supplied=None), output=False)], env=None, env_from=None, arguments=None, container_name=None, args=None, command=['python'], lifecycle=None, security_context=None, source=<function multiply at 0x000000F76E524B80>, working_dir=None, add_cwd_to_sys_path=True, constructor=InlineScriptConstructor(add_cwd_to_sys_path=None)), template_ref=None, inline=None, when=None, with_sequence=None, dependencies=None, depends=None), Task(with_items=None, with_param=None, arguments=[Parameter(default=None, description=None, enum=None, global_name=None, name='a', value='{{workflow.parameters.b}}', value_from=None, output=False), Parameter(default=None, description=None, enum=None, global_name=None, name='b', value='{{workflow.parameters.c}}', value_from=None, output=False)], name='multiply-b-and-c', continue_on=None, hooks=None, on_exit=None, template=Script(volumes=None, volume_devices=None, volume_mounts=None, resources=None, metrics=None, active_deadline_seconds=None, affinity=None, archive_location=None, automount_service_account_token=None, daemon=None, executor=None, fail_fast=None, host_aliases=None, init_containers=None, memoize=None, annotations=None, labels=None, name='multiply', node_selector=None, parallelism=None, http=None, plugin=None, pod_spec_patch=None, priority=None, priority_class_name=None, retry_strategy=None, scheduler_name=None, pod_security_context=None, service_account_name=None, sidecars=None, synchronization=None, timeout=None, tolerations=None, image='python:3.8', image_pull_policy=None, liveness_probe=None, ports=None, readiness_probe=None, startup_probe=None, stdin=None, stdin_once=None, termination_message_path=None, termination_message_policy=None, tty=None, inputs=None, outputs=[Parameter(default=None, description=None, enum=None, global_name=None, name='product', value=None, value_from=ValueFrom(config_map_key_ref=None, default=None, event=None, expression=None, jq_filter=None, json_path=None, parameter=None, path='./product.txt', supplied=None), output=False)], env=None, env_from=None, arguments=None, container_name=None, args=None, command=['python'], lifecycle=None, security_context=None, source=<function multiply at 0x000000F76E524B80>, working_dir=None, add_cwd_to_sys_path=True, constructor=InlineScriptConstructor(add_cwd_to_sys_path=None)), template_ref=None, inline=None, when=None, with_sequence=None, dependencies=None, depends=None), Task(with_items=None, with_param=None, arguments=[Parameter(default=None, description=None, enum=None, global_name=None, name='a', value='{{tasks.multiply-2-and-a.outputs.parameters.product}}', value_from=None, output=False), Parameter(default=None, description=None, enum=None, global_name=None, name='b', value='{{workflow.parameters.b}}', value_from=None, output=False)], name='multiply-2a-and-b', continue_on=None, hooks=None, on_exit=None, template=Script(volumes=None, volume_devices=None, volume_mounts=None, resources=None, metrics=None, active_deadline_seconds=None, affinity=None, archive_location=None, automount_service_account_token=None, daemon=None, executor=None, fail_fast=None, host_aliases=None, init_containers=None, memoize=None, annotations=None, labels=None, name='multiply', node_selector=None, parallelism=None, http=None, plugin=None, pod_spec_patch=None, priority=None, priority_class_name=None, retry_strategy=None, scheduler_name=None, pod_security_context=None, service_account_name=None, sidecars=None, synchronization=None, timeout=None, tolerations=None, image='python:3.8', image_pull_policy=None, liveness_probe=None, ports=None, readiness_probe=None, startup_probe=None, stdin=None, stdin_once=None, termination_message_path=None, termination_message_policy=None, tty=None, inputs=None, outputs=[Parameter(default=None, description=None, enum=None, global_name=None, name='product', value=None, value_from=ValueFrom(config_map_key_ref=None, default=None, event=None, expression=None, jq_filter=None, json_path=None, parameter=None, path='./product.txt', supplied=None), output=False)], env=None, env_from=None, arguments=None, container_name=None, args=None, command=['python'], lifecycle=None, security_context=None, source=<function multiply at 0x000000F76E524B80>, working_dir=None, add_cwd_to_sys_path=True, constructor=InlineScriptConstructor(add_cwd_to_sys_path=None)), template_ref=None, inline=None, when=None, with_sequence=None, dependencies=None, depends='multiply-2-and-a'), Task(with_items=None, with_param=None, arguments=[Parameter(default=None, description=None, enum=None, global_name=None, name='a', value='{{tasks.multiply-b-and-c.outputs.parameters.product}}', value_from=None, output=False), Parameter(default=None, description=None, enum=None, global_name=None, name='b', value='{{workflow.parameters.d}}', value_from=None, output=False)], name='multiply-bc-and-d', continue_on=None, hooks=None, on_exit=None, template=Script(volumes=None, volume_devices=None, volume_mounts=None, resources=None, metrics=None, active_deadline_seconds=None, affinity=None, archive_location=None, automount_service_account_token=None, daemon=None, executor=None, fail_fast=None, host_aliases=None, init_containers=None, memoize=None, annotations=None, labels=None, name='multiply', node_selector=None, parallelism=None, http=None, plugin=None, pod_spec_patch=None, priority=None, priority_class_name=None, retry_strategy=None, scheduler_name=None, pod_security_context=None, service_account_name=None, sidecars=None, synchronization=None, timeout=None, tolerations=None, image='python:3.8', image_pull_policy=None, liveness_probe=None, ports=None, readiness_probe=None, startup_probe=None, stdin=None, stdin_once=None, termination_message_path=None, termination_message_policy=None, tty=None, inputs=None, outputs=[Parameter(default=None, description=None, enum=None, global_name=None, name='product', value=None, value_from=ValueFrom(config_map_key_ref=None, default=None, event=None, expression=None, jq_filter=None, json_path=None, parameter=None, path='./product.txt', supplied=None), output=False)], env=None, env_from=None, arguments=None, container_name=None, args=None, command=['python'], lifecycle=None, security_context=None, source=<function multiply at 0x000000F76E524B80>, working_dir=None, add_cwd_to_sys_path=True, constructor=InlineScriptConstructor(add_cwd_to_sys_path=None)), template_ref=None, inline=None, when=None, with_sequence=None, dependencies=None, depends='multiply-b-and-c'), Task(with_items=None, with_param=None, arguments=[Parameter(default=None, description=None, enum=None, global_name=None, name='a', value='{{tasks.multiply-2a-and-b.outputs.parameters.product}}', value_from=None, output=False), Parameter(default=None, description=None, enum=None, global_name=None, name='b', value='{{tasks.multiply-bc-and-d.outputs.parameters.product}}', value_from=None, output=False)], name='subtract-2ab-and-bcd', continue_on=None, hooks=None, on_exit=None, template=Script(volumes=None, volume_devices=None, volume_mounts=None, resources=None, metrics=None, active_deadline_seconds=None, affinity=None, archive_location=None, automount_service_account_token=None, daemon=None, executor=None, fail_fast=None, host_aliases=None, init_containers=None, memoize=None, annotations=None, labels=None, name='subtract', node_selector=None, parallelism=None, http=None, plugin=None, pod_spec_patch=None, priority=None, priority_class_name=None, retry_strategy=None, scheduler_name=None, pod_security_context=None, service_account_name=None, sidecars=None, synchronization=None, timeout=None, tolerations=None, image='python:3.8', image_pull_policy=None, liveness_probe=None, ports=None, readiness_probe=None, startup_probe=None, stdin=None, stdin_once=None, termination_message_path=None, termination_message_policy=None, tty=None, inputs=None, outputs=[Parameter(default=None, description=None, enum=None, global_name=None, name='difference', value=None, value_from=ValueFrom(config_map_key_ref=None, default=None, event=None, expression=None, jq_filter=None, json_path=None, parameter=None, path='./difference.txt', supplied=None), output=False)], env=None, env_from=None, arguments=None, container_name=None, args=None, command=['python'], lifecycle=None, security_context=None, source=<function subtract at 0x000000F76E524AE0>, working_dir=None, add_cwd_to_sys_path=True, constructor=InlineScriptConstructor(add_cwd_to_sys_path=None)), template_ref=None, inline=None, when=None, with_sequence=None, dependencies=None, depends='multiply-2a-and-b && multiply-bc-and-d')]),\n",
       " Script(volumes=None, volume_devices=None, volume_mounts=None, resources=None, metrics=None, active_deadline_seconds=None, affinity=None, archive_location=None, automount_service_account_token=None, daemon=None, executor=None, fail_fast=None, host_aliases=None, init_containers=None, memoize=None, annotations=None, labels=None, name='multiply', node_selector=None, parallelism=None, http=None, plugin=None, pod_spec_patch=None, priority=None, priority_class_name=None, retry_strategy=None, scheduler_name=None, pod_security_context=None, service_account_name=None, sidecars=None, synchronization=None, timeout=None, tolerations=None, image='python:3.8', image_pull_policy=None, liveness_probe=None, ports=None, readiness_probe=None, startup_probe=None, stdin=None, stdin_once=None, termination_message_path=None, termination_message_policy=None, tty=None, inputs=None, outputs=[Parameter(default=None, description=None, enum=None, global_name=None, name='product', value=None, value_from=ValueFrom(config_map_key_ref=None, default=None, event=None, expression=None, jq_filter=None, json_path=None, parameter=None, path='./product.txt', supplied=None), output=False)], env=None, env_from=None, arguments=None, container_name=None, args=None, command=['python'], lifecycle=None, security_context=None, source=<function multiply at 0x000000F76E524B80>, working_dir=None, add_cwd_to_sys_path=True, constructor=InlineScriptConstructor(add_cwd_to_sys_path=None)),\n",
       " Script(volumes=None, volume_devices=None, volume_mounts=None, resources=None, metrics=None, active_deadline_seconds=None, affinity=None, archive_location=None, automount_service_account_token=None, daemon=None, executor=None, fail_fast=None, host_aliases=None, init_containers=None, memoize=None, annotations=None, labels=None, name='subtract', node_selector=None, parallelism=None, http=None, plugin=None, pod_spec_patch=None, priority=None, priority_class_name=None, retry_strategy=None, scheduler_name=None, pod_security_context=None, service_account_name=None, sidecars=None, synchronization=None, timeout=None, tolerations=None, image='python:3.8', image_pull_policy=None, liveness_probe=None, ports=None, readiness_probe=None, startup_probe=None, stdin=None, stdin_once=None, termination_message_path=None, termination_message_policy=None, tty=None, inputs=None, outputs=[Parameter(default=None, description=None, enum=None, global_name=None, name='difference', value=None, value_from=ValueFrom(config_map_key_ref=None, default=None, event=None, expression=None, jq_filter=None, json_path=None, parameter=None, path='./difference.txt', supplied=None), output=False)], env=None, env_from=None, arguments=None, container_name=None, args=None, command=['python'], lifecycle=None, security_context=None, source=<function subtract at 0x000000F76E524AE0>, working_dir=None, add_cwd_to_sys_path=True, constructor=InlineScriptConstructor(add_cwd_to_sys_path=None))]"
      ]
     },
     "execution_count": 6,
     "metadata": {},
     "output_type": "execute_result"
    }
   ],
   "source": [
    "wt.templates"
   ]
  },
  {
   "cell_type": "code",
   "execution_count": 7,
   "metadata": {},
   "outputs": [
    {
     "data": {
      "text/plain": [
       "{'__wrapped__': <function __main__.multiply(a: float, b: float)>,\n",
       " 'wrapped_function': <function __main__.multiply(a: float, b: float)>}"
      ]
     },
     "execution_count": 7,
     "metadata": {},
     "output_type": "execute_result"
    }
   ],
   "source": [
    "multiply.__dict__"
   ]
  },
  {
   "cell_type": "code",
   "execution_count": 8,
   "metadata": {},
   "outputs": [
    {
     "ename": "IndentationError",
     "evalue": "expected an indented block after class definition on line 10 (4291690277.py, line 13)",
     "output_type": "error",
     "traceback": [
      "\u001b[1;36m  Cell \u001b[1;32mIn[8], line 13\u001b[1;36m\u001b[0m\n\u001b[1;33m    def CustomOutput(*args: List[Tuple[str,type]]):\u001b[0m\n\u001b[1;37m    ^\u001b[0m\n\u001b[1;31mIndentationError\u001b[0m\u001b[1;31m:\u001b[0m expected an indented block after class definition on line 10\n"
     ]
    }
   ],
   "source": [
    "from typing import Tuple, Literal, NamedTuple, List, Generic, Any\n",
    "from pydantic.generics import Generic, GenericModel\n",
    "\n",
    "\n",
    "\n",
    "class OutputParam(GenericModel, Generic[str,type]):\n",
    "    name: str\n",
    "    type: type\n",
    "    \n",
    "class Output(GenericModel, Generic[List[OutputParam]]):\n",
    "    \n",
    "\n",
    "def CustomOutput(*args: List[Tuple[str,type]]):\n",
    "    \n",
    "    return NamedTuple('CustomOutput', args)\n",
    "\n",
    "#test_func_output = NamedTuple('TestFuncOutput',[('a', int),('b', str)])\n",
    "def test_func(a: int, b: str = '') -> CustomOutput(('a', int),('b', str)):\n",
    "    return a, b"
   ]
  },
  {
   "cell_type": "code",
   "execution_count": 67,
   "metadata": {},
   "outputs": [
    {
     "data": {
      "text/plain": [
       "['__annotations__',\n",
       " '__builtins__',\n",
       " '__call__',\n",
       " '__class__',\n",
       " '__closure__',\n",
       " '__code__',\n",
       " '__defaults__',\n",
       " '__delattr__',\n",
       " '__dict__',\n",
       " '__dir__',\n",
       " '__doc__',\n",
       " '__eq__',\n",
       " '__format__',\n",
       " '__ge__',\n",
       " '__get__',\n",
       " '__getattribute__',\n",
       " '__getstate__',\n",
       " '__globals__',\n",
       " '__gt__',\n",
       " '__hash__',\n",
       " '__init__',\n",
       " '__init_subclass__',\n",
       " '__kwdefaults__',\n",
       " '__le__',\n",
       " '__lt__',\n",
       " '__module__',\n",
       " '__name__',\n",
       " '__ne__',\n",
       " '__new__',\n",
       " '__qualname__',\n",
       " '__reduce__',\n",
       " '__reduce_ex__',\n",
       " '__repr__',\n",
       " '__setattr__',\n",
       " '__sizeof__',\n",
       " '__str__',\n",
       " '__subclasshook__']"
      ]
     },
     "execution_count": 67,
     "metadata": {},
     "output_type": "execute_result"
    }
   ],
   "source": [
    "dir(test_func)"
   ]
  },
  {
   "cell_type": "code",
   "execution_count": 68,
   "metadata": {},
   "outputs": [
    {
     "data": {
      "text/plain": [
       "({'a': int, 'b': str, 'return': __main__.CustomOutput},\n",
       " function,\n",
       " None,\n",
       " <code object test_func at 0x00000085F297ECE0, file \"C:\\Users\\bettmensch\\AppData\\Local\\Temp\\ipykernel_5904\\2398073047.py\", line 8>,\n",
       " ('',))"
      ]
     },
     "execution_count": 68,
     "metadata": {},
     "output_type": "execute_result"
    }
   ],
   "source": [
    "test_func.__annotations__, test_func.__class__, test_func.__closure__, test_func.__code__, test_func.__defaults__"
   ]
  },
  {
   "cell_type": "code",
   "execution_count": 69,
   "metadata": {},
   "outputs": [
    {
     "data": {
      "text/plain": [
       "(<method-wrapper '__delattr__' of function object at 0x00000085F25D1A80>,\n",
       " {},\n",
       " <function function.__dir__()>,\n",
       " None,\n",
       " <method-wrapper '__eq__' of function object at 0x00000085F25D1A80>,\n",
       " <function function.__format__(format_spec, /)>)"
      ]
     },
     "execution_count": 69,
     "metadata": {},
     "output_type": "execute_result"
    }
   ],
   "source": [
    "test_func.__delattr__, test_func.__dict__, test_func.__dir__, test_func.__doc__, test_func.__eq__, test_func.__format__"
   ]
  },
  {
   "cell_type": "code",
   "execution_count": 70,
   "metadata": {},
   "outputs": [
    {
     "data": {
      "text/plain": [
       "(<method-wrapper '__ge__' of function object at 0x00000085F25D1A80>,\n",
       " <method-wrapper '__get__' of function object at 0x00000085F25D1A80>,\n",
       " <method-wrapper '__getattribute__' of function object at 0x00000085F25D1A80>,\n",
       " <function function.__getstate__()>)"
      ]
     },
     "execution_count": 70,
     "metadata": {},
     "output_type": "execute_result"
    }
   ],
   "source": [
    "test_func.__ge__, test_func.__get__, test_func.__getattribute__, test_func.__getstate__, #test_func.__globals__"
   ]
  },
  {
   "cell_type": "code",
   "execution_count": 71,
   "metadata": {},
   "outputs": [
    {
     "data": {
      "text/plain": [
       "(<method-wrapper '__gt__' of function object at 0x00000085F25D1A80>,\n",
       " <method-wrapper '__hash__' of function object at 0x00000085F25D1A80>,\n",
       " <method-wrapper '__hash__' of function object at 0x00000085F25D1A80>,\n",
       " <method-wrapper '__init__' of function object at 0x00000085F25D1A80>,\n",
       " <function function.__init_subclass__>,\n",
       " None,\n",
       " <method-wrapper '__le__' of function object at 0x00000085F25D1A80>,\n",
       " <method-wrapper '__lt__' of function object at 0x00000085F25D1A80>,\n",
       " '__main__',\n",
       " 'test_func')"
      ]
     },
     "execution_count": 71,
     "metadata": {},
     "output_type": "execute_result"
    }
   ],
   "source": [
    "test_func.__gt__, test_func.__hash__, test_func.__hash__, test_func.__init__, test_func.__init_subclass__, test_func.__kwdefaults__, test_func.__le__, test_func.__lt__, test_func.__module__, test_func.__name__"
   ]
  },
  {
   "cell_type": "code",
   "execution_count": 72,
   "metadata": {},
   "outputs": [
    {
     "data": {
      "text/plain": [
       "(<method-wrapper '__ne__' of function object at 0x00000085F25D1A80>,\n",
       " <function function.__new__(*args, **kwargs)>,\n",
       " 'test_func',\n",
       " <function function.__reduce__()>,\n",
       " <function function.__reduce_ex__(protocol, /)>,\n",
       " <method-wrapper '__repr__' of function object at 0x00000085F25D1A80>,\n",
       " <method-wrapper '__setattr__' of function object at 0x00000085F25D1A80>,\n",
       " <function function.__sizeof__()>,\n",
       " <method-wrapper '__str__' of function object at 0x00000085F25D1A80>,\n",
       " <function function.__subclasshook__>)"
      ]
     },
     "execution_count": 72,
     "metadata": {},
     "output_type": "execute_result"
    }
   ],
   "source": [
    "test_func.__ne__, test_func.__new__,test_func.__qualname__,test_func.__reduce__,test_func.__reduce_ex__,test_func.__repr__,test_func.__setattr__,test_func.__sizeof__,test_func.__str__,test_func.__subclasshook__"
   ]
  },
  {
   "cell_type": "code",
   "execution_count": 73,
   "metadata": {},
   "outputs": [],
   "source": [
    "import inspect\n",
    "\n",
    "test_sig = inspect.signature(test_func)"
   ]
  },
  {
   "cell_type": "code",
   "execution_count": 74,
   "metadata": {},
   "outputs": [
    {
     "data": {
      "text/plain": [
       "['__class__',\n",
       " '__delattr__',\n",
       " '__dir__',\n",
       " '__doc__',\n",
       " '__eq__',\n",
       " '__format__',\n",
       " '__ge__',\n",
       " '__getattribute__',\n",
       " '__getstate__',\n",
       " '__gt__',\n",
       " '__hash__',\n",
       " '__init__',\n",
       " '__init_subclass__',\n",
       " '__le__',\n",
       " '__lt__',\n",
       " '__module__',\n",
       " '__ne__',\n",
       " '__new__',\n",
       " '__reduce__',\n",
       " '__reduce_ex__',\n",
       " '__repr__',\n",
       " '__setattr__',\n",
       " '__setstate__',\n",
       " '__sizeof__',\n",
       " '__slots__',\n",
       " '__str__',\n",
       " '__subclasshook__',\n",
       " '_bind',\n",
       " '_bound_arguments_cls',\n",
       " '_hash_basis',\n",
       " '_parameter_cls',\n",
       " '_parameters',\n",
       " '_return_annotation',\n",
       " 'bind',\n",
       " 'bind_partial',\n",
       " 'empty',\n",
       " 'from_callable',\n",
       " 'parameters',\n",
       " 'replace',\n",
       " 'return_annotation']"
      ]
     },
     "execution_count": 74,
     "metadata": {},
     "output_type": "execute_result"
    }
   ],
   "source": [
    "dir(test_sig)"
   ]
  },
  {
   "cell_type": "code",
   "execution_count": 75,
   "metadata": {},
   "outputs": [],
   "source": [
    "return_annot = test_sig.return_annotation"
   ]
  },
  {
   "cell_type": "code",
   "execution_count": 76,
   "metadata": {},
   "outputs": [
    {
     "data": {
      "text/plain": [
       "mappingproxy({'__doc__': 'CustomOutput(a, b)',\n",
       "              '__slots__': (),\n",
       "              '_fields': ('a', 'b'),\n",
       "              '_field_defaults': {},\n",
       "              '__new__': <staticmethod(<function CustomOutput.__new__ at 0x00000085F25D13A0>)>,\n",
       "              '_make': <classmethod(<function CustomOutput._make at 0x00000085F25D0F40>)>,\n",
       "              '_replace': <function collections.CustomOutput._replace(self, /, **kwds)>,\n",
       "              '__repr__': <function collections.CustomOutput.__repr__(self)>,\n",
       "              '_asdict': <function collections.CustomOutput._asdict(self)>,\n",
       "              '__getnewargs__': <function collections.CustomOutput.__getnewargs__(self)>,\n",
       "              '__match_args__': ('a', 'b'),\n",
       "              'a': _tuplegetter(0, 'Alias for field number 0'),\n",
       "              'b': _tuplegetter(1, 'Alias for field number 1'),\n",
       "              '__module__': '__main__',\n",
       "              '__annotations__': {'a': int, 'b': str}})"
      ]
     },
     "execution_count": 76,
     "metadata": {},
     "output_type": "execute_result"
    }
   ],
   "source": [
    "return_annot.__dict__"
   ]
  },
  {
   "cell_type": "code",
   "execution_count": 77,
   "metadata": {},
   "outputs": [
    {
     "data": {
      "text/plain": [
       "[('a', <Parameter \"a: int\">), ('b', <Parameter \"b: str = ''\">)]"
      ]
     },
     "execution_count": 77,
     "metadata": {},
     "output_type": "execute_result"
    }
   ],
   "source": [
    "[item for item in test_sig.parameters.items()]"
   ]
  },
  {
   "cell_type": "code",
   "execution_count": 57,
   "metadata": {},
   "outputs": [],
   "source": [
    "param_a = test_sig.parameters['a']"
   ]
  },
  {
   "cell_type": "code",
   "execution_count": 59,
   "metadata": {},
   "outputs": [
    {
     "data": {
      "text/plain": [
       "['KEYWORD_ONLY',\n",
       " 'POSITIONAL_ONLY',\n",
       " 'POSITIONAL_OR_KEYWORD',\n",
       " 'VAR_KEYWORD',\n",
       " 'VAR_POSITIONAL',\n",
       " '__class__',\n",
       " '__delattr__',\n",
       " '__dir__',\n",
       " '__doc__',\n",
       " '__eq__',\n",
       " '__format__',\n",
       " '__ge__',\n",
       " '__getattribute__',\n",
       " '__getstate__',\n",
       " '__gt__',\n",
       " '__hash__',\n",
       " '__init__',\n",
       " '__init_subclass__',\n",
       " '__le__',\n",
       " '__lt__',\n",
       " '__module__',\n",
       " '__ne__',\n",
       " '__new__',\n",
       " '__reduce__',\n",
       " '__reduce_ex__',\n",
       " '__repr__',\n",
       " '__setattr__',\n",
       " '__setstate__',\n",
       " '__sizeof__',\n",
       " '__slots__',\n",
       " '__str__',\n",
       " '__subclasshook__',\n",
       " '_annotation',\n",
       " '_default',\n",
       " '_kind',\n",
       " '_name',\n",
       " 'annotation',\n",
       " 'default',\n",
       " 'empty',\n",
       " 'kind',\n",
       " 'name',\n",
       " 'replace']"
      ]
     },
     "execution_count": 59,
     "metadata": {},
     "output_type": "execute_result"
    }
   ],
   "source": [
    "dir(param_a)"
   ]
  },
  {
   "cell_type": "code",
   "execution_count": 62,
   "metadata": {},
   "outputs": [
    {
     "data": {
      "text/plain": [
       "(<_ParameterKind.KEYWORD_ONLY: 3>,\n",
       " <_ParameterKind.POSITIONAL_ONLY: 0>,\n",
       " <_ParameterKind.POSITIONAL_OR_KEYWORD: 1>,\n",
       " <_ParameterKind.VAR_KEYWORD: 4>,\n",
       " <_ParameterKind.VAR_POSITIONAL: 2>)"
      ]
     },
     "execution_count": 62,
     "metadata": {},
     "output_type": "execute_result"
    }
   ],
   "source": [
    "param_a.KEYWORD_ONLY, param_a.POSITIONAL_ONLY, param_a.POSITIONAL_OR_KEYWORD, param_a.VAR_KEYWORD, param_a.VAR_POSITIONAL"
   ]
  },
  {
   "cell_type": "code",
   "execution_count": 63,
   "metadata": {},
   "outputs": [
    {
     "data": {
      "text/plain": [
       "{'_value_': 2,\n",
       " 'description': 'variadic positional',\n",
       " '_name_': 'VAR_POSITIONAL',\n",
       " '__objclass__': <enum '_ParameterKind'>,\n",
       " '_sort_order_': 2}"
      ]
     },
     "execution_count": 63,
     "metadata": {},
     "output_type": "execute_result"
    }
   ],
   "source": [
    "param_a.VAR_POSITIONAL.__dict__"
   ]
  },
  {
   "cell_type": "code",
   "execution_count": 64,
   "metadata": {},
   "outputs": [],
   "source": [
    "param_b = test_sig.parameters['b']"
   ]
  },
  {
   "cell_type": "code",
   "execution_count": 67,
   "metadata": {},
   "outputs": [
    {
     "data": {
      "text/plain": [
       "{'_value_': 3,\n",
       " 'description': 'keyword-only',\n",
       " '_name_': 'KEYWORD_ONLY',\n",
       " '__objclass__': <enum '_ParameterKind'>,\n",
       " '_sort_order_': 3}"
      ]
     },
     "execution_count": 67,
     "metadata": {},
     "output_type": "execute_result"
    }
   ],
   "source": [
    "param_b.KEYWORD_ONLY.__dict__"
   ]
  },
  {
   "cell_type": "code",
   "execution_count": 68,
   "metadata": {},
   "outputs": [
    {
     "data": {
      "text/plain": [
       "(str,\n",
       " '',\n",
       " inspect._empty,\n",
       " <_ParameterKind.POSITIONAL_OR_KEYWORD: 1>,\n",
       " 'b',\n",
       " <bound method Parameter.replace of <Parameter \"b: str = ''\">>)"
      ]
     },
     "execution_count": 68,
     "metadata": {},
     "output_type": "execute_result"
    }
   ],
   "source": [
    "param_b.annotation,param_b.default,param_b.empty,param_b.kind,param_b.name,param_b.replace"
   ]
  },
  {
   "cell_type": "code",
   "execution_count": 72,
   "metadata": {},
   "outputs": [
    {
     "data": {
      "text/plain": [
       "(int,\n",
       " inspect._empty,\n",
       " inspect._empty,\n",
       " <_ParameterKind.POSITIONAL_OR_KEYWORD: 1>,\n",
       " 'a',\n",
       " <bound method Parameter.replace of <Parameter \"a: int\">>)"
      ]
     },
     "execution_count": 72,
     "metadata": {},
     "output_type": "execute_result"
    }
   ],
   "source": [
    "param_a.annotation,param_a.default,param_a.empty,param_a.kind,param_a.name,param_a.replace"
   ]
  },
  {
   "cell_type": "code",
   "execution_count": 75,
   "metadata": {},
   "outputs": [
    {
     "data": {
      "text/plain": [
       "<_ParameterKind.VAR_POSITIONAL: 2>"
      ]
     },
     "execution_count": 75,
     "metadata": {},
     "output_type": "execute_result"
    }
   ],
   "source": [
    "param_a.VAR_POSITIONAL"
   ]
  },
  {
   "cell_type": "code",
   "execution_count": 41,
   "metadata": {},
   "outputs": [],
   "source": [
    "from typing import Tuple\n",
    "\n",
    "def test_func(a: int, b: int = 1) -> Tuple[int,int]:\n",
    "    return a,b"
   ]
  },
  {
   "cell_type": "code",
   "execution_count": 43,
   "metadata": {},
   "outputs": [
    {
     "name": "stdout",
     "output_type": "stream",
     "text": [
      "Function content: ['def test_func(a: int, b: int=1) -> Tuple[int, int]:', '    return (a, b)']\n",
      "Line 0: def test_func(a: int, b: int=1) -> Tuple[int, int]:\n",
      "Line 1:     return (a, b)\n"
     ]
    }
   ],
   "source": [
    "from hera.workflows._unparse import roundtrip\n",
    "import textwrap\n",
    "test_content = roundtrip(textwrap.dedent(inspect.getsource(test_func))).splitlines()\n",
    "\n",
    "print(f\"Function content: {test_content}\")\n",
    "\n",
    "for i, line in enumerate(test_content):\n",
    "    print(f\"Line {i}: {line}\")"
   ]
  },
  {
   "cell_type": "code",
   "execution_count": 44,
   "metadata": {},
   "outputs": [
    {
     "data": {
      "text/plain": [
       "mappingproxy({'a': <Parameter \"a: int\">, 'b': <Parameter \"b: int = 1\">})"
      ]
     },
     "execution_count": 44,
     "metadata": {},
     "output_type": "execute_result"
    }
   ],
   "source": [
    "test_params = inspect.signature(test_func).parameters\n",
    "test_params"
   ]
  },
  {
   "cell_type": "code",
   "execution_count": 45,
   "metadata": {},
   "outputs": [
    {
     "data": {
      "text/plain": [
       "(inspect._empty, 1)"
      ]
     },
     "execution_count": 45,
     "metadata": {},
     "output_type": "execute_result"
    }
   ],
   "source": [
    "test_params['a'].default, test_params['b'].default"
   ]
  },
  {
   "cell_type": "code",
   "execution_count": null,
   "metadata": {},
   "outputs": [],
   "source": []
  }
 ],
 "metadata": {
  "kernelspec": {
   "display_name": "Python 3",
   "language": "python",
   "name": "python3"
  },
  "language_info": {
   "codemirror_mode": {
    "name": "ipython",
    "version": 3
   },
   "file_extension": ".py",
   "mimetype": "text/x-python",
   "name": "python",
   "nbconvert_exporter": "python",
   "pygments_lexer": "ipython3",
   "version": "3.11.8"
  },
  "orig_nbformat": 4
 },
 "nbformat": 4,
 "nbformat_minor": 2
}
