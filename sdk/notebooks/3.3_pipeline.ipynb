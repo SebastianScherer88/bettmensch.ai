{
 "cells": [
  {
   "cell_type": "code",
   "execution_count": 52,
   "metadata": {},
   "outputs": [],
   "source": [
    "from hera.shared import global_config\n",
    "from hera.auth import ArgoCLITokenGenerator\n",
    "\n",
    "global_config.host = \"https://localhost:2746\"\n",
    "global_config.token = ArgoCLITokenGenerator\n",
    "global_config.verify_ssl = False"
   ]
  },
  {
   "attachments": {},
   "cell_type": "markdown",
   "metadata": {},
   "source": [
    "## WorkflowTemplate <-> Pipeline & Workflow <-> Flow\n",
    "\n",
    "WorkFlowTemplates crucially allow the definition of parameters as input variables to the entire workflow *without specifying a value*. You can also specify the default value, but it is possible to omit in cases where a sensible value just doesnt apply.\n",
    "\n",
    "Submitting these WorkFlow templates doesnt execute anything on the ArgoWorkflow engine, but rather adds a template that future `Workflow`s can be derived from, together with configurable workflow input parameters.\n",
    "\n",
    "This allows for the following entity mapping between bettmensch.ai pipelines and ArgoWorkflow resources:\n",
    "\n",
    "| bettmensch.ai | ArgoWorkflow      |\n",
    "| --------------|-------------------|\n",
    "| `Flow`        | `WorkflowTemplate`|\n",
    "| `Run`         | `Workflow`        |"
   ]
  },
  {
   "attachments": {},
   "cell_type": "markdown",
   "metadata": {},
   "source": [
    "## Define script templates"
   ]
  },
  {
   "cell_type": "code",
   "execution_count": 53,
   "metadata": {},
   "outputs": [
    {
     "data": {
      "text/plain": [
       "(function, function, function)"
      ]
     },
     "execution_count": 53,
     "metadata": {},
     "output_type": "execute_result"
    }
   ],
   "source": [
    "from hera.workflows import script, Parameter, models as m\n",
    "\n",
    "@script(outputs=[Parameter(name=\"sum\",value_from=m.ValueFrom(path=\"./sum.txt\"))])\n",
    "def add(a: float, b: float):\n",
    "    with open('./sum.txt','w') as output:\n",
    "        output.write(str(a + b))\n",
    "        \n",
    "@script(outputs=[Parameter(name=\"difference\",value_from=m.ValueFrom(path=\"./difference.txt\"))])\n",
    "def subtract(a: float, b: float):\n",
    "    with open('./difference.txt','w') as output:\n",
    "        output.write(str(a - b))\n",
    "        \n",
    "@script(outputs=[Parameter(name=\"product\",value_from=m.ValueFrom(path=\"./product.txt\"))])\n",
    "def multiply(a: float, b: float):\n",
    "    with open('./product.txt','w') as output:\n",
    "        output.write(str(a * b))\n",
    "\n",
    "type(add), type(subtract), type(multiply)"
   ]
  },
  {
   "attachments": {},
   "cell_type": "markdown",
   "metadata": {},
   "source": [
    "## Define Workflow and DAG"
   ]
  },
  {
   "cell_type": "code",
   "execution_count": 54,
   "metadata": {},
   "outputs": [
    {
     "name": "stdout",
     "output_type": "stream",
     "text": [
      "{{workflow.parameters.b}}\n",
      "{{tasks.multiply-b-and-c.outputs.parameters.product}}\n"
     ]
    }
   ],
   "source": [
    "from hera.workflows import WorkflowTemplate, DAG, Parameter, S3Artifact\n",
    "\n",
    "dag_name = \"2ab-minus-bcd\"\n",
    "\n",
    "with WorkflowTemplate(\n",
    "    generate_name=\"2ab-minus-bcd-\", \n",
    "    entrypoint=dag_name,\n",
    "    namespace=\"argo\",\n",
    "    arguments=[Parameter(name=\"a\"),Parameter(name=\"b\"),Parameter(name=\"c\"),Parameter(name=\"d\")],\n",
    "    # the Workflow referencing this template inherits the `spec` level `workflow_metadata` field from this WorkflowTemplate, so\n",
    "    # when submitting via .create(), the workflow metadata does get merged into the Workflow CRD manifest before being applied to the K8s cluster\n",
    "    workflow_metadata={\n",
    "        'annotations':{'annotation_key_a':'annotation_value_a'},\n",
    "        'labels':{'label_key_a':'label_value_a'}\n",
    "    },\n",
    "    # the Workflow referencing this template inherits the `spec` level `pod_metadata` field from this WorkflowTemplate, so\n",
    "    # when submitting via .create(), the workflow metadata does get merged into the Pod manifest(s) before being applied to the K8s cluster.\n",
    "    # for whatever reason, the (apparently?) pod level manifests shown on the ArgoWorkflow server dashboard do not show this\n",
    "    pod_metadata={ \n",
    "        'annotations':{'annotation_key_b':'annotation_value_b'},\n",
    "        'labels':{'label_key_b':'label_value_b'}\n",
    "    }) as wt:\n",
    "    \n",
    "    wt_a, wt_b, wt_c, wt_d = wt.get_parameter('a').value,wt.get_parameter('b').value,wt.get_parameter('c').value,wt.get_parameter('d').value \n",
    "    \n",
    "    with DAG(name=dag_name) as dag:\n",
    "        double_a = multiply(\n",
    "            name=\"multiply-2-and-a\",arguments=[\n",
    "                Parameter(name=\"a\",value=2), \n",
    "                Parameter(name=\"b\",value=wt_a)\n",
    "            ]\n",
    "        )\n",
    "        bc = multiply(\n",
    "            name=\"multiply-b-and-c\",arguments=[\n",
    "                Parameter(name=\"a\",value=wt_b),\n",
    "                Parameter(name=\"b\",value=wt_c)\n",
    "            ]\n",
    "        )\n",
    "        double_ab = multiply(\n",
    "            name=\"multiply-2a-and-b\",arguments=[\n",
    "                Parameter(name=\"a\",value=double_a.get_parameter('product').value),\n",
    "                Parameter(name=\"b\",value=wt_b)\n",
    "            ]\n",
    "        )\n",
    "        bcd = multiply(\n",
    "            name=\"multiply-bc-and-d\",arguments=[\n",
    "                Parameter(name=\"a\",value=bc.get_parameter('product').value),\n",
    "                Parameter(name=\"b\",value=wt_d)\n",
    "            ]\n",
    "        )\n",
    "        double_ab_minus_bcd = subtract(\n",
    "            name=\"subtract-2ab-and-bcd\",arguments=[\n",
    "                Parameter(name=\"a\",value=double_ab.get_parameter('product').value),\n",
    "                Parameter(name=\"b\",value=bcd.get_parameter('product').value)\n",
    "            ],    \n",
    "        )\n",
    "        \n",
    "        print(wt_b)\n",
    "        print(bc.get_parameter('product').value)\n",
    "        \n",
    "        double_a >> double_ab\n",
    "        bc >> bcd\n",
    "        [double_ab, bcd] >> double_ab_minus_bcd       "
   ]
  },
  {
   "cell_type": "code",
   "execution_count": 55,
   "metadata": {},
   "outputs": [
    {
     "data": {
      "text/plain": [
       "[Task(with_items=None, with_param=None, arguments=[Parameter(default=None, description=None, enum=None, global_name=None, name='a', value='2', value_from=None, output=False), Parameter(default=None, description=None, enum=None, global_name=None, name='b', value='{{workflow.parameters.a}}', value_from=None, output=False)], name='multiply-2-and-a', continue_on=None, hooks=None, on_exit=None, template=Script(volumes=None, volume_devices=None, volume_mounts=None, resources=None, metrics=None, active_deadline_seconds=None, affinity=None, archive_location=None, automount_service_account_token=None, daemon=None, executor=None, fail_fast=None, host_aliases=None, init_containers=None, memoize=None, annotations=None, labels=None, name='multiply', node_selector=None, parallelism=None, http=None, plugin=None, pod_spec_patch=None, priority=None, priority_class_name=None, retry_strategy=None, scheduler_name=None, pod_security_context=None, service_account_name=None, sidecars=None, synchronization=None, timeout=None, tolerations=None, image='python:3.8', image_pull_policy=None, liveness_probe=None, ports=None, readiness_probe=None, startup_probe=None, stdin=None, stdin_once=None, termination_message_path=None, termination_message_policy=None, tty=None, inputs=None, outputs=[Parameter(default=None, description=None, enum=None, global_name=None, name='product', value=None, value_from=ValueFrom(config_map_key_ref=None, default=None, event=None, expression=None, jq_filter=None, json_path=None, parameter=None, path='./product.txt', supplied=None), output=False)], env=None, env_from=None, arguments=None, container_name=None, args=None, command=['python'], lifecycle=None, security_context=None, source=<function multiply at 0x000000B7534F9DA0>, working_dir=None, add_cwd_to_sys_path=True, constructor=InlineScriptConstructor(add_cwd_to_sys_path=None)), template_ref=None, inline=None, when=None, with_sequence=None, dependencies=None, depends=None),\n",
       " Task(with_items=None, with_param=None, arguments=[Parameter(default=None, description=None, enum=None, global_name=None, name='a', value='{{workflow.parameters.b}}', value_from=None, output=False), Parameter(default=None, description=None, enum=None, global_name=None, name='b', value='{{workflow.parameters.c}}', value_from=None, output=False)], name='multiply-b-and-c', continue_on=None, hooks=None, on_exit=None, template=Script(volumes=None, volume_devices=None, volume_mounts=None, resources=None, metrics=None, active_deadline_seconds=None, affinity=None, archive_location=None, automount_service_account_token=None, daemon=None, executor=None, fail_fast=None, host_aliases=None, init_containers=None, memoize=None, annotations=None, labels=None, name='multiply', node_selector=None, parallelism=None, http=None, plugin=None, pod_spec_patch=None, priority=None, priority_class_name=None, retry_strategy=None, scheduler_name=None, pod_security_context=None, service_account_name=None, sidecars=None, synchronization=None, timeout=None, tolerations=None, image='python:3.8', image_pull_policy=None, liveness_probe=None, ports=None, readiness_probe=None, startup_probe=None, stdin=None, stdin_once=None, termination_message_path=None, termination_message_policy=None, tty=None, inputs=None, outputs=[Parameter(default=None, description=None, enum=None, global_name=None, name='product', value=None, value_from=ValueFrom(config_map_key_ref=None, default=None, event=None, expression=None, jq_filter=None, json_path=None, parameter=None, path='./product.txt', supplied=None), output=False)], env=None, env_from=None, arguments=None, container_name=None, args=None, command=['python'], lifecycle=None, security_context=None, source=<function multiply at 0x000000B7534F9DA0>, working_dir=None, add_cwd_to_sys_path=True, constructor=InlineScriptConstructor(add_cwd_to_sys_path=None)), template_ref=None, inline=None, when=None, with_sequence=None, dependencies=None, depends=None),\n",
       " Task(with_items=None, with_param=None, arguments=[Parameter(default=None, description=None, enum=None, global_name=None, name='a', value='{{tasks.multiply-2-and-a.outputs.parameters.product}}', value_from=None, output=False), Parameter(default=None, description=None, enum=None, global_name=None, name='b', value='{{workflow.parameters.b}}', value_from=None, output=False)], name='multiply-2a-and-b', continue_on=None, hooks=None, on_exit=None, template=Script(volumes=None, volume_devices=None, volume_mounts=None, resources=None, metrics=None, active_deadline_seconds=None, affinity=None, archive_location=None, automount_service_account_token=None, daemon=None, executor=None, fail_fast=None, host_aliases=None, init_containers=None, memoize=None, annotations=None, labels=None, name='multiply', node_selector=None, parallelism=None, http=None, plugin=None, pod_spec_patch=None, priority=None, priority_class_name=None, retry_strategy=None, scheduler_name=None, pod_security_context=None, service_account_name=None, sidecars=None, synchronization=None, timeout=None, tolerations=None, image='python:3.8', image_pull_policy=None, liveness_probe=None, ports=None, readiness_probe=None, startup_probe=None, stdin=None, stdin_once=None, termination_message_path=None, termination_message_policy=None, tty=None, inputs=None, outputs=[Parameter(default=None, description=None, enum=None, global_name=None, name='product', value=None, value_from=ValueFrom(config_map_key_ref=None, default=None, event=None, expression=None, jq_filter=None, json_path=None, parameter=None, path='./product.txt', supplied=None), output=False)], env=None, env_from=None, arguments=None, container_name=None, args=None, command=['python'], lifecycle=None, security_context=None, source=<function multiply at 0x000000B7534F9DA0>, working_dir=None, add_cwd_to_sys_path=True, constructor=InlineScriptConstructor(add_cwd_to_sys_path=None)), template_ref=None, inline=None, when=None, with_sequence=None, dependencies=None, depends='multiply-2-and-a'),\n",
       " Task(with_items=None, with_param=None, arguments=[Parameter(default=None, description=None, enum=None, global_name=None, name='a', value='{{tasks.multiply-b-and-c.outputs.parameters.product}}', value_from=None, output=False), Parameter(default=None, description=None, enum=None, global_name=None, name='b', value='{{workflow.parameters.d}}', value_from=None, output=False)], name='multiply-bc-and-d', continue_on=None, hooks=None, on_exit=None, template=Script(volumes=None, volume_devices=None, volume_mounts=None, resources=None, metrics=None, active_deadline_seconds=None, affinity=None, archive_location=None, automount_service_account_token=None, daemon=None, executor=None, fail_fast=None, host_aliases=None, init_containers=None, memoize=None, annotations=None, labels=None, name='multiply', node_selector=None, parallelism=None, http=None, plugin=None, pod_spec_patch=None, priority=None, priority_class_name=None, retry_strategy=None, scheduler_name=None, pod_security_context=None, service_account_name=None, sidecars=None, synchronization=None, timeout=None, tolerations=None, image='python:3.8', image_pull_policy=None, liveness_probe=None, ports=None, readiness_probe=None, startup_probe=None, stdin=None, stdin_once=None, termination_message_path=None, termination_message_policy=None, tty=None, inputs=None, outputs=[Parameter(default=None, description=None, enum=None, global_name=None, name='product', value=None, value_from=ValueFrom(config_map_key_ref=None, default=None, event=None, expression=None, jq_filter=None, json_path=None, parameter=None, path='./product.txt', supplied=None), output=False)], env=None, env_from=None, arguments=None, container_name=None, args=None, command=['python'], lifecycle=None, security_context=None, source=<function multiply at 0x000000B7534F9DA0>, working_dir=None, add_cwd_to_sys_path=True, constructor=InlineScriptConstructor(add_cwd_to_sys_path=None)), template_ref=None, inline=None, when=None, with_sequence=None, dependencies=None, depends='multiply-b-and-c'),\n",
       " Task(with_items=None, with_param=None, arguments=[Parameter(default=None, description=None, enum=None, global_name=None, name='a', value='{{tasks.multiply-2a-and-b.outputs.parameters.product}}', value_from=None, output=False), Parameter(default=None, description=None, enum=None, global_name=None, name='b', value='{{tasks.multiply-bc-and-d.outputs.parameters.product}}', value_from=None, output=False)], name='subtract-2ab-and-bcd', continue_on=None, hooks=None, on_exit=None, template=Script(volumes=None, volume_devices=None, volume_mounts=None, resources=None, metrics=None, active_deadline_seconds=None, affinity=None, archive_location=None, automount_service_account_token=None, daemon=None, executor=None, fail_fast=None, host_aliases=None, init_containers=None, memoize=None, annotations=None, labels=None, name='subtract', node_selector=None, parallelism=None, http=None, plugin=None, pod_spec_patch=None, priority=None, priority_class_name=None, retry_strategy=None, scheduler_name=None, pod_security_context=None, service_account_name=None, sidecars=None, synchronization=None, timeout=None, tolerations=None, image='python:3.8', image_pull_policy=None, liveness_probe=None, ports=None, readiness_probe=None, startup_probe=None, stdin=None, stdin_once=None, termination_message_path=None, termination_message_policy=None, tty=None, inputs=None, outputs=[Parameter(default=None, description=None, enum=None, global_name=None, name='difference', value=None, value_from=ValueFrom(config_map_key_ref=None, default=None, event=None, expression=None, jq_filter=None, json_path=None, parameter=None, path='./difference.txt', supplied=None), output=False)], env=None, env_from=None, arguments=None, container_name=None, args=None, command=['python'], lifecycle=None, security_context=None, source=<function subtract at 0x000000B7534F9F80>, working_dir=None, add_cwd_to_sys_path=True, constructor=InlineScriptConstructor(add_cwd_to_sys_path=None)), template_ref=None, inline=None, when=None, with_sequence=None, dependencies=None, depends='multiply-2a-and-b && multiply-bc-and-d')]"
      ]
     },
     "execution_count": 55,
     "metadata": {},
     "output_type": "execute_result"
    }
   ],
   "source": [
    "dag.tasks"
   ]
  },
  {
   "cell_type": "code",
   "execution_count": 56,
   "metadata": {},
   "outputs": [
    {
     "data": {
      "text/plain": [
       "[DAG(metrics=None, active_deadline_seconds=None, affinity=None, archive_location=None, automount_service_account_token=None, daemon=None, executor=None, fail_fast=None, host_aliases=None, init_containers=None, memoize=None, annotations=None, labels=None, name='2ab-minus-bcd', node_selector=None, parallelism=None, http=None, plugin=None, pod_spec_patch=None, priority=None, priority_class_name=None, retry_strategy=None, scheduler_name=None, pod_security_context=None, service_account_name=None, sidecars=None, synchronization=None, timeout=None, tolerations=None, inputs=None, outputs=None, arguments=None, target=None, tasks=[Task(with_items=None, with_param=None, arguments=[Parameter(default=None, description=None, enum=None, global_name=None, name='a', value='2', value_from=None, output=False), Parameter(default=None, description=None, enum=None, global_name=None, name='b', value='{{workflow.parameters.a}}', value_from=None, output=False)], name='multiply-2-and-a', continue_on=None, hooks=None, on_exit=None, template=Script(volumes=None, volume_devices=None, volume_mounts=None, resources=None, metrics=None, active_deadline_seconds=None, affinity=None, archive_location=None, automount_service_account_token=None, daemon=None, executor=None, fail_fast=None, host_aliases=None, init_containers=None, memoize=None, annotations=None, labels=None, name='multiply', node_selector=None, parallelism=None, http=None, plugin=None, pod_spec_patch=None, priority=None, priority_class_name=None, retry_strategy=None, scheduler_name=None, pod_security_context=None, service_account_name=None, sidecars=None, synchronization=None, timeout=None, tolerations=None, image='python:3.8', image_pull_policy=None, liveness_probe=None, ports=None, readiness_probe=None, startup_probe=None, stdin=None, stdin_once=None, termination_message_path=None, termination_message_policy=None, tty=None, inputs=None, outputs=[Parameter(default=None, description=None, enum=None, global_name=None, name='product', value=None, value_from=ValueFrom(config_map_key_ref=None, default=None, event=None, expression=None, jq_filter=None, json_path=None, parameter=None, path='./product.txt', supplied=None), output=False)], env=None, env_from=None, arguments=None, container_name=None, args=None, command=['python'], lifecycle=None, security_context=None, source=<function multiply at 0x000000B7534F9DA0>, working_dir=None, add_cwd_to_sys_path=True, constructor=InlineScriptConstructor(add_cwd_to_sys_path=None)), template_ref=None, inline=None, when=None, with_sequence=None, dependencies=None, depends=None), Task(with_items=None, with_param=None, arguments=[Parameter(default=None, description=None, enum=None, global_name=None, name='a', value='{{workflow.parameters.b}}', value_from=None, output=False), Parameter(default=None, description=None, enum=None, global_name=None, name='b', value='{{workflow.parameters.c}}', value_from=None, output=False)], name='multiply-b-and-c', continue_on=None, hooks=None, on_exit=None, template=Script(volumes=None, volume_devices=None, volume_mounts=None, resources=None, metrics=None, active_deadline_seconds=None, affinity=None, archive_location=None, automount_service_account_token=None, daemon=None, executor=None, fail_fast=None, host_aliases=None, init_containers=None, memoize=None, annotations=None, labels=None, name='multiply', node_selector=None, parallelism=None, http=None, plugin=None, pod_spec_patch=None, priority=None, priority_class_name=None, retry_strategy=None, scheduler_name=None, pod_security_context=None, service_account_name=None, sidecars=None, synchronization=None, timeout=None, tolerations=None, image='python:3.8', image_pull_policy=None, liveness_probe=None, ports=None, readiness_probe=None, startup_probe=None, stdin=None, stdin_once=None, termination_message_path=None, termination_message_policy=None, tty=None, inputs=None, outputs=[Parameter(default=None, description=None, enum=None, global_name=None, name='product', value=None, value_from=ValueFrom(config_map_key_ref=None, default=None, event=None, expression=None, jq_filter=None, json_path=None, parameter=None, path='./product.txt', supplied=None), output=False)], env=None, env_from=None, arguments=None, container_name=None, args=None, command=['python'], lifecycle=None, security_context=None, source=<function multiply at 0x000000B7534F9DA0>, working_dir=None, add_cwd_to_sys_path=True, constructor=InlineScriptConstructor(add_cwd_to_sys_path=None)), template_ref=None, inline=None, when=None, with_sequence=None, dependencies=None, depends=None), Task(with_items=None, with_param=None, arguments=[Parameter(default=None, description=None, enum=None, global_name=None, name='a', value='{{tasks.multiply-2-and-a.outputs.parameters.product}}', value_from=None, output=False), Parameter(default=None, description=None, enum=None, global_name=None, name='b', value='{{workflow.parameters.b}}', value_from=None, output=False)], name='multiply-2a-and-b', continue_on=None, hooks=None, on_exit=None, template=Script(volumes=None, volume_devices=None, volume_mounts=None, resources=None, metrics=None, active_deadline_seconds=None, affinity=None, archive_location=None, automount_service_account_token=None, daemon=None, executor=None, fail_fast=None, host_aliases=None, init_containers=None, memoize=None, annotations=None, labels=None, name='multiply', node_selector=None, parallelism=None, http=None, plugin=None, pod_spec_patch=None, priority=None, priority_class_name=None, retry_strategy=None, scheduler_name=None, pod_security_context=None, service_account_name=None, sidecars=None, synchronization=None, timeout=None, tolerations=None, image='python:3.8', image_pull_policy=None, liveness_probe=None, ports=None, readiness_probe=None, startup_probe=None, stdin=None, stdin_once=None, termination_message_path=None, termination_message_policy=None, tty=None, inputs=None, outputs=[Parameter(default=None, description=None, enum=None, global_name=None, name='product', value=None, value_from=ValueFrom(config_map_key_ref=None, default=None, event=None, expression=None, jq_filter=None, json_path=None, parameter=None, path='./product.txt', supplied=None), output=False)], env=None, env_from=None, arguments=None, container_name=None, args=None, command=['python'], lifecycle=None, security_context=None, source=<function multiply at 0x000000B7534F9DA0>, working_dir=None, add_cwd_to_sys_path=True, constructor=InlineScriptConstructor(add_cwd_to_sys_path=None)), template_ref=None, inline=None, when=None, with_sequence=None, dependencies=None, depends='multiply-2-and-a'), Task(with_items=None, with_param=None, arguments=[Parameter(default=None, description=None, enum=None, global_name=None, name='a', value='{{tasks.multiply-b-and-c.outputs.parameters.product}}', value_from=None, output=False), Parameter(default=None, description=None, enum=None, global_name=None, name='b', value='{{workflow.parameters.d}}', value_from=None, output=False)], name='multiply-bc-and-d', continue_on=None, hooks=None, on_exit=None, template=Script(volumes=None, volume_devices=None, volume_mounts=None, resources=None, metrics=None, active_deadline_seconds=None, affinity=None, archive_location=None, automount_service_account_token=None, daemon=None, executor=None, fail_fast=None, host_aliases=None, init_containers=None, memoize=None, annotations=None, labels=None, name='multiply', node_selector=None, parallelism=None, http=None, plugin=None, pod_spec_patch=None, priority=None, priority_class_name=None, retry_strategy=None, scheduler_name=None, pod_security_context=None, service_account_name=None, sidecars=None, synchronization=None, timeout=None, tolerations=None, image='python:3.8', image_pull_policy=None, liveness_probe=None, ports=None, readiness_probe=None, startup_probe=None, stdin=None, stdin_once=None, termination_message_path=None, termination_message_policy=None, tty=None, inputs=None, outputs=[Parameter(default=None, description=None, enum=None, global_name=None, name='product', value=None, value_from=ValueFrom(config_map_key_ref=None, default=None, event=None, expression=None, jq_filter=None, json_path=None, parameter=None, path='./product.txt', supplied=None), output=False)], env=None, env_from=None, arguments=None, container_name=None, args=None, command=['python'], lifecycle=None, security_context=None, source=<function multiply at 0x000000B7534F9DA0>, working_dir=None, add_cwd_to_sys_path=True, constructor=InlineScriptConstructor(add_cwd_to_sys_path=None)), template_ref=None, inline=None, when=None, with_sequence=None, dependencies=None, depends='multiply-b-and-c'), Task(with_items=None, with_param=None, arguments=[Parameter(default=None, description=None, enum=None, global_name=None, name='a', value='{{tasks.multiply-2a-and-b.outputs.parameters.product}}', value_from=None, output=False), Parameter(default=None, description=None, enum=None, global_name=None, name='b', value='{{tasks.multiply-bc-and-d.outputs.parameters.product}}', value_from=None, output=False)], name='subtract-2ab-and-bcd', continue_on=None, hooks=None, on_exit=None, template=Script(volumes=None, volume_devices=None, volume_mounts=None, resources=None, metrics=None, active_deadline_seconds=None, affinity=None, archive_location=None, automount_service_account_token=None, daemon=None, executor=None, fail_fast=None, host_aliases=None, init_containers=None, memoize=None, annotations=None, labels=None, name='subtract', node_selector=None, parallelism=None, http=None, plugin=None, pod_spec_patch=None, priority=None, priority_class_name=None, retry_strategy=None, scheduler_name=None, pod_security_context=None, service_account_name=None, sidecars=None, synchronization=None, timeout=None, tolerations=None, image='python:3.8', image_pull_policy=None, liveness_probe=None, ports=None, readiness_probe=None, startup_probe=None, stdin=None, stdin_once=None, termination_message_path=None, termination_message_policy=None, tty=None, inputs=None, outputs=[Parameter(default=None, description=None, enum=None, global_name=None, name='difference', value=None, value_from=ValueFrom(config_map_key_ref=None, default=None, event=None, expression=None, jq_filter=None, json_path=None, parameter=None, path='./difference.txt', supplied=None), output=False)], env=None, env_from=None, arguments=None, container_name=None, args=None, command=['python'], lifecycle=None, security_context=None, source=<function subtract at 0x000000B7534F9F80>, working_dir=None, add_cwd_to_sys_path=True, constructor=InlineScriptConstructor(add_cwd_to_sys_path=None)), template_ref=None, inline=None, when=None, with_sequence=None, dependencies=None, depends='multiply-2a-and-b && multiply-bc-and-d')]),\n",
       " Script(volumes=None, volume_devices=None, volume_mounts=None, resources=None, metrics=None, active_deadline_seconds=None, affinity=None, archive_location=None, automount_service_account_token=None, daemon=None, executor=None, fail_fast=None, host_aliases=None, init_containers=None, memoize=None, annotations=None, labels=None, name='multiply', node_selector=None, parallelism=None, http=None, plugin=None, pod_spec_patch=None, priority=None, priority_class_name=None, retry_strategy=None, scheduler_name=None, pod_security_context=None, service_account_name=None, sidecars=None, synchronization=None, timeout=None, tolerations=None, image='python:3.8', image_pull_policy=None, liveness_probe=None, ports=None, readiness_probe=None, startup_probe=None, stdin=None, stdin_once=None, termination_message_path=None, termination_message_policy=None, tty=None, inputs=None, outputs=[Parameter(default=None, description=None, enum=None, global_name=None, name='product', value=None, value_from=ValueFrom(config_map_key_ref=None, default=None, event=None, expression=None, jq_filter=None, json_path=None, parameter=None, path='./product.txt', supplied=None), output=False)], env=None, env_from=None, arguments=None, container_name=None, args=None, command=['python'], lifecycle=None, security_context=None, source=<function multiply at 0x000000B7534F9DA0>, working_dir=None, add_cwd_to_sys_path=True, constructor=InlineScriptConstructor(add_cwd_to_sys_path=None)),\n",
       " Script(volumes=None, volume_devices=None, volume_mounts=None, resources=None, metrics=None, active_deadline_seconds=None, affinity=None, archive_location=None, automount_service_account_token=None, daemon=None, executor=None, fail_fast=None, host_aliases=None, init_containers=None, memoize=None, annotations=None, labels=None, name='subtract', node_selector=None, parallelism=None, http=None, plugin=None, pod_spec_patch=None, priority=None, priority_class_name=None, retry_strategy=None, scheduler_name=None, pod_security_context=None, service_account_name=None, sidecars=None, synchronization=None, timeout=None, tolerations=None, image='python:3.8', image_pull_policy=None, liveness_probe=None, ports=None, readiness_probe=None, startup_probe=None, stdin=None, stdin_once=None, termination_message_path=None, termination_message_policy=None, tty=None, inputs=None, outputs=[Parameter(default=None, description=None, enum=None, global_name=None, name='difference', value=None, value_from=ValueFrom(config_map_key_ref=None, default=None, event=None, expression=None, jq_filter=None, json_path=None, parameter=None, path='./difference.txt', supplied=None), output=False)], env=None, env_from=None, arguments=None, container_name=None, args=None, command=['python'], lifecycle=None, security_context=None, source=<function subtract at 0x000000B7534F9F80>, working_dir=None, add_cwd_to_sys_path=True, constructor=InlineScriptConstructor(add_cwd_to_sys_path=None))]"
      ]
     },
     "execution_count": 56,
     "metadata": {},
     "output_type": "execute_result"
    }
   ],
   "source": [
    "wt.templates"
   ]
  },
  {
   "cell_type": "code",
   "execution_count": 57,
   "metadata": {},
   "outputs": [
    {
     "data": {
      "text/plain": [
       "{'__wrapped__': <function __main__.multiply(a: float, b: float)>,\n",
       " 'wrapped_function': <function __main__.multiply(a: float, b: float)>}"
      ]
     },
     "execution_count": 57,
     "metadata": {},
     "output_type": "execute_result"
    }
   ],
   "source": [
    "multiply.__dict__"
   ]
  },
  {
   "cell_type": "code",
   "execution_count": 41,
   "metadata": {},
   "outputs": [],
   "source": [
    "from typing import Tuple\n",
    "\n",
    "def test_func(a: int, b: int = 1) -> Tuple[int,int]:\n",
    "    return a,b"
   ]
  },
  {
   "cell_type": "code",
   "execution_count": 61,
   "metadata": {},
   "outputs": [
    {
     "name": "stdout",
     "output_type": "stream",
     "text": [
      "Function content: ['def test_func(a: int, b: int=1) -> Tuple[int, int]:', '    return (a, b)']\n",
      "Line 0: def test_func(a: int, b: int=1) -> Tuple[int, int]:\n",
      "Line 1:     return (a, b)\n"
     ]
    }
   ],
   "source": [
    "from hera.workflows._unparse import roundtrip\n",
    "import textwrap\n",
    "import inspect\n",
    "test_content = roundtrip(textwrap.dedent(inspect.getsource(test_func))).splitlines()\n",
    "\n",
    "print(f\"Function content: {test_content}\")\n",
    "\n",
    "for i, line in enumerate(test_content):\n",
    "    print(f\"Line {i}: {line}\")"
   ]
  },
  {
   "cell_type": "code",
   "execution_count": 62,
   "metadata": {},
   "outputs": [
    {
     "data": {
      "text/plain": [
       "mappingproxy({'a': <Parameter \"a: int\">, 'b': <Parameter \"b: int = 1\">})"
      ]
     },
     "execution_count": 62,
     "metadata": {},
     "output_type": "execute_result"
    }
   ],
   "source": [
    "test_params = inspect.signature(test_func).parameters\n",
    "test_params"
   ]
  },
  {
   "cell_type": "code",
   "execution_count": 63,
   "metadata": {},
   "outputs": [
    {
     "data": {
      "text/plain": [
       "(inspect._empty, 1)"
      ]
     },
     "execution_count": 63,
     "metadata": {},
     "output_type": "execute_result"
    }
   ],
   "source": [
    "test_params['a'].default, test_params['b'].default"
   ]
  },
  {
   "cell_type": "code",
   "execution_count": 64,
   "metadata": {},
   "outputs": [
    {
     "data": {
      "text/plain": [
       "FullArgSpec(args=['a', 'b'], varargs=None, varkw=None, defaults=(1,), kwonlyargs=[], kwonlydefaults=None, annotations={'return': typing.Tuple[int, int], 'a': <class 'int'>, 'b': <class 'int'>})"
      ]
     },
     "execution_count": 64,
     "metadata": {},
     "output_type": "execute_result"
    }
   ],
   "source": [
    "inspect.getfullargspec(test_func)"
   ]
  },
  {
   "cell_type": "code",
   "execution_count": null,
   "metadata": {},
   "outputs": [],
   "source": [
    "wt.to_file"
   ]
  }
 ],
 "metadata": {
  "kernelspec": {
   "display_name": "Python 3",
   "language": "python",
   "name": "python3"
  },
  "language_info": {
   "codemirror_mode": {
    "name": "ipython",
    "version": 3
   },
   "file_extension": ".py",
   "mimetype": "text/x-python",
   "name": "python",
   "nbconvert_exporter": "python",
   "pygments_lexer": "ipython3",
   "version": "3.11.8"
  },
  "orig_nbformat": 4
 },
 "nbformat": 4,
 "nbformat_minor": 2
}
