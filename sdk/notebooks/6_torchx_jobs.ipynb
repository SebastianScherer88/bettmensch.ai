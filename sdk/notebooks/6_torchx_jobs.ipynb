{
 "cells": [
  {
   "cell_type": "code",
   "execution_count": 9,
   "metadata": {},
   "outputs": [],
   "source": [
    "import os\n",
    "import torchx.specs as specs\n",
    "from torchx.components.utils import echo\n",
    "from torchx.components.dist import ddp\n",
    "from torchx.runner import get_runner\n",
    "import subprocess"
   ]
  },
  {
   "cell_type": "code",
   "execution_count": 10,
   "metadata": {},
   "outputs": [
    {
     "data": {
      "text/plain": [
       "'kubernetes://torchx/default:echo-wl3szwnc0hrnt'"
      ]
     },
     "execution_count": 10,
     "metadata": {},
     "output_type": "execute_result"
    }
   ],
   "source": [
    "get_runner().run(echo(msg=\"hello world\"), scheduler=\"kubernetes\", cfg={'queue':'default'})"
   ]
  },
  {
   "cell_type": "code",
   "execution_count": 4,
   "metadata": {},
   "outputs": [
    {
     "data": {
      "text/plain": [
       "Resource(cpu=4, gpu=2, memMB=16000, capabilities={'node.kubernetes.io/instance-type': '<cloud instance type>'}, devices={})"
      ]
     },
     "execution_count": 4,
     "metadata": {},
     "output_type": "execute_result"
    }
   ],
   "source": [
    "from torchx import specs\n",
    "specs.Resource(\n",
    "     cpu=4,\n",
    "     memMB=16000,\n",
    "     gpu=2,\n",
    "     capabilities={\n",
    "         \"node.kubernetes.io/instance-type\": \"<cloud instance type>\",\n",
    "     },\n",
    ")"
   ]
  },
  {
   "cell_type": "code",
   "execution_count": 11,
   "metadata": {},
   "outputs": [
    {
     "data": {
      "text/plain": [
       "'local_docker://torchx/dist_app-x573ppkfkf3xpd'"
      ]
     },
     "execution_count": 11,
     "metadata": {},
     "output_type": "execute_result"
    }
   ],
   "source": [
    "get_runner().run(ddp(script=\"./dist_app.py\",j=\"2x2\",cpu=1,memMB=100), scheduler=\"local_docker\", cfg={'queue':'default'}) # this wont display logs in the notebook chunk output"
   ]
  },
  {
   "cell_type": "code",
   "execution_count": 12,
   "metadata": {},
   "outputs": [
    {
     "name": "stderr",
     "output_type": "stream",
     "text": [
      "torchx 2024-06-13 10:02:37 INFO     Tracker configurations: {}\n",
      "torchx 2024-06-13 10:02:37 INFO     Checking for changes in workspace `file:///home/ubuntu/repositories/bettmensch.ai/sdk/notebooks`...\n",
      "torchx 2024-06-13 10:02:37 INFO     To disable workspaces pass: --workspace=\"\" from CLI or workspace=None programmatically.\n",
      "torchx 2024-06-13 10:02:37 INFO     Workspace `file:///home/ubuntu/repositories/bettmensch.ai/sdk/notebooks` resolved to filesystem path `/home/ubuntu/repositories/bettmensch.ai/sdk/notebooks`\n",
      "torchx 2024-06-13 10:02:38 INFO     Building workspace docker image (this may take a while)...\n",
      "torchx 2024-06-13 10:02:38 INFO     Built new image `sha256:3e1e4a7b117e6aead05f5a7623b71fb91e76a85f741a270ac89cce639e48d22e` based on original image `ghcr.io/pytorch/torchx:0.6.0` and changes in workspace `file:///home/ubuntu/repositories/bettmensch.ai/sdk/notebooks` for role[0]=dist_app.\n"
     ]
    },
    {
     "name": "stdout",
     "output_type": "stream",
     "text": [
      "local_docker://torchx/dist_app-v0rlqqd9zfbclc\n"
     ]
    },
    {
     "name": "stderr",
     "output_type": "stream",
     "text": [
      "torchx 2024-06-13 10:02:40 INFO     Waiting for the app to finish...\n",
      "dist_app/1 master_addr is only used for static rdzv_backend and when rdzv_endpoint is not specified.\n",
      "dist_app/1 WARNING:torch.distributed.run:\n",
      "dist_app/1 *****************************************\n",
      "dist_app/1 Setting OMP_NUM_THREADS environment variable for each process to be 1 in default, to avoid your system being overloaded, please further tune the variable for optimal performance in your application as needed. \n",
      "dist_app/1 *****************************************\n",
      "dist_app/0 master_addr is only used for static rdzv_backend and when rdzv_endpoint is not specified.\n",
      "dist_app/0 WARNING:torch.distributed.run:\n",
      "dist_app/0 *****************************************\n",
      "dist_app/0 Setting OMP_NUM_THREADS environment variable for each process to be 1 in default, to avoid your system being overloaded, please further tune the variable for optimal performance in your application as needed. \n",
      "dist_app/0 *****************************************\n",
      "dist_app/1 [0]:I am worker 2 of 4!\n",
      "dist_app/1 [0]:all_reduce output = tensor([6])\n",
      "dist_app/1 [1]:I am worker 3 of 4!\n",
      "dist_app/1 [1]:all_reduce output = tensor([6])\n",
      "dist_app/0 [0]:I am worker 0 of 4!\n",
      "dist_app/0 [0]:all_reduce output = tensor([6])\n",
      "dist_app/0 [1]:I am worker 1 of 4!\n",
      "dist_app/0 [1]:all_reduce output = tensor([6])\n",
      "torchx 2024-06-13 10:03:00 INFO     Job finished: SUCCEEDED\n"
     ]
    },
    {
     "data": {
      "text/plain": [
       "CompletedProcess(args=['torchx', 'run', '--scheduler', 'local_docker', 'dist.ddp', '-j', '2x2', '--script', './dist_app.py'], returncode=0)"
      ]
     },
     "execution_count": 12,
     "metadata": {},
     "output_type": "execute_result"
    }
   ],
   "source": [
    "subprocess.run([\"torchx\", \"run\", \"--scheduler\", \"local_docker\", \"dist.ddp\", \"-j\", \"2x2\", \"--script\", \"./dist_app.py\"]) # CLI command equivalent to previous chunk"
   ]
  },
  {
   "cell_type": "code",
   "execution_count": 18,
   "metadata": {},
   "outputs": [
    {
     "name": "stderr",
     "output_type": "stream",
     "text": [
      "torchx 2024-06-13 14:17:01 INFO     Tracker configurations: {}\n",
      "torchx 2024-06-13 14:17:01 INFO     Checking for changes in workspace `file:///home/ubuntu/repositories/bettmensch.ai/sdk/notebooks`...\n",
      "torchx 2024-06-13 14:17:01 INFO     To disable workspaces pass: --workspace=\"\" from CLI or workspace=None programmatically.\n",
      "torchx 2024-06-13 14:17:01 INFO     Workspace `file:///home/ubuntu/repositories/bettmensch.ai/sdk/notebooks` resolved to filesystem path `/home/ubuntu/repositories/bettmensch.ai/sdk/notebooks`\n",
      "torchx 2024-06-13 14:17:02 INFO     Building workspace docker image (this may take a while)...\n",
      "torchx 2024-06-13 14:17:02 INFO     Built new image `sha256:8fe392cce662fa25d70c326f22d534210da22bbd5aef6dd1af60a2cf5e4d8c2a` based on original image `ghcr.io/pytorch/torchx:0.6.0` and changes in workspace `file:///home/ubuntu/repositories/bettmensch.ai/sdk/notebooks` for role[0]=dist_app.\n",
      "torchx 2024-06-13 14:17:02 INFO     pushing image bettmensch88/bettmensch.ai:8fe392cce662fa25d70c326f22d534210da22bbd5aef6dd1af60a2cf5e4d8c2a...\n",
      "\u001b[34mdocker push \u001b[0mThe push refers to repository [docker.io/bettmensch88/bettmensch.ai]\n",
      "\u001b[34mdocker push \u001b[0mef0538873f53: Preparing \n",
      "\u001b[34mdocker push \u001b[0m00f8edd72a4a: Preparing \n",
      "\u001b[34mdocker push \u001b[0mea0918484cd4: Preparing \n",
      "\u001b[34mdocker push \u001b[0m83d5aeddd111: Preparing \n",
      "\u001b[34mdocker push \u001b[0m1171f4623f34: Preparing \n",
      "\u001b[34mdocker push \u001b[0mc5b358772923: Preparing \n",
      "\u001b[34mdocker push \u001b[0meb16036d83a1: Preparing \n",
      "\u001b[34mdocker push \u001b[0m527d732c9258: Preparing \n",
      "\u001b[34mdocker push \u001b[0m5f70bf18a086: Preparing \n",
      "\u001b[34mdocker push \u001b[0md62d6af2f4ef: Preparing \n",
      "\u001b[34mdocker push \u001b[0m2ead6e8c217d: Preparing \n",
      "\u001b[34mdocker push \u001b[0m6f37ca73c74f: Preparing \n",
      "\u001b[7F\u001b[2K\u001b[34mdocker push \u001b[0mc5b358772923: Waiting \u001b[7E\u001b[6F\u001b[2K\u001b[34mdocker push \u001b[0meb16036d83a1: Waiting \u001b[6E\u001b[5F\u001b[2K\u001b[34mdocker push \u001b[0m527d732c9258: Waiting \u001b[5E\u001b[4F\u001b[2K\u001b[34mdocker push \u001b[0m5f70bf18a086: Waiting \u001b[4E\u001b[3F\u001b[2K\u001b[34mdocker push \u001b[0md62d6af2f4ef: Waiting \u001b[3E\u001b[2F\u001b[2K\u001b[34mdocker push \u001b[0m2ead6e8c217d: Waiting \u001b[2E\u001b[1F\u001b[2K\u001b[34mdocker push \u001b[0m6f37ca73c74f: Waiting \u001b[1E\u001b[8F\u001b[2K\u001b[34mdocker push \u001b[0m1171f4623f34: Layer already exists \u001b[8E\u001b[9F\u001b[2K\u001b[34mdocker push \u001b[0m83d5aeddd111: Layer already exists \u001b[9E\u001b[11F\u001b[2K\u001b[34mdocker push \u001b[0m00f8edd72a4a: Layer already exists \u001b[11E\u001b[10F\u001b[2K\u001b[34mdocker push \u001b[0mea0918484cd4: Layer already exists \u001b[10E\u001b[12F\u001b[2K\u001b[34mdocker push \u001b[0mef0538873f53: Layer already exists \u001b[12E\u001b[7F\u001b[2K\u001b[34mdocker push \u001b[0mc5b358772923: Layer already exists \u001b[7E\u001b[5F\u001b[2K\u001b[34mdocker push \u001b[0m527d732c9258: Layer already exists \u001b[5E\u001b[6F\u001b[2K\u001b[34mdocker push \u001b[0meb16036d83a1: Layer already exists \u001b[6E\u001b[2F\u001b[2K\u001b[34mdocker push \u001b[0m2ead6e8c217d: Layer already exists \u001b[2E\u001b[1F\u001b[2K\u001b[34mdocker push \u001b[0m6f37ca73c74f: Layer already exists \u001b[1E\u001b[3F\u001b[2K\u001b[34mdocker push \u001b[0md62d6af2f4ef: Layer already exists \u001b[3E\u001b[4F\u001b[2K\u001b[34mdocker push \u001b[0m5f70bf18a086: Layer already exists \u001b[4E\u001b[34mdocker push \u001b[0m8fe392cce662fa25d70c326f22d534210da22bbd5aef6dd1af60a2cf5e4d8c2a: digest: sha256:3a90595938b6418663e5856b72340e212f0aa668f113f38e4c2773e6043cd3b7 size: 2833\n"
     ]
    },
    {
     "name": "stdout",
     "output_type": "stream",
     "text": [
      "kubernetes://torchx/default:distapp-lpkk5t3wnxj4nd\n"
     ]
    },
    {
     "name": "stderr",
     "output_type": "stream",
     "text": [
      "torchx 2024-06-13 14:17:04 INFO     Launched app: kubernetes://torchx/default:distapp-lpkk5t3wnxj4nd\n",
      "torchx 2024-06-13 14:17:04 INFO     AppStatus:\n",
      "    State: UNKNOWN\n",
      "    Num Restarts: -1\n",
      "    Roles: \n",
      "    Msg: <NONE>\n",
      "    Structured Error Msg: <NONE>\n",
      "    UI URL: None\n",
      "    \n"
     ]
    },
    {
     "data": {
      "text/plain": [
       "CompletedProcess(args=['torchx', 'run', '--scheduler', 'kubernetes', '-cfg', 'queue=default,image_repo=bettmensch88/bettmensch.ai', 'dist.ddp', '--cpu', '1', '--memMB', '500', '-j', '2x2', '--script', './dist_app.py'], returncode=0)"
      ]
     },
     "execution_count": 18,
     "metadata": {},
     "output_type": "execute_result"
    }
   ],
   "source": [
    "subprocess.run([\"torchx\", \"run\", \"--scheduler\", \"kubernetes\", \"-cfg\",\"queue=default,image_repo=bettmensch88/bettmensch.ai\", \"dist.ddp\", \"--cpu\",\"1\",\"--memMB\",\"500\",\"-j\", \"2x2\", \"--script\", \"./dist_app.py\"])"
   ]
  },
  {
   "cell_type": "code",
   "execution_count": null,
   "metadata": {},
   "outputs": [],
   "source": []
  }
 ],
 "metadata": {
  "kernelspec": {
   "display_name": "Python 3",
   "language": "python",
   "name": "python3"
  },
  "language_info": {
   "codemirror_mode": {
    "name": "ipython",
    "version": 3
   },
   "file_extension": ".py",
   "mimetype": "text/x-python",
   "name": "python",
   "nbconvert_exporter": "python",
   "pygments_lexer": "ipython3",
   "version": "3.10.12"
  },
  "orig_nbformat": 4
 },
 "nbformat": 4,
 "nbformat_minor": 2
}
