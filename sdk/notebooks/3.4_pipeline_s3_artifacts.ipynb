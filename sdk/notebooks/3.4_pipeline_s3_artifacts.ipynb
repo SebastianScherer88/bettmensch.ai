{
 "cells": [
  {
   "cell_type": "code",
   "execution_count": 56,
   "metadata": {},
   "outputs": [],
   "source": [
    "from hera.shared import global_config\n",
    "from hera.auth import ArgoCLITokenGenerator\n",
    "\n",
    "global_config.host = \"https://127.0.0.1:2746\"\n",
    "global_config.token = ArgoCLITokenGenerator\n",
    "global_config.verify_ssl = False"
   ]
  },
  {
   "attachments": {},
   "cell_type": "markdown",
   "metadata": {},
   "source": [
    "## WorkflowTemplate <-> Pipeline & Workflow <-> Flow\n",
    "\n",
    "WorkFlowTemplates crucially allow the definition of parameters as input variables to the entire workflow *without specifying a value*. You can also specify the default value, but it is possible to omit in cases where a sensible value just doesnt apply.\n",
    "\n",
    "Submitting these WorkFlow templates doesnt execute anything on the ArgoWorkflow engine, but rather adds a template that future `Workflow`s can be derived from, together with configurable workflow input parameters.\n",
    "\n",
    "This allows for the following entity mapping between bettmensch.ai pipelines and ArgoWorkflow resources:\n",
    "\n",
    "| bettmensch.ai | ArgoWorkflow      |\n",
    "| --------------|-------------------|\n",
    "| `Flow`        | `WorkflowTemplate`|\n",
    "| `Run`         | `Workflow`        |"
   ]
  },
  {
   "attachments": {},
   "cell_type": "markdown",
   "metadata": {},
   "source": [
    "## Define script templates"
   ]
  },
  {
   "cell_type": "code",
   "execution_count": 2,
   "metadata": {},
   "outputs": [
    {
     "data": {
      "text/plain": [
       "(function, function)"
      ]
     },
     "execution_count": 2,
     "metadata": {},
     "output_type": "execute_result"
    }
   ],
   "source": [
    "from hera.workflows import script, Parameter, Artifact, models as m\n",
    "from pathlib import Path\n",
    "\n",
    "@script(outputs=[Artifact(name=\"product\",path=\"./product.txt\")],)\n",
    "def multiply(a: float, b: float):\n",
    "    \n",
    "    with open('./product.txt','w') as output:\n",
    "        output.write(str(a * b))\n",
    "        \n",
    "@script(inputs=[Artifact(name='artifact_i',path=\"/tmp/artifact_i\")],\n",
    "        outputs=[Artifact(name=\"artifact_o_1\",path=\"/tmp/artifact_o_1.txt\"),\n",
    "                 Artifact(name=\"artifact_o_2\",path=\"/tmp/artifact_o_2.txt\")])\n",
    "def artifact_io(a: float = 0.1):\n",
    "    with open('./tmp/artifact_i','r') as a_file:\n",
    "        art_in = a_file.read()\n",
    "        \n",
    "    print(art_in)\n",
    "    print('Workflow uid: {{workflow.uid}}')\n",
    "    print('Task name: {{tasks.name}}')\n",
    "    task_name = '{{tasks.name}}'\n",
    "    task_id_reference = f'tasks.{task_name}.id'\n",
    "    task_id = '{{'+str(task_id_reference)+'}}'\n",
    "    print(f'Assigned task name: {task_name}')\n",
    "    print(f'Assigned task id: {task_id}') \n",
    "        \n",
    "    with open('/tmp/artifact_o_1.txt','w') as output:\n",
    "        output.write(str(art_in))\n",
    "        \n",
    "    with open('/tmp/artifact_o_2.txt','w') as output:\n",
    "        output.writelines([str(task_name),'\\n',str(task_id_reference),'\\n',str(task_id)])\n",
    "type(multiply), type(artifact_io)"
   ]
  },
  {
   "attachments": {},
   "cell_type": "markdown",
   "metadata": {},
   "source": [
    "## Define Workflow and DAG"
   ]
  },
  {
   "cell_type": "code",
   "execution_count": 3,
   "metadata": {},
   "outputs": [],
   "source": [
    "from hera.workflows import WorkflowTemplate, DAG, Parameter, S3Artifact\n",
    "from hera.workflows.models import ArtifactRepositoryRef\n",
    "\n",
    "dag_name = \"s3-artifact-io\"\n",
    "\n",
    "with WorkflowTemplate(\n",
    "    generate_name=\"s3-artifact-io-\", \n",
    "    entrypoint=dag_name,\n",
    "    namespace=\"argo\",\n",
    "    arguments=[Parameter(name=\"a\"),Parameter(name=\"b\")],\n",
    "    # the Workflow referencing this template inherits the `spec` level `workflow_metadata` field from this WorkflowTemplate, so\n",
    "    # when submitting via .create(), the workflow metadata does get merged into the Workflow CRD manifest before being applied to the K8s cluster\n",
    "    #artifact_repository_ref={\"configmap\":\"bettmensch-ai-artifact-repository\",\"key\":\"bettmensch-ai-artifact-repository\"}\n",
    "    ) as wt:\n",
    "    \n",
    "    wt_a, wt_b, = wt.get_parameter('a').value,wt.get_parameter('b').value \n",
    "    \n",
    "    with DAG(name=dag_name) as dag:\n",
    "        \n",
    "        a_times_b = multiply(\n",
    "            name=\"multiply-a-and-b\",arguments=[\n",
    "                Parameter(name=\"a\",value=wt_a),\n",
    "                Parameter(name=\"b\",value=wt_b)\n",
    "            ]\n",
    "        )\n",
    "        artifact_io = artifact_io(\n",
    "            name=\"artifact-io\",\n",
    "            arguments=[\n",
    "                a_times_b.get_artifact('product').with_name(\"artifact_i\"),\n",
    "            ],    \n",
    "        )\n",
    "        a_times_b >> artifact_io "
   ]
  },
  {
   "cell_type": "code",
   "execution_count": 4,
   "metadata": {},
   "outputs": [
    {
     "data": {
      "text/plain": [
       "WindowsPath('c:/Users/bettmensch/GitReps/bettmensch.ai/sdk/notebooks/s3-artifact-io.yaml')"
      ]
     },
     "execution_count": 4,
     "metadata": {},
     "output_type": "execute_result"
    }
   ],
   "source": [
    "wt.to_file('.')"
   ]
  },
  {
   "cell_type": "code",
   "execution_count": 66,
   "metadata": {},
   "outputs": [
    {
     "name": "stderr",
     "output_type": "stream",
     "text": [
      "c:\\Users\\bettmensch\\AppData\\Local\\Programs\\Python\\Python311\\Lib\\site-packages\\urllib3\\connectionpool.py:1061: InsecureRequestWarning: Unverified HTTPS request is being made to host '127.0.0.1'. Adding certificate verification is strongly advised. See: https://urllib3.readthedocs.io/en/1.26.x/advanced-usage.html#ssl-warnings\n",
      "  warnings.warn(\n"
     ]
    },
    {
     "data": {
      "text/plain": [
       "WorkflowTemplate(api_version=None, kind=None, metadata=ObjectMeta(annotations=None, cluster_name=None, creation_timestamp=Time(__root__=datetime.datetime(2024, 5, 27, 11, 24, 58, tzinfo=datetime.timezone.utc)), deletion_grace_period_seconds=None, deletion_timestamp=None, finalizers=None, generate_name='s3-artifact-io-', generation=1, labels={'workflows.argoproj.io/creator': 'system-serviceaccount-argo-argo-server'}, managed_fields=[ManagedFieldsEntry(api_version='argoproj.io/v1alpha1', fields_type='FieldsV1', fields_v1=FieldsV1(), manager='argo', operation='Update', subresource=None, time=Time(__root__=datetime.datetime(2024, 5, 27, 11, 24, 58, tzinfo=datetime.timezone.utc)))], name='s3-artifact-io-jzvcb', namespace='argo', owner_references=None, resource_version='644416', self_link=None, uid='472e6315-c4b4-4eac-94e1-3b7c5f30c4fc'), spec=WorkflowSpec(active_deadline_seconds=None, affinity=None, archive_logs=None, arguments=Arguments(artifacts=None, parameters=[Parameter(default=None, description=None, enum=None, global_name=None, name='a', value=None, value_from=None), Parameter(default=None, description=None, enum=None, global_name=None, name='b', value=None, value_from=None)]), artifact_gc=None, artifact_repository_ref=None, automount_service_account_token=None, dns_config=None, dns_policy=None, entrypoint='s3-artifact-io', executor=None, hooks=None, host_aliases=None, host_network=None, image_pull_secrets=None, metrics=None, node_selector=None, on_exit=None, parallelism=None, pod_disruption_budget=None, pod_gc=None, pod_metadata=None, pod_priority=None, pod_priority_class_name=None, pod_spec_patch=None, priority=None, retry_strategy=None, scheduler_name=None, security_context=None, service_account_name=None, shutdown=None, suspend=None, synchronization=None, template_defaults=None, templates=[Template(active_deadline_seconds=None, affinity=None, archive_location=None, automount_service_account_token=None, container=None, container_set=None, daemon=None, dag=DAGTemplate(fail_fast=None, target=None, tasks=[DAGTask(arguments=Arguments(artifacts=None, parameters=[Parameter(default=None, description=None, enum=None, global_name=None, name='a', value='{{workflow.parameters.a}}', value_from=None), Parameter(default=None, description=None, enum=None, global_name=None, name='b', value='{{workflow.parameters.b}}', value_from=None)]), continue_on=None, dependencies=None, depends=None, hooks=None, inline=None, name='multiply-a-and-b', on_exit=None, template='multiply', template_ref=None, when=None, with_items=None, with_param=None, with_sequence=None), DAGTask(arguments=Arguments(artifacts=[Artifact(archive=None, archive_logs=None, artifact_gc=None, artifactory=None, azure=None, deleted=None, from_='{{tasks.multiply-a-and-b.outputs.artifacts.product}}', from_expression=None, gcs=None, git=None, global_name=None, hdfs=None, http=None, mode=None, name='artifact_i', optional=None, oss=None, path=None, raw=None, recurse_mode=None, s3=None, sub_path=None)], parameters=None), continue_on=None, dependencies=None, depends='multiply-a-and-b', hooks=None, inline=None, name='artifact-io', on_exit=None, template='artifact-io', template_ref=None, when=None, with_items=None, with_param=None, with_sequence=None)]), data=None, executor=None, fail_fast=None, host_aliases=None, http=None, init_containers=None, inputs=Inputs(artifacts=None, parameters=None), memoize=None, metadata=Metadata(annotations=None, labels=None), metrics=None, name='s3-artifact-io', node_selector=None, outputs=Outputs(artifacts=None, exit_code=None, parameters=None, result=None), parallelism=None, plugin=None, pod_spec_patch=None, priority=None, priority_class_name=None, resource=None, retry_strategy=None, scheduler_name=None, script=None, security_context=None, service_account_name=None, sidecars=None, steps=None, suspend=None, synchronization=None, timeout=None, tolerations=None, volumes=None), Template(active_deadline_seconds=None, affinity=None, archive_location=None, automount_service_account_token=None, container=None, container_set=None, daemon=None, dag=None, data=None, executor=None, fail_fast=None, host_aliases=None, http=None, init_containers=None, inputs=Inputs(artifacts=None, parameters=[Parameter(default=None, description=None, enum=None, global_name=None, name='a', value=None, value_from=None), Parameter(default=None, description=None, enum=None, global_name=None, name='b', value=None, value_from=None)]), memoize=None, metadata=Metadata(annotations=None, labels=None), metrics=None, name='multiply', node_selector=None, outputs=Outputs(artifacts=[Artifact(archive=None, archive_logs=None, artifact_gc=None, artifactory=None, azure=None, deleted=None, from_=None, from_expression=None, gcs=None, git=None, global_name=None, hdfs=None, http=None, mode=None, name='product', optional=None, oss=None, path='./product.txt', raw=None, recurse_mode=None, s3=None, sub_path=None)], exit_code=None, parameters=None, result=None), parallelism=None, plugin=None, pod_spec_patch=None, priority=None, priority_class_name=None, resource=None, retry_strategy=None, scheduler_name=None, script=ScriptTemplate(args=None, command=['python'], env=None, env_from=None, image='python:3.8', image_pull_policy=None, lifecycle=None, liveness_probe=None, name='', ports=None, readiness_probe=None, resources=ResourceRequirements(limits=None, requests=None), security_context=None, source=\"import os\\nimport sys\\nsys.path.append(os.getcwd())\\nimport json\\ntry: a = json.loads(r'''{{inputs.parameters.a}}''')\\nexcept: a = r'''{{inputs.parameters.a}}'''\\ntry: b = json.loads(r'''{{inputs.parameters.b}}''')\\nexcept: b = r'''{{inputs.parameters.b}}'''\\n\\nwith open('./product.txt', 'w') as output:\\n    output.write(str(a * b))\", startup_probe=None, stdin=None, stdin_once=None, termination_message_path=None, termination_message_policy=None, tty=None, volume_devices=None, volume_mounts=None, working_dir=None), security_context=None, service_account_name=None, sidecars=None, steps=None, suspend=None, synchronization=None, timeout=None, tolerations=None, volumes=None), Template(active_deadline_seconds=None, affinity=None, archive_location=None, automount_service_account_token=None, container=None, container_set=None, daemon=None, dag=None, data=None, executor=None, fail_fast=None, host_aliases=None, http=None, init_containers=None, inputs=Inputs(artifacts=[Artifact(archive=None, archive_logs=None, artifact_gc=None, artifactory=None, azure=None, deleted=None, from_=None, from_expression=None, gcs=None, git=None, global_name=None, hdfs=None, http=None, mode=None, name='artifact_i', optional=None, oss=None, path='/tmp/artifact_i', raw=None, recurse_mode=None, s3=None, sub_path=None)], parameters=None), memoize=None, metadata=Metadata(annotations=None, labels=None), metrics=None, name='artifact-io', node_selector=None, outputs=Outputs(artifacts=[Artifact(archive=None, archive_logs=None, artifact_gc=None, artifactory=None, azure=None, deleted=None, from_=None, from_expression=None, gcs=None, git=None, global_name=None, hdfs=None, http=None, mode=None, name='artifact_o_1', optional=None, oss=None, path='/tmp/artifact_o_1.txt', raw=None, recurse_mode=None, s3=None, sub_path=None), Artifact(archive=None, archive_logs=None, artifact_gc=None, artifactory=None, azure=None, deleted=None, from_=None, from_expression=None, gcs=None, git=None, global_name=None, hdfs=None, http=None, mode=None, name='artifact_o_2', optional=None, oss=None, path='/tmp/artifact_o_2.txt', raw=None, recurse_mode=None, s3=None, sub_path=None)], exit_code=None, parameters=None, result=None), parallelism=None, plugin=None, pod_spec_patch=None, priority=None, priority_class_name=None, resource=None, retry_strategy=None, scheduler_name=None, script=ScriptTemplate(args=None, command=['python'], env=None, env_from=None, image='python:3.8', image_pull_policy=None, lifecycle=None, liveness_probe=None, name='', ports=None, readiness_probe=None, resources=ResourceRequirements(limits=None, requests=None), security_context=None, source=\"import os\\nimport sys\\nsys.path.append(os.getcwd())\\nwith open('./tmp/artifact_i', 'r') as a_file:\\n    art_in = a_file.read()\\nprint(art_in)\\nprint('Workflow uid: {{workflow.uid}}')\\nprint('Task name: {{tasks.name}}')\\ntask_name = '{{tasks.name}}'\\ntask_id_reference = f'tasks.{task_name}.id'\\ntask_id = '{{' + str(task_id_reference) + '}}'\\nprint(f'Assigned task name: {task_name}')\\nprint(f'Assigned task id: {task_id}')\\nwith open('/tmp/artifact_o_1.txt', 'w') as output:\\n    output.write(str(art_in))\\nwith open('/tmp/artifact_o_2.txt', 'w') as output:\\n    output.writelines([str(task_name), '\\\\n', str(task_id_reference), '\\\\n', str(task_id)])\", startup_probe=None, stdin=None, stdin_once=None, termination_message_path=None, termination_message_policy=None, tty=None, volume_devices=None, volume_mounts=None, working_dir=None), security_context=None, service_account_name=None, sidecars=None, steps=None, suspend=None, synchronization=None, timeout=None, tolerations=None, volumes=None)], tolerations=None, ttl_strategy=None, volume_claim_gc=None, volume_claim_templates=None, volumes=None, workflow_metadata=None, workflow_template_ref=None))"
      ]
     },
     "execution_count": 66,
     "metadata": {},
     "output_type": "execute_result"
    }
   ],
   "source": [
    "wt.create()"
   ]
  },
  {
   "cell_type": "code",
   "execution_count": 69,
   "metadata": {},
   "outputs": [],
   "source": [
    "artifact = a_times_b.get_artifact('product').with_name(\"artifact_i\")"
   ]
  },
  {
   "cell_type": "code",
   "execution_count": 72,
   "metadata": {},
   "outputs": [
    {
     "data": {
      "text/plain": [
       "{'name': 'artifact_i',\n",
       " 'archive': None,\n",
       " 'archive_logs': None,\n",
       " 'artifact_gc': None,\n",
       " 'deleted': None,\n",
       " 'from_': '{{tasks.multiply-a-and-b.outputs.artifacts.product}}',\n",
       " 'from_expression': None,\n",
       " 'global_name': None,\n",
       " 'mode': None,\n",
       " 'path': None,\n",
       " 'recurse_mode': None,\n",
       " 'sub_path': None,\n",
       " 'loader': None,\n",
       " 'optional': None,\n",
       " 'output': False}"
      ]
     },
     "execution_count": 72,
     "metadata": {},
     "output_type": "execute_result"
    }
   ],
   "source": [
    "artifact.__dict__"
   ]
  },
  {
   "cell_type": "code",
   "execution_count": 73,
   "metadata": {},
   "outputs": [
    {
     "data": {
      "text/plain": [
       "hera.workflows.artifact.Artifact"
      ]
     },
     "execution_count": 73,
     "metadata": {},
     "output_type": "execute_result"
    }
   ],
   "source": [
    "type(artifact)"
   ]
  },
  {
   "cell_type": "code",
   "execution_count": null,
   "metadata": {},
   "outputs": [],
   "source": []
  }
 ],
 "metadata": {
  "kernelspec": {
   "display_name": "Python 3",
   "language": "python",
   "name": "python3"
  },
  "language_info": {
   "codemirror_mode": {
    "name": "ipython",
    "version": 3
   },
   "file_extension": ".py",
   "mimetype": "text/x-python",
   "name": "python",
   "nbconvert_exporter": "python",
   "pygments_lexer": "ipython3",
   "version": "3.11.8"
  },
  "orig_nbformat": 4
 },
 "nbformat": 4,
 "nbformat_minor": 2
}
